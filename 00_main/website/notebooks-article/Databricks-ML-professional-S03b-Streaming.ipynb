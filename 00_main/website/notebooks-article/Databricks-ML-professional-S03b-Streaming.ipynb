{
 "cells": [
  {
   "cell_type": "markdown",
   "metadata": {
    "application/vnd.databricks.v1+cell": {
     "cellMetadata": {
      "byteLimit": 2048000,
      "rowLimit": 10000
     },
     "inputWidgets": {},
     "nuid": "58fab4bb-231e-48cf-8ed4-fc15a1b22845",
     "showTitle": false,
     "title": ""
    }
   },
   "source": [
    "<h4 style=\"font-variant-caps: small-caps;font-size:35pt;\">Databricks-ML-professional-S03b-Streaming</h4>"
   ]
  },
  {
   "cell_type": "markdown",
   "metadata": {
    "application/vnd.databricks.v1+cell": {
     "cellMetadata": {},
     "inputWidgets": {},
     "nuid": "6b3a4ec6-4fe9-4c1e-8517-fa17a61b9f8e",
     "showTitle": false,
     "title": ""
    }
   },
   "source": [
    "<div style='background-color:black;border-radius:5px;border-top:1px solid'></div>\n",
    "<br/>\n",
    "<p>This Notebook adds information related to the following requirements:</p><br/>\n",
    "<b>Streaming:</b>\n",
    "<ul>\n",
    "<li>Describe Structured Streaming as a common processing tool for ETL pipelines</li>\n",
    "<li>Identify structured streaming as a continuous inference solution on incoming data</li>\n",
    "<li>Describe why complex business logic must be handled in streaming deployments</li>\n",
    "<li>Identify that data can arrive out-of-order with structured streaming</li>\n",
    "<li>Identify continuous predictions in time-based prediction store as a scenario for streaming deployments</li>\n",
    "<li>Convert a batch deployment pipeline inference to a streaming deployment pipeline</li>\n",
    "<li>Convert a batch deployment pipeline writing to a streaming deployment pipeline</li>\n",
    "</ul>\n",
    "<br/>\n",
    "<p><b>Download this notebook at format ipynb <a href=\"Databricks-ML-professional-S03b-Streaming.ipynb\">here</a>.</b></p>\n",
    "<br/>\n",
    "<div style='background-color:black;border-radius:5px;border-top:1px solid'></div>"
   ]
  },
  {
   "cell_type": "markdown",
   "metadata": {
    "application/vnd.databricks.v1+cell": {
     "cellMetadata": {
      "byteLimit": 2048000,
      "rowLimit": 10000
     },
     "inputWidgets": {},
     "nuid": "2d6aaf81-c559-44bd-bc70-25852c40193d",
     "showTitle": false,
     "title": ""
    }
   },
   "source": [
    "<a id=\"streaming\"></a>\n",
    "<div style='background-color:rgba(30, 144, 255, 0.1);border-radius:5px;padding:2px;'>\n",
    "<span style=\"font-variant-caps: small-caps;font-weight:700\">1. Describe Structured Streaming as a common processing tool for ETL pipelines</span></div>\n",
    "<ul>\n",
    "<li>Latency requirement should be in between Batch and real-time deployments</li>\n",
    "<li>10-15% of use cases</li>\n",
    "<li>Use of Spark structured streaming to process many mini-batch of data</li></ul>\n",
    "<div style=\"display:block;text-align:center\"><img width=\"500px\" src=\"https://i.ibb.co/rxzz2vS/databricks-ml-pro-latency.png\"/></div>"
   ]
  },
  {
   "cell_type": "markdown",
   "metadata": {
    "application/vnd.databricks.v1+cell": {
     "cellMetadata": {
      "byteLimit": 2048000,
      "rowLimit": 10000
     },
     "inputWidgets": {},
     "nuid": "18e681ce-93ed-4c38-814e-6d851bb56281",
     "showTitle": false,
     "title": ""
    }
   },
   "source": [
    "<div style='background-color:rgba(30, 144, 255, 0.1);border-radius:5px;padding:2px;'>\n",
    "<span style=\"font-variant-caps: small-caps;font-weight:700\">2. Identify structured streaming as a continuous inference solution on incoming data</span></div>\n",
    "<p>Same as batch but more frequent predictions on smaller datasets.</p>"
   ]
  },
  {
   "cell_type": "markdown",
   "metadata": {
    "application/vnd.databricks.v1+cell": {
     "cellMetadata": {},
     "inputWidgets": {},
     "nuid": "d7c5a283-86e8-4c96-a5df-3081668e12ca",
     "showTitle": false,
     "title": ""
    }
   },
   "source": [
    "<div style='background-color:rgba(30, 144, 255, 0.1);border-radius:5px;padding:2px;'>\n",
    "<span style=\"font-variant-caps: small-caps;font-weight:700\">3. Describe why complex business logic must be handled in streaming deployments</span></div>\n",
    "<p>N/A</p>"
   ]
  },
  {
   "cell_type": "markdown",
   "metadata": {
    "application/vnd.databricks.v1+cell": {
     "cellMetadata": {},
     "inputWidgets": {},
     "nuid": "c8f9bd94-9cbf-45c7-b943-1118a6d7679e",
     "showTitle": false,
     "title": ""
    }
   },
   "source": [
    "<div style='background-color:rgba(30, 144, 255, 0.1);border-radius:5px;padding:2px;'>\n",
    "<span style=\"font-variant-caps: small-caps;font-weight:700\">4. Identify that data can arrive out-of-order with structured streaming</span></div>\n",
    "<p>N/A</p>"
   ]
  },
  {
   "cell_type": "markdown",
   "metadata": {
    "application/vnd.databricks.v1+cell": {
     "cellMetadata": {},
     "inputWidgets": {},
     "nuid": "b55faedd-0884-4a68-a313-1c2a46cfef6b",
     "showTitle": false,
     "title": ""
    }
   },
   "source": [
    "<div style='background-color:rgba(30, 144, 255, 0.1);border-radius:5px;padding:2px;'>\n",
    "<span style=\"font-variant-caps: small-caps;font-weight:700\">5. Identify continuous predictions in time-based prediction store as a scenario for\n",
    "streaming deployments</span></div>\n",
    "<p>N/A</p>"
   ]
  },
  {
   "cell_type": "markdown",
   "metadata": {
    "application/vnd.databricks.v1+cell": {
     "cellMetadata": {},
     "inputWidgets": {},
     "nuid": "f7938843-5ea5-4545-b399-d9f761494c00",
     "showTitle": false,
     "title": ""
    }
   },
   "source": [
    "<div style='background-color:rgba(30, 144, 255, 0.1);border-radius:5px;padding:2px;'>\n",
    "<span style=\"font-variant-caps: small-caps;font-weight:700\">6. Convert a batch deployment pipeline inference to a streaming deployment pipeline</span></div>\n",
    "<p>N/A</p>"
   ]
  },
  {
   "cell_type": "markdown",
   "metadata": {
    "application/vnd.databricks.v1+cell": {
     "cellMetadata": {},
     "inputWidgets": {},
     "nuid": "cf1e1525-b6a4-4a6e-b88e-ca131ae17ac7",
     "showTitle": false,
     "title": ""
    }
   },
   "source": [
    "<div style='background-color:rgba(30, 144, 255, 0.1);border-radius:5px;padding:2px;'>\n",
    "<span style=\"font-variant-caps: small-caps;font-weight:700\">7. Convert a batch deployment pipeline writing to a streaming deployment pipeline</span></div>\n",
    "<p>N/A</p>"
   ]
  }
 ],
 "metadata": {
  "application/vnd.databricks.v1+notebook": {
   "dashboards": [],
   "language": "python",
   "notebookMetadata": {
    "mostRecentlyExecutedCommandWithImplicitDF": {
     "commandId": 1158789969180638,
     "dataframes": [
      "_sqldf"
     ]
    },
    "pythonIndentUnit": 2
   },
   "notebookName": "Databricks-ML-professional-S03b-Streaming",
   "widgets": {}
  },
  "kernelspec": {
   "display_name": "Python 3 (ipykernel)",
   "language": "python",
   "name": "python3"
  },
  "language_info": {
   "codemirror_mode": {
    "name": "ipython",
    "version": 3
   },
   "file_extension": ".py",
   "mimetype": "text/x-python",
   "name": "python",
   "nbconvert_exporter": "python",
   "pygments_lexer": "ipython3",
   "version": "3.8.10"
  }
 },
 "nbformat": 4,
 "nbformat_minor": 4
}
