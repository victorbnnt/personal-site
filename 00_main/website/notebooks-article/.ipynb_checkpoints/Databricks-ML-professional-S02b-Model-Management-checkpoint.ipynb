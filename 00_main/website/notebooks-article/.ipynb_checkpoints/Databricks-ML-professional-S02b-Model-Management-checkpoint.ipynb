{
 "cells": [
  {
   "cell_type": "markdown",
   "metadata": {
    "application/vnd.databricks.v1+cell": {
     "cellMetadata": {
      "byteLimit": 2048000,
      "rowLimit": 10000
     },
     "inputWidgets": {},
     "nuid": "58fab4bb-231e-48cf-8ed4-fc15a1b22845",
     "showTitle": false,
     "title": ""
    }
   },
   "source": [
    "<h4 style=\"font-variant-caps: small-caps;font-size:35pt;\">Databricks-ML-professional-S02b-Model-Management</h4>"
   ]
  },
  {
   "cell_type": "markdown",
   "metadata": {
    "application/vnd.databricks.v1+cell": {
     "cellMetadata": {},
     "inputWidgets": {},
     "nuid": "8ea7e508-0409-46da-8d91-45b8932b6db0",
     "showTitle": false,
     "title": ""
    }
   },
   "source": [
    "<div style='background-color:black;border-radius:5px;border-top:1px solid'></div>\n",
    "<br/>\n",
    "<p>This Notebook adds information related to the following requirements:</p><br/>\n",
    "<b>Preprocessing Logic:</b>\n",
    "<ul>\n",
    "<li>Describe the basic purpose and user interactions with Model Registry</li>\n",
    "<li>Programmatically register a new model or new model version</li>\n",
    "<li>Add metadata to a registered model and a registered model version</li>\n",
    "<li>Identify, compare, and contrast the available model stages</li>\n",
    "<li>Transition, archive, and delete model versions</li>\n",
    "</ul>\n",
    "<br/>\n",
    "<p><b>Download this notebook at format ipynb <a href=\"Databricks-ML-professional-S02b-Model-Management.ipynb\">here</a>.</b></p>\n",
    "<br/>\n",
    "<div style='background-color:black;border-radius:5px;border-top:1px solid'></div>"
   ]
  },
  {
   "cell_type": "markdown",
   "metadata": {
    "application/vnd.databricks.v1+cell": {
     "cellMetadata": {
      "byteLimit": 2048000,
      "rowLimit": 10000
     },
     "inputWidgets": {},
     "nuid": "2d6aaf81-c559-44bd-bc70-25852c40193d",
     "showTitle": false,
     "title": ""
    }
   },
   "source": [
    "<a id=\"modelregistry\"></a>\n",
    "<div style='background-color:rgba(30, 144, 255, 0.1);border-radius:5px;padding:2px;'>\n",
    "<span style=\"font-variant-caps: small-caps;font-weight:700\">1. Describe the basic purpose and user interactions with Model Registry</span></div>"
   ]
  },
  {
   "cell_type": "markdown",
   "metadata": {
    "application/vnd.databricks.v1+cell": {
     "cellMetadata": {
      "byteLimit": 2048000,
      "rowLimit": 10000
     },
     "inputWidgets": {},
     "nuid": "5f56a473-a96c-4e5e-9819-05c6d6d9f5e9",
     "showTitle": false,
     "title": ""
    }
   },
   "source": [
    "<b>MLflow Model Registry is a collaborative hub where teams can share ML models, work together from experimentation to online testing and production, integrate with approval and governance workflows, and monitor ML deployments and their performance.</b>\n",
    "<ul>\n",
    "<li>Is a centralized model store, set of APIs, and UI, to collaboratively manage the full lifecycle of an MLflow Model.</li>\n",
    "<li>Provides model lineage (which MLflow Experiment and Run produced the model), model versioning, stage transitions (e.g. from staging to production), annotations (e.g. with comments, tags), and deployment management (e.g. which production jobs have requested a specific model version)</li>\n",
    "<li>Features of Model Registry:<ul>\n",
    "<li><b>Central Repository:</b> Register MLflow models with the MLflow Model Registry. A registered model has a unique name, version, stage, and other metadata.</li>\n",
    "<li><b>Model Versioning:</b> Automatically keep track of versions for registered models when updated.</li>\n",
    "<li><b>Model Stage:</b> Assigned preset or custom stages to each model version, like “Staging” and “Production” to represent the lifecycle of a model.</li>\n",
    "<li><b>Model Stage Transitions:</b> Record new registration events or changes as activities that automatically log users, changes, and additional metadata such as comments.</li>\n",
    "<li><b>CI/CD Workflow Integration:</b> Record stage transitions, request, review and approve changes as part of CI/CD pipelines for better control and governance.</li>\n",
    "</ul>\n",
    "</li>\n",
    "<li>Can be managed using the UI or in pure python</li>\n",
    "</ul>\n",
    "<div><img src=\"https://files.training.databricks.com/images/eLearning/ML-Part-4/model-registry.png\" style=\"height: 400px; margin: 20px\"/></div>"
   ]
  },
  {
   "cell_type": "markdown",
   "metadata": {
    "application/vnd.databricks.v1+cell": {
     "cellMetadata": {
      "byteLimit": 2048000,
      "rowLimit": 10000
     },
     "inputWidgets": {},
     "nuid": "18e681ce-93ed-4c38-814e-6d851bb56281",
     "showTitle": false,
     "title": ""
    }
   },
   "source": [
    "<a id=\"programmaticregistration\"></a>\n",
    "<div style='background-color:rgba(30, 144, 255, 0.1);border-radius:5px;padding:2px;'>\n",
    "<span style=\"font-variant-caps: small-caps;font-weight:700\">2. Programmatically register a new model or new model version</span></div>\n",
    "<p>Let's quickly train a model and programmaticaly register it to Model registry:</p>"
   ]
  },
  {
   "cell_type": "code",
   "execution_count": 0,
   "metadata": {
    "application/vnd.databricks.v1+cell": {
     "cellMetadata": {
      "byteLimit": 2048000,
      "rowLimit": 10000
     },
     "inputWidgets": {},
     "nuid": "f1f46d6d-4586-482b-ae50-60e2fe77ea64",
     "showTitle": false,
     "title": ""
    }
   },
   "outputs": [],
   "source": [
    "from sklearn.linear_model import LinearRegression\n",
    "from sklearn.model_selection import train_test_split\n",
    "#\n",
    "import seaborn as sns\n",
    "#\n",
    "import mlflow"
   ]
  },
  {
   "cell_type": "code",
   "execution_count": 0,
   "metadata": {
    "application/vnd.databricks.v1+cell": {
     "cellMetadata": {
      "byteLimit": 2048000,
      "rowLimit": 10000
     },
     "inputWidgets": {},
     "nuid": "cd267f1b-93e2-4b87-9c8f-67a979660780",
     "showTitle": false,
     "title": ""
    }
   },
   "outputs": [],
   "source": [
    "mlflow.sklearn.autolog(disable=True)"
   ]
  },
  {
   "cell_type": "code",
   "execution_count": 0,
   "metadata": {
    "application/vnd.databricks.v1+cell": {
     "cellMetadata": {
      "byteLimit": 2048000,
      "rowLimit": 10000
     },
     "inputWidgets": {},
     "nuid": "b8964a28-4864-413f-8a84-dba563093362",
     "showTitle": false,
     "title": ""
    }
   },
   "outputs": [],
   "source": [
    "diamonds_df = sns.load_dataset(\"diamonds\").drop([\"cut\", \"color\", \"clarity\"], axis=1)\n",
    "#\n",
    "X_train, X_test, y_train, y_test = train_test_split(diamonds_df.drop([\"price\"], axis=1), diamonds_df[\"price\"], test_size=0.33)\n",
    "#\n",
    "model = LinearRegression().fit(X_train, y_train)\n",
    "model_path = \"sns_diamonds\"\n",
    "#\n",
    "with mlflow.start_run(run_name=\"register_diamonds\") as run:\n",
    "    mlflow.sklearn.log_model(sk_model     =model,\n",
    "                             artifact_path=model_path)"
   ]
  },
  {
   "cell_type": "markdown",
   "metadata": {
    "application/vnd.databricks.v1+cell": {
     "cellMetadata": {},
     "inputWidgets": {},
     "nuid": "57292136-b15a-4c28-aa3f-fdeb5c7df0f9",
     "showTitle": false,
     "title": ""
    }
   },
   "source": [
    "<p>Programmaticaly register the latest logged model:</p>\n",
    "<p><i>Note that, running multiple times the command below automatically register a new model with a version number incremented by one from last registered version.</i></p>"
   ]
  },
  {
   "cell_type": "code",
   "execution_count": 0,
   "metadata": {
    "application/vnd.databricks.v1+cell": {
     "cellMetadata": {
      "byteLimit": 2048000,
      "rowLimit": 10000
     },
     "inputWidgets": {},
     "nuid": "227f1c81-1c64-4ef2-acc8-8a31472a81ad",
     "showTitle": false,
     "title": ""
    }
   },
   "outputs": [
    {
     "output_type": "stream",
     "name": "stdout",
     "output_type": "stream",
     "text": [
      "Registered model 'lr_sns_diamonds' already exists. Creating a new version of this model...\n2023/11/08 17:38:30 INFO mlflow.tracking._model_registry.client: Waiting up to 300 seconds for model version to finish creation.                     Model name: lr_sns_diamonds, version 3\nCreated version '3' of model 'lr_sns_diamonds'.\nOut[39]: <ModelVersion: creation_timestamp=1699465110132, current_stage='None', description='', last_updated_timestamp=1699465111248, name='lr_sns_diamonds', run_id='e369770189f5436fb28cd66f2a898c1d', run_link='', source='dbfs:/databricks/mlflow-tracking/3581746151855359/e369770189f5436fb28cd66f2a898c1d/artifacts/sns_diamonds', status='READY', status_message='', tags={}, user_id='victor.bonnet@avanade.com', version='3'>"
     ]
    }
   ],
   "source": [
    "# get the latest model\n",
    "latest_run_id = mlflow.search_runs().sort_values(by=\"end_time\", ascending=False).head(1)['run_id'][0]\n",
    "#\n",
    "mlflow.register_model(f\"runs:/{latest_run_id}/{model_path}\", name=\"lr_sns_diamonds\")"
   ]
  },
  {
   "cell_type": "markdown",
   "metadata": {
    "application/vnd.databricks.v1+cell": {
     "cellMetadata": {},
     "inputWidgets": {},
     "nuid": "92504d9b-e5a2-445d-8fd5-8450bd258171",
     "showTitle": false,
     "title": ""
    }
   },
   "source": [
    "<p>Alternatively, a newly logged model can be logged automatically by using parameter <code>registered_model_name</code> in <code>mlflow.sklearn.log_model</code>:</p>"
   ]
  },
  {
   "cell_type": "code",
   "execution_count": 0,
   "metadata": {
    "application/vnd.databricks.v1+cell": {
     "cellMetadata": {
      "byteLimit": 2048000,
      "rowLimit": 10000
     },
     "inputWidgets": {},
     "nuid": "cf862e16-c2e7-4972-9c5b-a1cdd74d83bc",
     "showTitle": false,
     "title": ""
    }
   },
   "outputs": [
    {
     "output_type": "stream",
     "name": "stdout",
     "output_type": "stream",
     "text": [
      "Registered model 'lr_sns_diamonds' already exists. Creating a new version of this model...\n2023/11/08 17:42:27 INFO mlflow.tracking._model_registry.client: Waiting up to 300 seconds for model version to finish creation.                     Model name: lr_sns_diamonds, version 4\nCreated version '4' of model 'lr_sns_diamonds'.\n"
     ]
    }
   ],
   "source": [
    "diamonds_df = sns.load_dataset(\"diamonds\").drop([\"cut\", \"color\", \"clarity\"], axis=1)\n",
    "#\n",
    "X_train, X_test, y_train, y_test = train_test_split(diamonds_df.drop([\"price\"], axis=1), diamonds_df[\"price\"], test_size=0.33)\n",
    "#\n",
    "model = LinearRegression().fit(X_train, y_train)\n",
    "model_path = \"sns_diamonds\"\n",
    "#\n",
    "with mlflow.start_run(run_name=\"register_diamonds\") as run:\n",
    "    mlflow.sklearn.log_model(sk_model     =model,\n",
    "                             artifact_path=model_path,\n",
    "                             registered_model_name=\"lr_sns_diamonds\")"
   ]
  },
  {
   "cell_type": "markdown",
   "metadata": {
    "application/vnd.databricks.v1+cell": {
     "cellMetadata": {},
     "inputWidgets": {},
     "nuid": "a5da6514-85ee-4c9e-95e6-1578d7cfe97c",
     "showTitle": false,
     "title": ""
    }
   },
   "source": [
    "<p>Alternatively, a new registered model can be created from scratch, and then filled with a model from an existing run:</p>"
   ]
  },
  {
   "cell_type": "code",
   "execution_count": 0,
   "metadata": {
    "application/vnd.databricks.v1+cell": {
     "cellMetadata": {
      "byteLimit": 2048000,
      "rowLimit": 10000
     },
     "inputWidgets": {},
     "nuid": "01b63980-94b5-49c3-91cd-cf244ad307bb",
     "showTitle": false,
     "title": ""
    }
   },
   "outputs": [],
   "source": [
    "from mlflow.store.artifact.runs_artifact_repo import RunsArtifactRepository"
   ]
  },
  {
   "cell_type": "code",
   "execution_count": 0,
   "metadata": {
    "application/vnd.databricks.v1+cell": {
     "cellMetadata": {
      "byteLimit": 2048000,
      "rowLimit": 10000
     },
     "inputWidgets": {},
     "nuid": "142b8774-5fbf-4de7-92c0-13e4f3ae731c",
     "showTitle": false,
     "title": ""
    }
   },
   "outputs": [
    {
     "output_type": "stream",
     "name": "stdout",
     "output_type": "stream",
     "text": [
      "2023/11/08 18:07:06 INFO mlflow.tracking._model_registry.client: Waiting up to 300 seconds for model version to finish creation.                     Model name: sns_diamonds_create, version 2\n"
     ]
    }
   ],
   "source": [
    "# Register model name in the model registry\n",
    "client = mlflow.MlflowClient()\n",
    "client.create_registered_model(\"sns_diamonds_create\")\n",
    "\n",
    "# Create a new version of the rfr model under the registered model name\n",
    "desc = \"A new version of sns diamonds dataset linear regressions model\"\n",
    "runs_uri = f\"runs:/{latest_run_id}/{model_path}\"\n",
    "model_src = RunsArtifactRepository.get_underlying_uri(runs_uri)\n",
    "mv = client.create_model_version(\"sns_diamonds_create\", model_src, latest_run_id, description=desc)"
   ]
  },
  {
   "cell_type": "markdown",
   "metadata": {
    "application/vnd.databricks.v1+cell": {
     "cellMetadata": {
      "byteLimit": 2048000,
      "rowLimit": 10000
     },
     "inputWidgets": {},
     "nuid": "881d8292-e64d-4ef3-9ed4-7be35a45f83b",
     "showTitle": false,
     "title": ""
    }
   },
   "source": [
    "<a id=\"updatemetadata\"></a>\n",
    "<div style='background-color:rgba(30, 144, 255, 0.1);border-radius:5px;padding:2px;'><span style=\"font-variant-caps: small-caps;font-weight:700\">3. Add metadata to a registered model and a registered model version</span></div>"
   ]
  },
  {
   "cell_type": "code",
   "execution_count": 0,
   "metadata": {
    "application/vnd.databricks.v1+cell": {
     "cellMetadata": {
      "byteLimit": 2048000,
      "rowLimit": 10000
     },
     "inputWidgets": {},
     "nuid": "8a2d2e59-7426-4d5f-8d97-3dcff6e5151d",
     "showTitle": false,
     "title": ""
    }
   },
   "outputs": [],
   "source": [
    "client = mlflow.MlflowClient()"
   ]
  },
  {
   "cell_type": "markdown",
   "metadata": {
    "application/vnd.databricks.v1+cell": {
     "cellMetadata": {},
     "inputWidgets": {},
     "nuid": "7d376841-9afe-45de-b705-dc073e8650fc",
     "showTitle": false,
     "title": ""
    }
   },
   "source": [
    "<p>Registered model metadata can be listed:</p>"
   ]
  },
  {
   "cell_type": "code",
   "execution_count": 0,
   "metadata": {
    "application/vnd.databricks.v1+cell": {
     "cellMetadata": {
      "byteLimit": 2048000,
      "rowLimit": 10000
     },
     "inputWidgets": {},
     "nuid": "85c05c1b-015d-405a-b6be-f8484a985d96",
     "showTitle": false,
     "title": ""
    }
   },
   "outputs": [
    {
     "output_type": "stream",
     "name": "stdout",
     "output_type": "stream",
     "text": [
      "('creation_timestamp', 1699466137758)\n('description', '')\n('last_updated_timestamp', 1699466138069)\n('latest_versions', [<ModelVersion: creation_timestamp=1699466138069, current_stage='None', description='A new version of sns diamonds dataset linear regressions model', last_updated_timestamp=1699466139004, name='sns_diamonds_create', run_id='e369770189f5436fb28cd66f2a898c1d', run_link='', source='dbfs:/databricks/mlflow-tracking/3581746151855359/e369770189f5436fb28cd66f2a898c1d/artifacts/sns_diamonds', status='READY', status_message='', tags={}, user_id='victor.bonnet@avanade.com', version='1'>])\n('name', 'sns_diamonds_create')\n('tags', {})\n"
     ]
    }
   ],
   "source": [
    "for val in client.get_registered_model(\"sns_diamonds_create\"):\n",
    "  print(val)"
   ]
  },
  {
   "cell_type": "code",
   "execution_count": 0,
   "metadata": {
    "application/vnd.databricks.v1+cell": {
     "cellMetadata": {
      "byteLimit": 2048000,
      "rowLimit": 10000
     },
     "inputWidgets": {},
     "nuid": "db526dc9-c88c-4666-8532-0888c52a3efa",
     "showTitle": false,
     "title": ""
    }
   },
   "outputs": [
    {
     "output_type": "stream",
     "name": "stdout",
     "output_type": "stream",
     "text": [
      "('creation_timestamp', 1699466137758)\n('description', '')\n('last_updated_timestamp', 1699466138069)\n('latest_versions', [<ModelVersion: creation_timestamp=1699466138069, current_stage='None', description='A new version of sns diamonds dataset linear regressions model', last_updated_timestamp=1699466139004, name='sns_diamonds_create', run_id='e369770189f5436fb28cd66f2a898c1d', run_link='', source='dbfs:/databricks/mlflow-tracking/3581746151855359/e369770189f5436fb28cd66f2a898c1d/artifacts/sns_diamonds', status='READY', status_message='', tags={}, user_id='victor.bonnet@avanade.com', version='1'>])\n('name', 'sns_diamonds_create')\n('tags', {'task': 'classification'})\n"
     ]
    }
   ],
   "source": [
    "# Set registered model tag\n",
    "client.set_registered_model_tag(\"sns_diamonds_create\", \"task\", \"classification\")\n",
    "for val in client.get_registered_model(\"sns_diamonds_create\"):\n",
    "    print(val)"
   ]
  },
  {
   "cell_type": "code",
   "execution_count": 0,
   "metadata": {
    "application/vnd.databricks.v1+cell": {
     "cellMetadata": {
      "byteLimit": 2048000,
      "rowLimit": 10000
     },
     "inputWidgets": {},
     "nuid": "3a553c4c-64f9-49c0-b5fd-4e7fbab7fade",
     "showTitle": false,
     "title": ""
    }
   },
   "outputs": [
    {
     "output_type": "stream",
     "name": "stdout",
     "output_type": "stream",
     "text": [
      "('creation_timestamp', 1699466137758)\n('description', '')\n('last_updated_timestamp', 1699466826608)\n('latest_versions', [<ModelVersion: creation_timestamp=1699466826608, current_stage='None', description='A new version of sns diamonds dataset linear regressions model', last_updated_timestamp=1699466827918, name='sns_diamonds_create', run_id='e369770189f5436fb28cd66f2a898c1d', run_link='', source='dbfs:/databricks/mlflow-tracking/3581746151855359/e369770189f5436fb28cd66f2a898c1d/artifacts/sns_diamonds', status='READY', status_message='', tags={'validation_status': 'approved'}, user_id='victor.bonnet@avanade.com', version='2'>])\n('name', 'sns_diamonds_create')\n('tags', {'task': 'classification'})\n"
     ]
    }
   ],
   "source": [
    "# Set model version tag\n",
    "client.set_model_version_tag(\"sns_diamonds_create\", \"2\", \"validation_status\", \"approved\")\n",
    "for val in client.get_registered_model(\"sns_diamonds_create\"):\n",
    "    print(val)"
   ]
  },
  {
   "cell_type": "code",
   "execution_count": 0,
   "metadata": {
    "application/vnd.databricks.v1+cell": {
     "cellMetadata": {
      "byteLimit": 2048000,
      "rowLimit": 10000
     },
     "inputWidgets": {},
     "nuid": "30836727-2f6d-46d5-bcfe-cdc65c5db4c5",
     "showTitle": false,
     "title": ""
    }
   },
   "outputs": [
    {
     "output_type": "stream",
     "name": "stdout",
     "output_type": "stream",
     "text": [
      "Description of version 1 of the model: This is the first version of sns_diamonds_create model\nDescription of version 2 of the model: A new version of sns diamonds dataset linear regressions model\n"
     ]
    }
   ],
   "source": [
    "# Add or update description\n",
    "client.update_model_version(\n",
    "    name=\"sns_diamonds_create\",\n",
    "    version=1,\n",
    "    description=\"This is the first version of sns_diamonds_create model\",\n",
    ")\n",
    "for version in client.search_model_versions(filter_string=\"name='sns_diamonds_create'\"):\n",
    "    print(f\"Description of version {version.version} of the model: {version.description}\")"
   ]
  },
  {
   "cell_type": "markdown",
   "metadata": {
    "application/vnd.databricks.v1+cell": {
     "cellMetadata": {
      "byteLimit": 2048000,
      "rowLimit": 10000
     },
     "inputWidgets": {},
     "nuid": "6bcae850-fdf3-4f95-82e4-30f46c1dca81",
     "showTitle": false,
     "title": ""
    }
   },
   "source": [
    "<p>See more information on how to update registered model <a href=\"https://mlflow.org/docs/latest/model-registry.html\" target=\"_blank\">here</a>.</p>"
   ]
  },
  {
   "cell_type": "markdown",
   "metadata": {
    "application/vnd.databricks.v1+cell": {
     "cellMetadata": {
      "byteLimit": 2048000,
      "rowLimit": 10000
     },
     "inputWidgets": {},
     "nuid": "b5f6d0da-1d81-4fa0-9770-a9e4d6863534",
     "showTitle": false,
     "title": ""
    }
   },
   "source": [
    "<a id=\"modelstages\"></a>\n",
    "<div style='background-color:rgba(30, 144, 255, 0.1);border-radius:5px;padding:2px;'>\n",
    "<span style=\"font-variant-caps: small-caps;font-weight:700\">4. Identify, compare, and contrast the available model stages</div>\n",
    "<ul><li>The MLflow Model Registry defines several model stages: \n",
    "<ul>\n",
    "<li><b>None</b>: the model is in developement</li>\n",
    "<li><b>Staging</b>: the model is to be tested</li>\n",
    "<li><b>Production</b>: the model is tested, validated and in production</li>\n",
    "<li><b>Archived</b>: backup of the model</li>\n",
    "</ul>\n",
    "</li></ul>\n",
    "<p>By default, when registered, models are associated with tag <b>None</b>.</p>"
   ]
  },
  {
   "cell_type": "markdown",
   "metadata": {
    "application/vnd.databricks.v1+cell": {
     "cellMetadata": {
      "byteLimit": 2048000,
      "rowLimit": 10000
     },
     "inputWidgets": {},
     "nuid": "39620a82-0176-40b9-971e-967fda9af39d",
     "showTitle": false,
     "title": ""
    }
   },
   "source": [
    "<a id=\"transitionarchivedelete\"></a>\n",
    "<div style='background-color:rgba(30, 144, 255, 0.1);border-radius:5px;padding:2px;'>\n",
    "<span style=\"font-variant-caps: small-caps;font-weight:700\">5. Transition, archive, and delete model versions</div>"
   ]
  },
  {
   "cell_type": "markdown",
   "metadata": {
    "application/vnd.databricks.v1+cell": {
     "cellMetadata": {
      "byteLimit": 2048000,
      "rowLimit": 10000
     },
     "inputWidgets": {},
     "nuid": "e6e849e0-455b-4487-a134-11e21627dfae",
     "showTitle": false,
     "title": ""
    }
   },
   "source": [
    "<p>List registered models and their latest version:</p>"
   ]
  },
  {
   "cell_type": "code",
   "execution_count": 0,
   "metadata": {
    "application/vnd.databricks.v1+cell": {
     "cellMetadata": {
      "byteLimit": 2048000,
      "rowLimit": 10000
     },
     "inputWidgets": {},
     "nuid": "9871bfb9-fa66-4065-a171-39a6c96ad2ae",
     "showTitle": false,
     "title": ""
    }
   },
   "outputs": [
    {
     "output_type": "display_data",
     "data": {
      "text/html": [
       "<style scoped>\n",
       "  .table-result-container {\n",
       "    max-height: 300px;\n",
       "    overflow: auto;\n",
       "  }\n",
       "  table, th, td {\n",
       "    border: 1px solid black;\n",
       "    border-collapse: collapse;\n",
       "  }\n",
       "  th, td {\n",
       "    padding: 5px;\n",
       "  }\n",
       "  th {\n",
       "    text-align: left;\n",
       "  }\n",
       "</style><div class='table-result-container'><table class='table-result'><thead style='background-color: white'><tr><th>name</th><th>run_id</th><th>latest_version</th><th>current_stage</th><th>status</th><th>tags</th><th>source</th></tr></thead><tbody><tr><td>lr_sns_diamonds</td><td>e369770189f5436fb28cd66f2a898c1d</td><td>7</td><td>None</td><td>READY</td><td>Map()</td><td>dbfs:/databricks/mlflow-tracking/3581746151855359/e369770189f5436fb28cd66f2a898c1d/artifacts/sns_diamonds</td></tr><tr><td>lr_sns_diamonds_v1</td><td>38ddf31bed524b7baf66eb93a8962754</td><td>1</td><td>None</td><td>READY</td><td>Map()</td><td>dbfs:/databricks/mlflow-tracking/3581746151855359/38ddf31bed524b7baf66eb93a8962754/artifacts/sns_diamonds</td></tr><tr><td>ml_flow_AddN_test</td><td>0620a4cfcdcd407d92bc7680cc6312f7</td><td>1</td><td>None</td><td>READY</td><td>Map()</td><td>dbfs:/databricks/mlflow-tracking/3515657616447348/0620a4cfcdcd407d92bc7680cc6312f7/artifacts/add5_model</td></tr><tr><td>register-LR-All-Features-test</td><td></td><td>2</td><td>None</td><td>READY</td><td>Map()</td><td>dbfs:/databricks/mlflow-tracking/1878608598223959/512a0de8368b446bb663288c06ed0858/artifacts/model</td></tr><tr><td>registered-5-model</td><td>17c2fb1fbdcf4bdb97cd9681cf9cca8d</td><td>1</td><td>None</td><td>READY</td><td>Map()</td><td>dbfs:/databricks/mlflow-tracking/3079599880510783/17c2fb1fbdcf4bdb97cd9681cf9cca8d/artifacts/pyfunc-model</td></tr><tr><td>sns_diamonds_create</td><td>e369770189f5436fb28cd66f2a898c1d</td><td>2</td><td>None</td><td>READY</td><td>Map(validation_status -> approved)</td><td>dbfs:/databricks/mlflow-tracking/3581746151855359/e369770189f5436fb28cd66f2a898c1d/artifacts/sns_diamonds</td></tr></tbody></table></div>"
      ]
     },
     "metadata": {
      "application/vnd.databricks.v1+output": {
       "addedWidgets": {},
       "aggData": [],
       "aggError": "",
       "aggOverflow": false,
       "aggSchema": [],
       "aggSeriesLimitReached": false,
       "aggType": "",
       "arguments": {},
       "columnCustomDisplayInfos": {},
       "data": [
        [
         "lr_sns_diamonds",
         "e369770189f5436fb28cd66f2a898c1d",
         "7",
         "None",
         "READY",
         {},
         "dbfs:/databricks/mlflow-tracking/3581746151855359/e369770189f5436fb28cd66f2a898c1d/artifacts/sns_diamonds"
        ],
        [
         "lr_sns_diamonds_v1",
         "38ddf31bed524b7baf66eb93a8962754",
         "1",
         "None",
         "READY",
         {},
         "dbfs:/databricks/mlflow-tracking/3581746151855359/38ddf31bed524b7baf66eb93a8962754/artifacts/sns_diamonds"
        ],
        [
         "ml_flow_AddN_test",
         "0620a4cfcdcd407d92bc7680cc6312f7",
         "1",
         "None",
         "READY",
         {},
         "dbfs:/databricks/mlflow-tracking/3515657616447348/0620a4cfcdcd407d92bc7680cc6312f7/artifacts/add5_model"
        ],
        [
         "register-LR-All-Features-test",
         "",
         "2",
         "None",
         "READY",
         {},
         "dbfs:/databricks/mlflow-tracking/1878608598223959/512a0de8368b446bb663288c06ed0858/artifacts/model"
        ],
        [
         "registered-5-model",
         "17c2fb1fbdcf4bdb97cd9681cf9cca8d",
         "1",
         "None",
         "READY",
         {},
         "dbfs:/databricks/mlflow-tracking/3079599880510783/17c2fb1fbdcf4bdb97cd9681cf9cca8d/artifacts/pyfunc-model"
        ],
        [
         "sns_diamonds_create",
         "e369770189f5436fb28cd66f2a898c1d",
         "2",
         "None",
         "READY",
         {
          "validation_status": "approved"
         },
         "dbfs:/databricks/mlflow-tracking/3581746151855359/e369770189f5436fb28cd66f2a898c1d/artifacts/sns_diamonds"
        ]
       ],
       "datasetInfos": [],
       "dbfsResultPath": null,
       "isJsonSchema": true,
       "metadata": {},
       "overflow": false,
       "plotOptions": {
        "customPlotOptions": {},
        "displayType": "table",
        "pivotAggregation": null,
        "pivotColumns": null,
        "xColumns": null,
        "yColumns": null
       },
       "removedWidgets": [],
       "schema": [
        {
         "metadata": "{}",
         "name": "name",
         "type": "\"string\""
        },
        {
         "metadata": "{}",
         "name": "run_id",
         "type": "\"string\""
        },
        {
         "metadata": "{}",
         "name": "latest_version",
         "type": "\"string\""
        },
        {
         "metadata": "{}",
         "name": "current_stage",
         "type": "\"string\""
        },
        {
         "metadata": "{}",
         "name": "status",
         "type": "\"string\""
        },
        {
         "metadata": "{}",
         "name": "tags",
         "type": "{\"type\":\"map\",\"keyType\":\"string\",\"valueType\":\"string\",\"valueContainsNull\":true}"
        },
        {
         "metadata": "{}",
         "name": "source",
         "type": "\"string\""
        }
       ],
       "type": "table"
      }
     },
     "output_type": "display_data"
    }
   ],
   "source": [
    "client = mlflow.MlflowClient()\n",
    "#\n",
    "registered_models = []\n",
    "for model in client.search_registered_models():\n",
    "    if len(model.latest_versions)>0:\n",
    "        registered_models.append((model.latest_versions[0].name,\n",
    "                                  model.latest_versions[0].run_id,\n",
    "                                  model.latest_versions[0].version,\n",
    "                                  model.latest_versions[0].current_stage,\n",
    "                                  model.latest_versions[0].status,\n",
    "                                  model.latest_versions[0].tags,\n",
    "                                  model.latest_versions[0].source))\n",
    "#\n",
    "display(spark.createDataFrame(registered_models, ['name', 'run_id', 'latest_version', 'current_stage', 'status', 'tags', 'source']))"
   ]
  },
  {
   "cell_type": "markdown",
   "metadata": {
    "application/vnd.databricks.v1+cell": {
     "cellMetadata": {
      "byteLimit": 2048000,
      "rowLimit": 10000
     },
     "inputWidgets": {},
     "nuid": "c5ae840a-b532-4740-a51c-53b8567fa2b7",
     "showTitle": false,
     "title": ""
    }
   },
   "source": [
    "<p>Info about one specific registered model and its latest version:</p>"
   ]
  },
  {
   "cell_type": "code",
   "execution_count": 0,
   "metadata": {
    "application/vnd.databricks.v1+cell": {
     "cellMetadata": {
      "byteLimit": 2048000,
      "rowLimit": 10000
     },
     "inputWidgets": {},
     "nuid": "90c4c973-5442-4a84-8314-70c92c8c3f81",
     "showTitle": false,
     "title": ""
    }
   },
   "outputs": [
    {
     "output_type": "stream",
     "name": "stdout",
     "output_type": "stream",
     "text": [
      "Out[28]: <RegisteredModel: creation_timestamp=1699465060750, description='', last_updated_timestamp=1699466082993, latest_versions=[<ModelVersion: creation_timestamp=1699466082993, current_stage='None', description='A new version of sns diamonds dataset linear regressions model', last_updated_timestamp=1699466084088, name='lr_sns_diamonds', run_id='e369770189f5436fb28cd66f2a898c1d', run_link='', source='dbfs:/databricks/mlflow-tracking/3581746151855359/e369770189f5436fb28cd66f2a898c1d/artifacts/sns_diamonds', status='READY', status_message='', tags={}, user_id='victor.bonnet@avanade.com', version='7'>], name='lr_sns_diamonds', tags={}>"
     ]
    }
   ],
   "source": [
    "client.get_registered_model('lr_sns_diamonds')"
   ]
  },
  {
   "cell_type": "markdown",
   "metadata": {
    "application/vnd.databricks.v1+cell": {
     "cellMetadata": {},
     "inputWidgets": {},
     "nuid": "b4e996a0-b3fa-4135-b54e-eeaef8b54fde",
     "showTitle": false,
     "title": ""
    }
   },
   "source": [
    "<p>Info about one specific model and a given version:</p>"
   ]
  },
  {
   "cell_type": "code",
   "execution_count": 0,
   "metadata": {
    "application/vnd.databricks.v1+cell": {
     "cellMetadata": {
      "byteLimit": 2048000,
      "rowLimit": 10000
     },
     "inputWidgets": {},
     "nuid": "be9ea997-228d-4692-934b-76b6513d3e59",
     "showTitle": false,
     "title": ""
    }
   },
   "outputs": [
    {
     "output_type": "stream",
     "name": "stdout",
     "output_type": "stream",
     "text": [
      "Out[32]: <ModelVersion: creation_timestamp=1699465077961, current_stage='None', description='', last_updated_timestamp=1699465079284, name='lr_sns_diamonds', run_id='e369770189f5436fb28cd66f2a898c1d', run_link='', source='dbfs:/databricks/mlflow-tracking/3581746151855359/e369770189f5436fb28cd66f2a898c1d/artifacts/sns_diamonds', status='READY', status_message='', tags={}, user_id='victor.bonnet@avanade.com', version='2'>"
     ]
    }
   ],
   "source": [
    "client.get_model_version('lr_sns_diamonds', 2)"
   ]
  },
  {
   "cell_type": "markdown",
   "metadata": {
    "application/vnd.databricks.v1+cell": {
     "cellMetadata": {},
     "inputWidgets": {},
     "nuid": "dff14a6e-6e4c-4f2b-8409-2e89eb1da7e1",
     "showTitle": false,
     "title": ""
    }
   },
   "source": [
    "<p>Transition a specific version of a registered model to a given stage. Valid values for stage are: <b>Production</b>, <b>Staging</b>, <b>Archived</b>, <b>None</b></p>"
   ]
  },
  {
   "cell_type": "code",
   "execution_count": 0,
   "metadata": {
    "application/vnd.databricks.v1+cell": {
     "cellMetadata": {
      "byteLimit": 2048000,
      "rowLimit": 10000
     },
     "inputWidgets": {},
     "nuid": "e79ff6f4-0c37-479b-a7d3-e67c3911be20",
     "showTitle": false,
     "title": ""
    }
   },
   "outputs": [
    {
     "output_type": "stream",
     "name": "stdout",
     "output_type": "stream",
     "text": [
      "Out[41]: <ModelVersion: creation_timestamp=1699465110132, current_stage='Production', description='', last_updated_timestamp=1699605828059, name='lr_sns_diamonds', run_id='e369770189f5436fb28cd66f2a898c1d', run_link='', source='dbfs:/databricks/mlflow-tracking/3581746151855359/e369770189f5436fb28cd66f2a898c1d/artifacts/sns_diamonds', status='READY', status_message='', tags={}, user_id='2329071338839022', version='3'>"
     ]
    }
   ],
   "source": [
    "client.transition_model_version_stage('lr_sns_diamonds', 3, 'Production')"
   ]
  },
  {
   "cell_type": "markdown",
   "metadata": {
    "application/vnd.databricks.v1+cell": {
     "cellMetadata": {},
     "inputWidgets": {},
     "nuid": "0b5431f9-1d59-464b-b1cc-2cf494aa92dd",
     "showTitle": false,
     "title": ""
    }
   },
   "source": [
    "<p>Archive a specific version of a registered model is the same command:</p>"
   ]
  },
  {
   "cell_type": "code",
   "execution_count": 0,
   "metadata": {
    "application/vnd.databricks.v1+cell": {
     "cellMetadata": {
      "byteLimit": 2048000,
      "rowLimit": 10000
     },
     "inputWidgets": {},
     "nuid": "c462771f-b6cf-493c-b77b-13f4311006de",
     "showTitle": false,
     "title": ""
    }
   },
   "outputs": [
    {
     "output_type": "stream",
     "name": "stdout",
     "output_type": "stream",
     "text": [
      "Out[42]: <ModelVersion: creation_timestamp=1699465347090, current_stage='Archived', description='', last_updated_timestamp=1699605913340, name='lr_sns_diamonds', run_id='622df96ffd7f48589094b425e71743e1', run_link='', source='dbfs:/databricks/mlflow-tracking/3581746151855359/622df96ffd7f48589094b425e71743e1/artifacts/sns_diamonds', status='READY', status_message='', tags={}, user_id='2329071338839022', version='4'>"
     ]
    }
   ],
   "source": [
    "client.transition_model_version_stage('lr_sns_diamonds', 4, 'Archived')"
   ]
  },
  {
   "cell_type": "markdown",
   "metadata": {
    "application/vnd.databricks.v1+cell": {
     "cellMetadata": {},
     "inputWidgets": {},
     "nuid": "f374fb72-b05e-4bbb-8a3e-8f69ee54fd09",
     "showTitle": false,
     "title": ""
    }
   },
   "source": [
    "<p>Delete a registered model version:</p>"
   ]
  },
  {
   "cell_type": "code",
   "execution_count": 0,
   "metadata": {
    "application/vnd.databricks.v1+cell": {
     "cellMetadata": {
      "byteLimit": 2048000,
      "rowLimit": 10000
     },
     "inputWidgets": {},
     "nuid": "ae7ce43b-efdd-4284-a4cf-84d2661f91f6",
     "showTitle": false,
     "title": ""
    }
   },
   "outputs": [],
   "source": [
    "client.delete_model_version('lr_sns_diamonds', 6)"
   ]
  },
  {
   "cell_type": "markdown",
   "metadata": {
    "application/vnd.databricks.v1+cell": {
     "cellMetadata": {},
     "inputWidgets": {},
     "nuid": "24e0e44b-1a98-44f4-8a39-ab026c1344d5",
     "showTitle": false,
     "title": ""
    }
   },
   "source": [
    "<p>Get a list of available properties and methods:</p>"
   ]
  },
  {
   "cell_type": "code",
   "execution_count": 0,
   "metadata": {
    "application/vnd.databricks.v1+cell": {
     "cellMetadata": {
      "byteLimit": 2048000,
      "rowLimit": 10000
     },
     "inputWidgets": {},
     "nuid": "43f65c9b-d3c0-456f-8d37-5d59c5e580d0",
     "showTitle": false,
     "title": ""
    }
   },
   "outputs": [
    {
     "output_type": "display_data",
     "data": {
      "text/html": [
       "<style scoped>\n",
       "  .table-result-container {\n",
       "    max-height: 300px;\n",
       "    overflow: auto;\n",
       "  }\n",
       "  table, th, td {\n",
       "    border: 1px solid black;\n",
       "    border-collapse: collapse;\n",
       "  }\n",
       "  th, td {\n",
       "    padding: 5px;\n",
       "  }\n",
       "  th {\n",
       "    text-align: left;\n",
       "  }\n",
       "</style><div class='table-result-container'><table class='table-result'><thead style='background-color: white'><tr><th>props_and_methods</th></tr></thead><tbody><tr><td>create_experiment</td></tr><tr><td>create_model_version</td></tr><tr><td>create_registered_model</td></tr><tr><td>create_run</td></tr><tr><td>delete_experiment</td></tr><tr><td>delete_model_version</td></tr><tr><td>delete_model_version_tag</td></tr><tr><td>delete_registered_model</td></tr><tr><td>delete_registered_model_tag</td></tr><tr><td>delete_run</td></tr><tr><td>delete_tag</td></tr><tr><td>download_artifacts</td></tr><tr><td>get_experiment</td></tr><tr><td>get_experiment_by_name</td></tr><tr><td>get_latest_versions</td></tr><tr><td>get_metric_history</td></tr><tr><td>get_model_version</td></tr><tr><td>get_model_version_download_uri</td></tr><tr><td>get_model_version_stages</td></tr><tr><td>get_registered_model</td></tr><tr><td>get_run</td></tr><tr><td>list_artifacts</td></tr><tr><td>list_experiments</td></tr><tr><td>list_registered_models</td></tr><tr><td>list_run_infos</td></tr><tr><td>log_artifact</td></tr><tr><td>log_artifacts</td></tr><tr><td>log_batch</td></tr><tr><td>log_dict</td></tr><tr><td>log_figure</td></tr><tr><td>log_image</td></tr><tr><td>log_metric</td></tr><tr><td>log_param</td></tr><tr><td>log_text</td></tr><tr><td>rename_experiment</td></tr><tr><td>rename_registered_model</td></tr><tr><td>restore_experiment</td></tr><tr><td>restore_run</td></tr><tr><td>search_experiments</td></tr><tr><td>search_model_versions</td></tr><tr><td>search_registered_models</td></tr><tr><td>search_runs</td></tr><tr><td>set_experiment_tag</td></tr><tr><td>set_model_version_tag</td></tr><tr><td>set_registered_model_tag</td></tr><tr><td>set_tag</td></tr><tr><td>set_terminated</td></tr><tr><td>tracking_uri</td></tr><tr><td>transition_model_version_stage</td></tr><tr><td>update_model_version</td></tr><tr><td>update_registered_model</td></tr></tbody></table></div>"
      ]
     },
     "metadata": {
      "application/vnd.databricks.v1+output": {
       "addedWidgets": {},
       "aggData": [],
       "aggError": "",
       "aggOverflow": false,
       "aggSchema": [],
       "aggSeriesLimitReached": false,
       "aggType": "",
       "arguments": {},
       "columnCustomDisplayInfos": {},
       "data": [
        [
         "create_experiment"
        ],
        [
         "create_model_version"
        ],
        [
         "create_registered_model"
        ],
        [
         "create_run"
        ],
        [
         "delete_experiment"
        ],
        [
         "delete_model_version"
        ],
        [
         "delete_model_version_tag"
        ],
        [
         "delete_registered_model"
        ],
        [
         "delete_registered_model_tag"
        ],
        [
         "delete_run"
        ],
        [
         "delete_tag"
        ],
        [
         "download_artifacts"
        ],
        [
         "get_experiment"
        ],
        [
         "get_experiment_by_name"
        ],
        [
         "get_latest_versions"
        ],
        [
         "get_metric_history"
        ],
        [
         "get_model_version"
        ],
        [
         "get_model_version_download_uri"
        ],
        [
         "get_model_version_stages"
        ],
        [
         "get_registered_model"
        ],
        [
         "get_run"
        ],
        [
         "list_artifacts"
        ],
        [
         "list_experiments"
        ],
        [
         "list_registered_models"
        ],
        [
         "list_run_infos"
        ],
        [
         "log_artifact"
        ],
        [
         "log_artifacts"
        ],
        [
         "log_batch"
        ],
        [
         "log_dict"
        ],
        [
         "log_figure"
        ],
        [
         "log_image"
        ],
        [
         "log_metric"
        ],
        [
         "log_param"
        ],
        [
         "log_text"
        ],
        [
         "rename_experiment"
        ],
        [
         "rename_registered_model"
        ],
        [
         "restore_experiment"
        ],
        [
         "restore_run"
        ],
        [
         "search_experiments"
        ],
        [
         "search_model_versions"
        ],
        [
         "search_registered_models"
        ],
        [
         "search_runs"
        ],
        [
         "set_experiment_tag"
        ],
        [
         "set_model_version_tag"
        ],
        [
         "set_registered_model_tag"
        ],
        [
         "set_tag"
        ],
        [
         "set_terminated"
        ],
        [
         "tracking_uri"
        ],
        [
         "transition_model_version_stage"
        ],
        [
         "update_model_version"
        ],
        [
         "update_registered_model"
        ]
       ],
       "datasetInfos": [],
       "dbfsResultPath": null,
       "isJsonSchema": true,
       "metadata": {},
       "overflow": false,
       "plotOptions": {
        "customPlotOptions": {},
        "displayType": "table",
        "pivotAggregation": null,
        "pivotColumns": null,
        "xColumns": null,
        "yColumns": null
       },
       "removedWidgets": [],
       "schema": [
        {
         "metadata": "{}",
         "name": "props_and_methods",
         "type": "\"string\""
        }
       ],
       "type": "table"
      }
     },
     "output_type": "display_data"
    }
   ],
   "source": [
    "display(spark.createDataFrame([{'props_and_methods': method} for method in dir(client) if method[0]!='_']))"
   ]
  }
 ],
 "metadata": {
  "application/vnd.databricks.v1+notebook": {
   "dashboards": [],
   "language": "python",
   "notebookMetadata": {
    "mostRecentlyExecutedCommandWithImplicitDF": {
     "commandId": -1,
     "dataframes": [
      "_sqldf"
     ]
    },
    "pythonIndentUnit": 2
   },
   "notebookName": "Databricks-ML-professional-S02b-Model-Management",
   "widgets": {}
  }
 },
 "nbformat": 4,
 "nbformat_minor": 0
}
