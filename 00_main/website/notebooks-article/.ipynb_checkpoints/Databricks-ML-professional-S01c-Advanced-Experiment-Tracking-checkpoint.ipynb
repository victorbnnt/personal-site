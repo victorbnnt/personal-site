{
 "cells": [
  {
   "cell_type": "markdown",
   "metadata": {
    "application/vnd.databricks.v1+cell": {
     "cellMetadata": {
      "byteLimit": 2048000,
      "rowLimit": 10000
     },
     "inputWidgets": {},
     "nuid": "58fab4bb-231e-48cf-8ed4-fc15a1b22845",
     "showTitle": false,
     "title": ""
    }
   },
   "source": [
    "<h4 style=\"font-variant-caps: small-caps;font-size:35pt;\">Databricks-ML-professional-S01c-Advanced-Experiment-Tracking</h4>"
   ]
  },
  {
   "cell_type": "markdown",
   "metadata": {
    "application/vnd.databricks.v1+cell": {
     "cellMetadata": {},
     "inputWidgets": {},
     "nuid": "8710b4bb-7fe6-484e-86a9-ffd51a7d4d7a",
     "showTitle": false,
     "title": ""
    }
   },
   "source": [
    "<div style='background-color:black;border-radius:5px;border-top:1px solid'></div>\n",
    "<br/>\n",
    "<p>This Notebook adds information related to the following requirements:</p><br/>\n",
    "<b>Advanced Experiment Tracking:</b>\n",
    "<ul>\n",
    "<li>Perform MLflow experiment tracking workflows using model signatures and input examples</li>\n",
    "<li>Identify the requirements for tracking nested runs</li>\n",
    "<li>Describe the process of enabling autologging, including with the use of Hyperopt</li>\n",
    "<li>Log and view artifacts like SHAP plots, custom visualizations, feature data, images, and metadata</li>\n",
    "</ul>\n",
    "<br/>\n",
    "<p><b>Download this notebook at format ipynb <a href=\"Databricks-ML-professional-S01c-Advanced-Experiment-Tracking.ipynb\">here</a>.</b></p>\n",
    "<br/>\n",
    "<div style='background-color:black;border-radius:5px;border-top:1px solid'></div>"
   ]
  },
  {
   "cell_type": "markdown",
   "metadata": {
    "application/vnd.databricks.v1+cell": {
     "cellMetadata": {
      "byteLimit": 2048000,
      "rowLimit": 10000
     },
     "inputWidgets": {},
     "nuid": "b5f6d0da-1d81-4fa0-9770-a9e4d6863534",
     "showTitle": false,
     "title": ""
    }
   },
   "source": [
    "<div style='background-color:rgba(30, 144, 255, 0.1);border-radius:5px;padding:2px;'>\n",
    "<span style=\"font-variant-caps: small-caps;font-weight:700\">1. Import libraries</span></div>"
   ]
  },
  {
   "cell_type": "code",
   "execution_count": 0,
   "metadata": {
    "application/vnd.databricks.v1+cell": {
     "cellMetadata": {
      "byteLimit": 2048000,
      "rowLimit": 10000
     },
     "inputWidgets": {},
     "nuid": "8a2d2e59-7426-4d5f-8d97-3dcff6e5151d",
     "showTitle": false,
     "title": ""
    }
   },
   "outputs": [
    {
     "output_type": "display_data",
     "data": {
      "application/vnd.databricks.v1+bamboolib_hint": "{\"pd.DataFrames\": [], \"version\": \"0.0.1\"}",
      "text/plain": []
     },
     "metadata": {},
     "output_type": "display_data"
    }
   ],
   "source": [
    "import pandas as pd\n",
    "import seaborn as sns\n",
    "#\n",
    "from pyspark.sql.functions import *\n",
    "#\n",
    "from pyspark.ml.feature import OneHotEncoder, StringIndexer, VectorAssembler\n",
    "from pyspark.ml.regression import GeneralizedLinearRegression, FMRegressor, LinearRegression\n",
    "from pyspark.ml.evaluation import RegressionEvaluator\n",
    "from pyspark.ml import Pipeline\n",
    "#\n",
    "import mlflow\n",
    "#\n",
    "from hyperopt import hp, fmin, tpe, Trials, STATUS_OK\n",
    "#\n",
    "import logging"
   ]
  },
  {
   "cell_type": "code",
   "execution_count": 0,
   "metadata": {
    "application/vnd.databricks.v1+cell": {
     "cellMetadata": {
      "byteLimit": 2048000,
      "rowLimit": 10000
     },
     "inputWidgets": {},
     "nuid": "85c05c1b-015d-405a-b6be-f8484a985d96",
     "showTitle": false,
     "title": ""
    }
   },
   "outputs": [],
   "source": [
    "logging.getLogger(\"mlflow\").setLevel(logging.FATAL)"
   ]
  },
  {
   "cell_type": "markdown",
   "metadata": {
    "application/vnd.databricks.v1+cell": {
     "cellMetadata": {
      "byteLimit": 2048000,
      "rowLimit": 10000
     },
     "inputWidgets": {},
     "nuid": "aa08db2c-a856-4c86-81fe-9a8b7322cd6a",
     "showTitle": false,
     "title": ""
    }
   },
   "source": [
    "<div style='background-color:rgba(30, 144, 255, 0.1);border-radius:5px;padding:2px;'>\n",
    "<span style=\"font-variant-caps: small-caps;font-weight:700\">2. Load dataset, convert to Spark DataFrame</span></div>"
   ]
  },
  {
   "cell_type": "code",
   "execution_count": 0,
   "metadata": {
    "application/vnd.databricks.v1+cell": {
     "cellMetadata": {
      "byteLimit": 2048000,
      "rowLimit": 10000
     },
     "inputWidgets": {},
     "nuid": "5b64ff08-1603-4d0c-bc4e-19c0094c3b9c",
     "showTitle": false,
     "title": ""
    }
   },
   "outputs": [
    {
     "output_type": "display_data",
     "data": {
      "text/html": [
       "<style scoped>\n",
       "  .table-result-container {\n",
       "    max-height: 300px;\n",
       "    overflow: auto;\n",
       "  }\n",
       "  table, th, td {\n",
       "    border: 1px solid black;\n",
       "    border-collapse: collapse;\n",
       "  }\n",
       "  th, td {\n",
       "    padding: 5px;\n",
       "  }\n",
       "  th {\n",
       "    text-align: left;\n",
       "  }\n",
       "</style><div class='table-result-container'><table class='table-result'><thead style='background-color: white'><tr><th>total_bill</th><th>tip</th><th>sex</th><th>smoker</th><th>day</th><th>time</th><th>size</th></tr></thead><tbody><tr><td>16.99</td><td>1.01</td><td>Female</td><td>No</td><td>Sun</td><td>Dinner</td><td>2</td></tr><tr><td>10.34</td><td>1.66</td><td>Male</td><td>No</td><td>Sun</td><td>Dinner</td><td>3</td></tr><tr><td>21.01</td><td>3.5</td><td>Male</td><td>No</td><td>Sun</td><td>Dinner</td><td>3</td></tr><tr><td>23.68</td><td>3.31</td><td>Male</td><td>No</td><td>Sun</td><td>Dinner</td><td>2</td></tr><tr><td>24.59</td><td>3.61</td><td>Female</td><td>No</td><td>Sun</td><td>Dinner</td><td>4</td></tr></tbody></table></div>"
      ]
     },
     "metadata": {
      "application/vnd.databricks.v1+output": {
       "addedWidgets": {},
       "aggData": [],
       "aggError": "",
       "aggOverflow": false,
       "aggSchema": [],
       "aggSeriesLimitReached": false,
       "aggType": "",
       "arguments": {},
       "columnCustomDisplayInfos": {},
       "data": [
        [
         16.99,
         1.01,
         "Female",
         "No",
         "Sun",
         "Dinner",
         2
        ],
        [
         10.34,
         1.66,
         "Male",
         "No",
         "Sun",
         "Dinner",
         3
        ],
        [
         21.01,
         3.5,
         "Male",
         "No",
         "Sun",
         "Dinner",
         3
        ],
        [
         23.68,
         3.31,
         "Male",
         "No",
         "Sun",
         "Dinner",
         2
        ],
        [
         24.59,
         3.61,
         "Female",
         "No",
         "Sun",
         "Dinner",
         4
        ]
       ],
       "datasetInfos": [],
       "dbfsResultPath": null,
       "isJsonSchema": true,
       "metadata": {},
       "overflow": false,
       "plotOptions": {
        "customPlotOptions": {},
        "displayType": "table",
        "pivotAggregation": null,
        "pivotColumns": null,
        "xColumns": null,
        "yColumns": null
       },
       "removedWidgets": [],
       "schema": [
        {
         "metadata": "{}",
         "name": "total_bill",
         "type": "\"double\""
        },
        {
         "metadata": "{}",
         "name": "tip",
         "type": "\"double\""
        },
        {
         "metadata": "{}",
         "name": "sex",
         "type": "\"string\""
        },
        {
         "metadata": "{}",
         "name": "smoker",
         "type": "\"string\""
        },
        {
         "metadata": "{}",
         "name": "day",
         "type": "\"string\""
        },
        {
         "metadata": "{}",
         "name": "time",
         "type": "\"string\""
        },
        {
         "metadata": "{}",
         "name": "size",
         "type": "\"long\""
        }
       ],
       "type": "table"
      }
     },
     "output_type": "display_data"
    }
   ],
   "source": [
    "tips_df = sns.load_dataset(\"tips\")\n",
    "#\n",
    "tips_sdf = spark.createDataFrame(tips_df)\n",
    "#\n",
    "display(tips_sdf.limit(5))"
   ]
  },
  {
   "cell_type": "markdown",
   "metadata": {
    "application/vnd.databricks.v1+cell": {
     "cellMetadata": {
      "byteLimit": 2048000,
      "rowLimit": 10000
     },
     "inputWidgets": {},
     "nuid": "2b595b34-0633-4f66-9ca0-6067f4cc0716",
     "showTitle": false,
     "title": ""
    }
   },
   "source": [
    "<div style='background-color:rgba(30, 144, 255, 0.1);border-radius:5px;padding:2px;'>\n",
    "<span style=\"font-variant-caps: small-caps;font-weight:700\">3. Prepare data</span></div>"
   ]
  },
  {
   "cell_type": "markdown",
   "metadata": {
    "application/vnd.databricks.v1+cell": {
     "cellMetadata": {
      "byteLimit": 2048000,
      "rowLimit": 10000
     },
     "inputWidgets": {},
     "nuid": "453316e6-0dc3-41b0-9730-27c39ed9bdf1",
     "showTitle": false,
     "title": ""
    }
   },
   "source": [
    "<p>Some transformations are done to prepare dataset to be used to train a ML model.</p>\n",
    "<table border style='border-collapse: collapse;'>\n",
    "<tr style=\"background-color:#EDEDED\">\n",
    "    <th>column name</th>\n",
    "    <th>comment</th>\n",
    "</tr>\n",
    "<tr>\n",
    "    <td><code>tip</code></td>\n",
    "    <td><b style='color:orangered'>target</b> to predict. Contains numeric</td>\n",
    "</tr>\n",
    "<tr>\n",
    "    <td><code>total_bill</code></td>\n",
    "    <td>numeric column to keep as is</td>\n",
    "</tr>\n",
    "<tr>\n",
    "    <td><code>sex</code></td>\n",
    "    <td>Contains <code>Female</code> and <code>Male</code> converted to <code>0</code> and <code>1</code></td>\n",
    "</tr>\n",
    "<tr>\n",
    "    <td><code>smoker</code></td>\n",
    "    <td>Contains <code>yes</code> and <code>no</code> converted to <code>0</code> and <code>1</code></td>\n",
    "</tr>\n",
    "<tr>\n",
    "    <td><code>time</code></td>\n",
    "    <td>Contains <code>Dinner</code> and <code>Lunch</code> converted to <code>0</code> and <code>1</code></td>\n",
    "</tr>\n",
    "<tr>\n",
    "    <td><code>day</code></td>\n",
    "    <td>categorical column to <b>One Hot Encode</b></td>\n",
    "</tr>\n",
    "<tr>\n",
    "    <td><code>size</code></td>\n",
    "    <td>categorical column to <b>One Hot Encode</b></td>\n",
    "</tr>\n",
    "</table>"
   ]
  },
  {
   "cell_type": "code",
   "execution_count": 0,
   "metadata": {
    "application/vnd.databricks.v1+cell": {
     "cellMetadata": {
      "byteLimit": 2048000,
      "rowLimit": 10000
     },
     "inputWidgets": {},
     "nuid": "92c6fbbf-0a08-4fee-8ad7-abdf5a0f9ea4",
     "showTitle": false,
     "title": ""
    }
   },
   "outputs": [],
   "source": [
    "tips_sdf = tips_sdf.selectExpr(\"total_bill\",\n",
    "                               \"tip\",\n",
    "                               \"case when sex = 'Female' then 1 else 0 end as sex\",\n",
    "                               \"case when smoker = 'yes' then 1 else 0 end as smoker\",\n",
    "                               \"case when time = 'Dinner' then 1 else 0 end as time\",\n",
    "                               \"day\",\n",
    "                               \"size\")\n",
    "#\n",
    "train_df, test_df = tips_sdf.randomSplit([.8, .2], seed=42)\n",
    "#\n",
    "ohe_cols = [\"size\", \"day\"]\n",
    "num_cols = [\"total_bill\", \"sex\", \"smoker\", \"time\"]\n",
    "target_col = \"tip\"\n",
    "#\n",
    "string_indexer = StringIndexer(inputCols=ohe_cols, outputCols=[c+\"_index\" for c in ohe_cols], handleInvalid=\"skip\")\n",
    "#\n",
    "ohe = OneHotEncoder()\n",
    "ohe.setInputCols([c+\"_index\" for c in ohe_cols])\n",
    "ohe.setOutputCols([c+\"_ohe\" for c in ohe_cols])\n",
    "#\n",
    "assembler_inputs = [c+\"_ohe\" for c in ohe_cols] + num_cols\n",
    "vec_assembler = VectorAssembler(inputCols=assembler_inputs, outputCol=\"features\")"
   ]
  },
  {
   "cell_type": "markdown",
   "metadata": {
    "application/vnd.databricks.v1+cell": {
     "cellMetadata": {
      "byteLimit": 2048000,
      "rowLimit": 10000
     },
     "inputWidgets": {},
     "nuid": "910af898-da90-4e26-a856-cdb4b902e101",
     "showTitle": false,
     "title": ""
    }
   },
   "source": [
    "<div style='background-color:rgba(30, 144, 255, 0.1);border-radius:5px;padding:2px;'>\n",
    "<span style=\"font-variant-caps: small-caps;font-weight:700\">4. Evaluator and model</span></div>"
   ]
  },
  {
   "cell_type": "code",
   "execution_count": 0,
   "metadata": {
    "application/vnd.databricks.v1+cell": {
     "cellMetadata": {
      "byteLimit": 2048000,
      "rowLimit": 10000
     },
     "inputWidgets": {},
     "nuid": "06212c8c-e7bf-45e7-827f-fd3fcad64486",
     "showTitle": false,
     "title": ""
    }
   },
   "outputs": [],
   "source": [
    "glr =       GeneralizedLinearRegression(featuresCol=\"features\", labelCol=target_col, maxIter=10)\n",
    "lrm =       LinearRegression(featuresCol=\"features\", labelCol=target_col)\n",
    "fmr =       FMRegressor(featuresCol=\"features\", labelCol=target_col, stepSize=0.001)\n",
    "evaluator = RegressionEvaluator(labelCol=target_col, predictionCol=\"prediction\", metricName=\"rmse\")"
   ]
  },
  {
   "cell_type": "markdown",
   "metadata": {
    "application/vnd.databricks.v1+cell": {
     "cellMetadata": {
      "byteLimit": 2048000,
      "rowLimit": 10000
     },
     "inputWidgets": {},
     "nuid": "cd1fc5a1-c77d-45e4-88b2-d2861900b3e5",
     "showTitle": false,
     "title": ""
    }
   },
   "source": [
    "<a id=\"signatureandinputexample\"></a>\n",
    "<div style='background-color:rgba(30, 144, 255, 0.1);border-radius:5px;padding:2px;'>\n",
    "<span style=\"font-variant-caps: small-caps;font-weight:700\">5. Perform MLflow experiment tracking workflows using model signatures and input examples</span></div>"
   ]
  },
  {
   "cell_type": "code",
   "execution_count": 0,
   "metadata": {
    "application/vnd.databricks.v1+cell": {
     "cellMetadata": {
      "byteLimit": 2048000,
      "rowLimit": 10000
     },
     "inputWidgets": {},
     "nuid": "6af34c76-f8fd-40a6-a62a-7dd1a94e88de",
     "showTitle": false,
     "title": ""
    }
   },
   "outputs": [
    {
     "output_type": "stream",
     "name": "stdout",
     "output_type": "stream",
     "text": [
      "inputs: \n  ['total_bill': double, 'tip': double, 'sex': integer, 'smoker': integer, 'time': integer, 'day': string, 'size': long]\noutputs: \n  ['tip': double]\n\n"
     ]
    }
   ],
   "source": [
    "signature = mlflow.models.infer_signature(train_df, train_df[[\"tip\"]]);\n",
    "print(signature)"
   ]
  },
  {
   "cell_type": "code",
   "execution_count": 0,
   "metadata": {
    "application/vnd.databricks.v1+cell": {
     "cellMetadata": {
      "byteLimit": 2048000,
      "rowLimit": 10000
     },
     "inputWidgets": {},
     "nuid": "40df8662-ab45-49a0-8069-8943078270eb",
     "showTitle": false,
     "title": ""
    }
   },
   "outputs": [
    {
     "output_type": "display_data",
     "data": {
      "text/html": [
       "<div>\n",
       "<style scoped>\n",
       "    .dataframe tbody tr th:only-of-type {\n",
       "        vertical-align: middle;\n",
       "    }\n",
       "\n",
       "    .dataframe tbody tr th {\n",
       "        vertical-align: top;\n",
       "    }\n",
       "\n",
       "    .dataframe thead th {\n",
       "        text-align: right;\n",
       "    }\n",
       "</style>\n",
       "<table border=\"1\" class=\"dataframe\">\n",
       "  <thead>\n",
       "    <tr style=\"text-align: right;\">\n",
       "      <th></th>\n",
       "      <th>total_bill</th>\n",
       "      <th>tip</th>\n",
       "      <th>sex</th>\n",
       "      <th>smoker</th>\n",
       "      <th>time</th>\n",
       "      <th>day</th>\n",
       "      <th>size</th>\n",
       "    </tr>\n",
       "  </thead>\n",
       "  <tbody>\n",
       "    <tr>\n",
       "      <th>0</th>\n",
       "      <td>8.77</td>\n",
       "      <td>2.00</td>\n",
       "      <td>0</td>\n",
       "      <td>0</td>\n",
       "      <td>1</td>\n",
       "      <td>Sun</td>\n",
       "      <td>2</td>\n",
       "    </tr>\n",
       "    <tr>\n",
       "      <th>1</th>\n",
       "      <td>9.55</td>\n",
       "      <td>1.45</td>\n",
       "      <td>0</td>\n",
       "      <td>0</td>\n",
       "      <td>1</td>\n",
       "      <td>Sat</td>\n",
       "      <td>2</td>\n",
       "    </tr>\n",
       "    <tr>\n",
       "      <th>2</th>\n",
       "      <td>9.94</td>\n",
       "      <td>1.56</td>\n",
       "      <td>0</td>\n",
       "      <td>0</td>\n",
       "      <td>1</td>\n",
       "      <td>Sun</td>\n",
       "      <td>2</td>\n",
       "    </tr>\n",
       "    <tr>\n",
       "      <th>3</th>\n",
       "      <td>10.27</td>\n",
       "      <td>1.71</td>\n",
       "      <td>0</td>\n",
       "      <td>0</td>\n",
       "      <td>1</td>\n",
       "      <td>Sun</td>\n",
       "      <td>2</td>\n",
       "    </tr>\n",
       "    <tr>\n",
       "      <th>4</th>\n",
       "      <td>10.29</td>\n",
       "      <td>2.60</td>\n",
       "      <td>1</td>\n",
       "      <td>0</td>\n",
       "      <td>1</td>\n",
       "      <td>Sun</td>\n",
       "      <td>2</td>\n",
       "    </tr>\n",
       "  </tbody>\n",
       "</table>\n",
       "</div>"
      ]
     },
     "metadata": {
      "application/vnd.databricks.v1+output": {
       "addedWidgets": {},
       "arguments": {},
       "data": "<div>\n<style scoped>\n    .dataframe tbody tr th:only-of-type {\n        vertical-align: middle;\n    }\n\n    .dataframe tbody tr th {\n        vertical-align: top;\n    }\n\n    .dataframe thead th {\n        text-align: right;\n    }\n</style>\n<table border=\"1\" class=\"dataframe\">\n  <thead>\n    <tr style=\"text-align: right;\">\n      <th></th>\n      <th>total_bill</th>\n      <th>tip</th>\n      <th>sex</th>\n      <th>smoker</th>\n      <th>time</th>\n      <th>day</th>\n      <th>size</th>\n    </tr>\n  </thead>\n  <tbody>\n    <tr>\n      <th>0</th>\n      <td>8.77</td>\n      <td>2.00</td>\n      <td>0</td>\n      <td>0</td>\n      <td>1</td>\n      <td>Sun</td>\n      <td>2</td>\n    </tr>\n    <tr>\n      <th>1</th>\n      <td>9.55</td>\n      <td>1.45</td>\n      <td>0</td>\n      <td>0</td>\n      <td>1</td>\n      <td>Sat</td>\n      <td>2</td>\n    </tr>\n    <tr>\n      <th>2</th>\n      <td>9.94</td>\n      <td>1.56</td>\n      <td>0</td>\n      <td>0</td>\n      <td>1</td>\n      <td>Sun</td>\n      <td>2</td>\n    </tr>\n    <tr>\n      <th>3</th>\n      <td>10.27</td>\n      <td>1.71</td>\n      <td>0</td>\n      <td>0</td>\n      <td>1</td>\n      <td>Sun</td>\n      <td>2</td>\n    </tr>\n    <tr>\n      <th>4</th>\n      <td>10.29</td>\n      <td>2.60</td>\n      <td>1</td>\n      <td>0</td>\n      <td>1</td>\n      <td>Sun</td>\n      <td>2</td>\n    </tr>\n  </tbody>\n</table>\n</div>",
       "datasetInfos": [],
       "metadata": {},
       "removedWidgets": [],
       "textData": null,
       "type": "htmlSandbox"
      }
     },
     "output_type": "display_data"
    }
   ],
   "source": [
    "input_example = train_df.toPandas().head()\n",
    "input_example"
   ]
  },
  {
   "cell_type": "code",
   "execution_count": 0,
   "metadata": {
    "application/vnd.databricks.v1+cell": {
     "cellMetadata": {
      "byteLimit": 2048000,
      "rowLimit": 10000
     },
     "inputWidgets": {},
     "nuid": "c0a1d573-d054-48bb-864a-fb9eab2efaa3",
     "showTitle": false,
     "title": ""
    }
   },
   "outputs": [],
   "source": [
    "model_name = \"linear-regression\"\n",
    "#\n",
    "with mlflow.start_run(run_name=\"Tip-run\") as run:\n",
    "    #\n",
    "    # define pipeline stages according to model\n",
    "    stages = [string_indexer, ohe, vec_assembler, lrm]\n",
    "    #\n",
    "    # set pipeline\n",
    "    pipeline = Pipeline(stages=stages)\n",
    "    #\n",
    "    # fit pipeline to train set\n",
    "    model = pipeline.fit(train_df)\n",
    "    #\n",
    "    # manually log model to mlflow\n",
    "    mlflow.spark.log_model(model, model_name, signature=signature, input_example=input_example)\n",
    "    #\n",
    "    # manually log parameter to mlflow\n",
    "    mlflow.log_param(\"maxIter\", 11)\n",
    "    #\n",
    "    # predict test set\n",
    "    pred_df = model.transform(test_df)\n",
    "    #\n",
    "    # evaluate prediction\n",
    "    rmse = evaluator.evaluate(pred_df)\n",
    "    #\n",
    "    # manually log metric to mlflow\n",
    "    mlflow.log_metric(\"rmse\", rmse)"
   ]
  },
  {
   "cell_type": "markdown",
   "metadata": {
    "application/vnd.databricks.v1+cell": {
     "cellMetadata": {
      "byteLimit": 2048000,
      "rowLimit": 10000
     },
     "inputWidgets": {},
     "nuid": "b7c1ad7c-c381-4758-bb59-5114ba6f0ba3",
     "showTitle": false,
     "title": ""
    }
   },
   "source": [
    "<a id=\"nestedrun\"></a>\n",
    "<div style='background-color:rgba(30, 144, 255, 0.1);border-radius:5px;padding:2px;'>\n",
    "<span style=\"font-variant-caps: small-caps;font-weight:700\">6. Identify the requirements for tracking nested runs</span></div>"
   ]
  },
  {
   "cell_type": "markdown",
   "metadata": {
    "application/vnd.databricks.v1+cell": {
     "cellMetadata": {
      "byteLimit": 2048000,
      "rowLimit": 10000
     },
     "inputWidgets": {},
     "nuid": "89edcb39-0b90-44ca-b6fd-5af69c3115a3",
     "showTitle": false,
     "title": ""
    }
   },
   "source": [
    "<p>It is possible to log to mlflow using nested runs:</p>\n",
    "<a id=\"nestedrun\"></a>"
   ]
  },
  {
   "cell_type": "code",
   "execution_count": 0,
   "metadata": {
    "application/vnd.databricks.v1+cell": {
     "cellMetadata": {
      "byteLimit": 2048000,
      "rowLimit": 10000
     },
     "inputWidgets": {},
     "nuid": "e5839d28-4117-400d-9a8c-d7fa5fbd0665",
     "showTitle": false,
     "title": ""
    }
   },
   "outputs": [],
   "source": [
    "with mlflow.start_run(run_name=\"tips_evaluation\") as run_parent:\n",
    "    #\n",
    "    # loop on the three regression models\n",
    "    for regression_model in [glr, lrm, fmr]:\n",
    "        #\n",
    "        # get model name\n",
    "        model_name = regression_model.__str__().split(\"_\")[0]\n",
    "        #\n",
    "        # Nest mlflow logging\n",
    "        with mlflow.start_run(run_name=model_name, nested=True) as run:\n",
    "            #\n",
    "            # define pipeline stages according to model\n",
    "            stages = [string_indexer, ohe, vec_assembler, regression_model]\n",
    "            #\n",
    "            # set pipeline\n",
    "            pipeline = Pipeline(stages=stages)\n",
    "            #\n",
    "            # fit pipeline to train set\n",
    "            model = pipeline.fit(train_df)\n",
    "            #\n",
    "            # log model to mlflow\n",
    "            mlflow.spark.log_model(model, model_name, signature=signature, input_example=input_example)\n",
    "            #\n",
    "            # predict test set\n",
    "            pred_df = model.transform(test_df)\n",
    "            #\n",
    "            # evaluate prediction\n",
    "            rmse = evaluator.evaluate(pred_df)\n",
    "            #\n",
    "            # log evaluation to mlflow\n",
    "            mlflow.log_metric(\"rmse\", rmse)"
   ]
  },
  {
   "cell_type": "markdown",
   "metadata": {
    "application/vnd.databricks.v1+cell": {
     "cellMetadata": {
      "byteLimit": 2048000,
      "rowLimit": 10000
     },
     "inputWidgets": {},
     "nuid": "f04a8cf6-a501-4e11-a7af-66b9b9bd6744",
     "showTitle": false,
     "title": ""
    }
   },
   "source": [
    "<img src=\"https://i.ibb.co/TrSPRZP/mlflow6.png\"/>"
   ]
  },
  {
   "cell_type": "markdown",
   "metadata": {
    "application/vnd.databricks.v1+cell": {
     "cellMetadata": {
      "byteLimit": 2048000,
      "rowLimit": 10000
     },
     "inputWidgets": {},
     "nuid": "29d945c5-a93c-4f84-a01b-341d71e9f980",
     "showTitle": false,
     "title": ""
    }
   },
   "source": [
    "<a id=\"autologhyperopt\"></a>\n",
    "<div style='background-color:rgba(30, 144, 255, 0.1);border-radius:5px;padding:2px;'>\n",
    "<span style=\"font-variant-caps: small-caps;font-weight:700\">7. Describe the process of enabling autologging, including with the use of Hyperopt</span></div>"
   ]
  },
  {
   "cell_type": "markdown",
   "metadata": {
    "application/vnd.databricks.v1+cell": {
     "cellMetadata": {
      "byteLimit": 2048000,
      "rowLimit": 10000
     },
     "inputWidgets": {},
     "nuid": "3ea640ea-2ab2-46f6-b53f-a440ef888681",
     "showTitle": false,
     "title": ""
    }
   },
   "source": [
    "<h5>Here we enable mlflow logging with <code>autolog()</code> and train a simple model. This will automatically log everything possible for each library used.</h5>"
   ]
  },
  {
   "cell_type": "code",
   "execution_count": 0,
   "metadata": {
    "application/vnd.databricks.v1+cell": {
     "cellMetadata": {
      "byteLimit": 2048000,
      "rowLimit": 10000
     },
     "inputWidgets": {},
     "nuid": "3b75ef74-0a1a-4740-8dc1-567388562b72",
     "showTitle": false,
     "title": ""
    }
   },
   "outputs": [],
   "source": [
    "mlflow.autolog()"
   ]
  },
  {
   "cell_type": "markdown",
   "metadata": {
    "application/vnd.databricks.v1+cell": {
     "cellMetadata": {
      "byteLimit": 2048000,
      "rowLimit": 10000
     },
     "inputWidgets": {},
     "nuid": "c28cef57-eb3d-40d6-91f0-24b5ea00505f",
     "showTitle": false,
     "title": ""
    }
   },
   "source": [
    "<p>Now let's fit and evaluate a model:</p>"
   ]
  },
  {
   "cell_type": "code",
   "execution_count": 0,
   "metadata": {
    "application/vnd.databricks.v1+cell": {
     "cellMetadata": {
      "byteLimit": 2048000,
      "rowLimit": 10000
     },
     "inputWidgets": {},
     "nuid": "2e9b4b6e-18be-4c01-ac94-ddfb7263b97b",
     "showTitle": false,
     "title": ""
    }
   },
   "outputs": [
    {
     "output_type": "stream",
     "name": "stdout",
     "output_type": "stream",
     "text": [
      "Out[11]: 1.305457217679868"
     ]
    }
   ],
   "source": [
    "# fit pipeline to train set\n",
    "model_lrm_autolog = pipeline.fit(train_df)\n",
    "#\n",
    "# predict test set\n",
    "pred_df = model_lrm_autolog.transform(test_df)\n",
    "#\n",
    "# evaluate\n",
    "evaluator.evaluate(pred_df)"
   ]
  },
  {
   "cell_type": "markdown",
   "metadata": {
    "application/vnd.databricks.v1+cell": {
     "cellMetadata": {
      "byteLimit": 2048000,
      "rowLimit": 10000
     },
     "inputWidgets": {},
     "nuid": "431483d6-48ce-4392-87c2-95dabcfd87c8",
     "showTitle": false,
     "title": ""
    }
   },
   "source": [
    "<p>After that, in MLflow UI, we can see the many parameters that have been logged.</p>\n",
    "<p>Alternatively, we can get and see the logged parameters for latest run programmaticaly:</p>"
   ]
  },
  {
   "cell_type": "code",
   "execution_count": 0,
   "metadata": {
    "application/vnd.databricks.v1+cell": {
     "cellMetadata": {
      "byteLimit": 2048000,
      "rowLimit": 10000
     },
     "inputWidgets": {},
     "nuid": "eb984d77-72af-4a8b-8ae7-14188488963a",
     "showTitle": false,
     "title": ""
    }
   },
   "outputs": [
    {
     "output_type": "display_data",
     "data": {
      "text/html": [
       "<style scoped>\n",
       "  .table-result-container {\n",
       "    max-height: 300px;\n",
       "    overflow: auto;\n",
       "  }\n",
       "  table, th, td {\n",
       "    border: 1px solid black;\n",
       "    border-collapse: collapse;\n",
       "  }\n",
       "  th, td {\n",
       "    padding: 5px;\n",
       "  }\n",
       "  th {\n",
       "    text-align: left;\n",
       "  }\n",
       "</style><div class='table-result-container'><table class='table-result'><thead style='background-color: white'><tr><th>run_id</th><th>experiment_id</th><th>status</th><th>artifact_uri</th><th>start_time</th><th>end_time</th><th>metrics.rmse_test_df</th><th>metrics.rmse</th><th>params.FMRegressor.fitIntercept</th><th>params.FMRegressor.maxIter</th><th>params.OneHotEncoder.outputCol</th><th>params.OneHotEncoder.outputCols</th><th>params.stages</th><th>params.StringIndexer.stringOrderType</th><th>params.StringIndexer.inputCols</th><th>params.FMRegressor.tol</th><th>params.StringIndexer.outputCols</th><th>params.StringIndexer.handleInvalid</th><th>params.FMRegressor.solver</th><th>params.FMRegressor.factorSize</th><th>params.OneHotEncoder.handleInvalid</th><th>params.OneHotEncoder.inputCols</th><th>params.StringIndexer.outputCol</th><th>params.FMRegressor.fitLinear</th><th>params.FMRegressor.miniBatchFraction</th><th>params.VectorAssembler.handleInvalid</th><th>params.VectorAssembler.inputCols</th><th>params.FMRegressor.predictionCol</th><th>params.FMRegressor.regParam</th><th>params.FMRegressor.labelCol</th><th>params.FMRegressor.featuresCol</th><th>params.FMRegressor.initStd</th><th>params.FMRegressor.stepSize</th><th>params.OneHotEncoder.dropLast</th><th>params.FMRegressor.seed</th><th>params.VectorAssembler.outputCol</th><th>params.maxIter</th><th>tags.mlflow.databricks.cluster.id</th><th>tags.mlflow.databricks.cluster.libraries.error</th><th>tags.mlflow.databricks.notebookRevisionID</th><th>tags.mlflow.databricks.workspaceID</th><th>tags.mlflow.source.name</th><th>tags.mlflow.databricks.notebookPath</th><th>tags.mlflow.databricks.notebook.commandID</th><th>tags.mlflow.source.type</th><th>tags.mlflow.databricks.webappURL</th><th>tags.mlflow.user</th><th>tags.mlflow.databricks.workspaceURL</th><th>tags.mlflow.runName</th><th>tags.estimator_class</th><th>tags.mlflow.autologging</th><th>tags.mlflow.databricks.cluster.info</th><th>tags.mlflow.databricks.notebookID</th><th>tags.estimator_name</th><th>tags.mlflow.parentRunId</th><th>tags.mlflow.rootRunId</th><th>tags.mlflow.log-model.history</th></tr></thead><tbody><tr><td>3b41df515c9b4794ac4526530f3c590a</td><td>3541968995997190</td><td>FINISHED</td><td>dbfs:/databricks/mlflow-tracking/3541968995997190/3b41df515c9b4794ac4526530f3c590a/artifacts</td><td>2023-11-07T14:32:44.067+0000</td><td>2023-11-07T14:32:52.279+0000</td><td>1.305457217679868</td><td>null</td><td>True</td><td>100</td><td>OneHotEncoder_ccf4e3cbfac7__output</td><td>['size_ohe', 'day_ohe']</td><td>['StringIndexer', 'OneHotEncoder', 'VectorAssembler', 'FMRegressor']</td><td>frequencyDesc</td><td>['size', 'day']</td><td>1e-06</td><td>['size_index', 'day_index']</td><td>skip</td><td>adamW</td><td>8</td><td>error</td><td>['size_index', 'day_index']</td><td>StringIndexer_1f994777c646__output</td><td>True</td><td>1.0</td><td>error</td><td>['size_ohe', 'day_ohe', 'total_bill', 'sex', 'smoker', 'time']</td><td>prediction</td><td>0.0</td><td>tip</td><td>features</td><td>0.01</td><td>0.001</td><td>True</td><td>-2921654334123211668</td><td>features</td><td>null</td><td>1027-081006-5cgi5kuh</td><td>This message class grpc_shaded.com.databricks.api.proto.managedLibraries.ClusterStatus DID NOT match any methods in the stub class grpc_shaded.com.databricks.api.proto.cluster.ClusterServiceGrpc$ClusterServiceBlockingStub</td><td>1699367572636</td><td>3607579860940718</td><td>/Users/victor.bonnet@avanade.com/notebooks-for-articles/Databricks-ML-professional-S01c-Advanced-Experiment-Tracking</td><td>/Users/victor.bonnet@avanade.com/notebooks-for-articles/Databricks-ML-professional-S01c-Advanced-Experiment-Tracking</td><td>850026868513465878_8014616092981762688_4d9afae93cd144b5af1886cc753e8464</td><td>NOTEBOOK</td><td>https://eastus-c3.azuredatabricks.net</td><td>victor.bonnet@avanade.com</td><td>adb-3607579860940718.18.azuredatabricks.net</td><td>worried-slug-80</td><td>pyspark.ml.pipeline.Pipeline</td><td>pyspark.ml</td><td>{\"cluster_name\":\"Victor Bonnet's Cluster\",\"spark_version\":\"11.3.x-cpu-ml-scala2.12\",\"node_type_id\":\"Standard_E4d_v4\",\"driver_node_type_id\":\"Standard_E4d_v4\",\"autotermination_minutes\":120,\"disk_spec\":{},\"num_workers\":0}</td><td>3541968995997190</td><td>Pipeline</td><td>null</td><td>null</td><td>null</td></tr></tbody></table></div>"
      ]
     },
     "metadata": {
      "application/vnd.databricks.v1+output": {
       "addedWidgets": {},
       "aggData": [],
       "aggError": "",
       "aggOverflow": false,
       "aggSchema": [],
       "aggSeriesLimitReached": false,
       "aggType": "",
       "arguments": {},
       "columnCustomDisplayInfos": {},
       "data": [
        [
         "3b41df515c9b4794ac4526530f3c590a",
         "3541968995997190",
         "FINISHED",
         "dbfs:/databricks/mlflow-tracking/3541968995997190/3b41df515c9b4794ac4526530f3c590a/artifacts",
         "2023-11-07T14:32:44.067+0000",
         "2023-11-07T14:32:52.279+0000",
         1.305457217679868,
         null,
         "True",
         "100",
         "OneHotEncoder_ccf4e3cbfac7__output",
         "['size_ohe', 'day_ohe']",
         "['StringIndexer', 'OneHotEncoder', 'VectorAssembler', 'FMRegressor']",
         "frequencyDesc",
         "['size', 'day']",
         "1e-06",
         "['size_index', 'day_index']",
         "skip",
         "adamW",
         "8",
         "error",
         "['size_index', 'day_index']",
         "StringIndexer_1f994777c646__output",
         "True",
         "1.0",
         "error",
         "['size_ohe', 'day_ohe', 'total_bill', 'sex', 'smoker', 'time']",
         "prediction",
         "0.0",
         "tip",
         "features",
         "0.01",
         "0.001",
         "True",
         "-2921654334123211668",
         "features",
         null,
         "1027-081006-5cgi5kuh",
         "This message class grpc_shaded.com.databricks.api.proto.managedLibraries.ClusterStatus DID NOT match any methods in the stub class grpc_shaded.com.databricks.api.proto.cluster.ClusterServiceGrpc$ClusterServiceBlockingStub",
         "1699367572636",
         "3607579860940718",
         "/Users/victor.bonnet@avanade.com/notebooks-for-articles/Databricks-ML-professional-S01c-Advanced-Experiment-Tracking",
         "/Users/victor.bonnet@avanade.com/notebooks-for-articles/Databricks-ML-professional-S01c-Advanced-Experiment-Tracking",
         "850026868513465878_8014616092981762688_4d9afae93cd144b5af1886cc753e8464",
         "NOTEBOOK",
         "https://eastus-c3.azuredatabricks.net",
         "victor.bonnet@avanade.com",
         "adb-3607579860940718.18.azuredatabricks.net",
         "worried-slug-80",
         "pyspark.ml.pipeline.Pipeline",
         "pyspark.ml",
         "{\"cluster_name\":\"Victor Bonnet's Cluster\",\"spark_version\":\"11.3.x-cpu-ml-scala2.12\",\"node_type_id\":\"Standard_E4d_v4\",\"driver_node_type_id\":\"Standard_E4d_v4\",\"autotermination_minutes\":120,\"disk_spec\":{},\"num_workers\":0}",
         "3541968995997190",
         "Pipeline",
         null,
         null,
         null
        ]
       ],
       "datasetInfos": [],
       "dbfsResultPath": null,
       "isJsonSchema": true,
       "metadata": {},
       "overflow": false,
       "plotOptions": {
        "customPlotOptions": {},
        "displayType": "table",
        "pivotAggregation": null,
        "pivotColumns": null,
        "xColumns": null,
        "yColumns": null
       },
       "removedWidgets": [],
       "schema": [
        {
         "metadata": "{}",
         "name": "run_id",
         "type": "\"string\""
        },
        {
         "metadata": "{}",
         "name": "experiment_id",
         "type": "\"string\""
        },
        {
         "metadata": "{}",
         "name": "status",
         "type": "\"string\""
        },
        {
         "metadata": "{}",
         "name": "artifact_uri",
         "type": "\"string\""
        },
        {
         "metadata": "{}",
         "name": "start_time",
         "type": "\"timestamp\""
        },
        {
         "metadata": "{}",
         "name": "end_time",
         "type": "\"timestamp\""
        },
        {
         "metadata": "{}",
         "name": "metrics.rmse_test_df",
         "type": "\"double\""
        },
        {
         "metadata": "{}",
         "name": "metrics.rmse",
         "type": "\"double\""
        },
        {
         "metadata": "{}",
         "name": "params.FMRegressor.fitIntercept",
         "type": "\"string\""
        },
        {
         "metadata": "{}",
         "name": "params.FMRegressor.maxIter",
         "type": "\"string\""
        },
        {
         "metadata": "{}",
         "name": "params.OneHotEncoder.outputCol",
         "type": "\"string\""
        },
        {
         "metadata": "{}",
         "name": "params.OneHotEncoder.outputCols",
         "type": "\"string\""
        },
        {
         "metadata": "{}",
         "name": "params.stages",
         "type": "\"string\""
        },
        {
         "metadata": "{}",
         "name": "params.StringIndexer.stringOrderType",
         "type": "\"string\""
        },
        {
         "metadata": "{}",
         "name": "params.StringIndexer.inputCols",
         "type": "\"string\""
        },
        {
         "metadata": "{}",
         "name": "params.FMRegressor.tol",
         "type": "\"string\""
        },
        {
         "metadata": "{}",
         "name": "params.StringIndexer.outputCols",
         "type": "\"string\""
        },
        {
         "metadata": "{}",
         "name": "params.StringIndexer.handleInvalid",
         "type": "\"string\""
        },
        {
         "metadata": "{}",
         "name": "params.FMRegressor.solver",
         "type": "\"string\""
        },
        {
         "metadata": "{}",
         "name": "params.FMRegressor.factorSize",
         "type": "\"string\""
        },
        {
         "metadata": "{}",
         "name": "params.OneHotEncoder.handleInvalid",
         "type": "\"string\""
        },
        {
         "metadata": "{}",
         "name": "params.OneHotEncoder.inputCols",
         "type": "\"string\""
        },
        {
         "metadata": "{}",
         "name": "params.StringIndexer.outputCol",
         "type": "\"string\""
        },
        {
         "metadata": "{}",
         "name": "params.FMRegressor.fitLinear",
         "type": "\"string\""
        },
        {
         "metadata": "{}",
         "name": "params.FMRegressor.miniBatchFraction",
         "type": "\"string\""
        },
        {
         "metadata": "{}",
         "name": "params.VectorAssembler.handleInvalid",
         "type": "\"string\""
        },
        {
         "metadata": "{}",
         "name": "params.VectorAssembler.inputCols",
         "type": "\"string\""
        },
        {
         "metadata": "{}",
         "name": "params.FMRegressor.predictionCol",
         "type": "\"string\""
        },
        {
         "metadata": "{}",
         "name": "params.FMRegressor.regParam",
         "type": "\"string\""
        },
        {
         "metadata": "{}",
         "name": "params.FMRegressor.labelCol",
         "type": "\"string\""
        },
        {
         "metadata": "{}",
         "name": "params.FMRegressor.featuresCol",
         "type": "\"string\""
        },
        {
         "metadata": "{}",
         "name": "params.FMRegressor.initStd",
         "type": "\"string\""
        },
        {
         "metadata": "{}",
         "name": "params.FMRegressor.stepSize",
         "type": "\"string\""
        },
        {
         "metadata": "{}",
         "name": "params.OneHotEncoder.dropLast",
         "type": "\"string\""
        },
        {
         "metadata": "{}",
         "name": "params.FMRegressor.seed",
         "type": "\"string\""
        },
        {
         "metadata": "{}",
         "name": "params.VectorAssembler.outputCol",
         "type": "\"string\""
        },
        {
         "metadata": "{}",
         "name": "params.maxIter",
         "type": "\"string\""
        },
        {
         "metadata": "{}",
         "name": "tags.mlflow.databricks.cluster.id",
         "type": "\"string\""
        },
        {
         "metadata": "{}",
         "name": "tags.mlflow.databricks.cluster.libraries.error",
         "type": "\"string\""
        },
        {
         "metadata": "{}",
         "name": "tags.mlflow.databricks.notebookRevisionID",
         "type": "\"string\""
        },
        {
         "metadata": "{}",
         "name": "tags.mlflow.databricks.workspaceID",
         "type": "\"string\""
        },
        {
         "metadata": "{}",
         "name": "tags.mlflow.source.name",
         "type": "\"string\""
        },
        {
         "metadata": "{}",
         "name": "tags.mlflow.databricks.notebookPath",
         "type": "\"string\""
        },
        {
         "metadata": "{}",
         "name": "tags.mlflow.databricks.notebook.commandID",
         "type": "\"string\""
        },
        {
         "metadata": "{}",
         "name": "tags.mlflow.source.type",
         "type": "\"string\""
        },
        {
         "metadata": "{}",
         "name": "tags.mlflow.databricks.webappURL",
         "type": "\"string\""
        },
        {
         "metadata": "{}",
         "name": "tags.mlflow.user",
         "type": "\"string\""
        },
        {
         "metadata": "{}",
         "name": "tags.mlflow.databricks.workspaceURL",
         "type": "\"string\""
        },
        {
         "metadata": "{}",
         "name": "tags.mlflow.runName",
         "type": "\"string\""
        },
        {
         "metadata": "{}",
         "name": "tags.estimator_class",
         "type": "\"string\""
        },
        {
         "metadata": "{}",
         "name": "tags.mlflow.autologging",
         "type": "\"string\""
        },
        {
         "metadata": "{}",
         "name": "tags.mlflow.databricks.cluster.info",
         "type": "\"string\""
        },
        {
         "metadata": "{}",
         "name": "tags.mlflow.databricks.notebookID",
         "type": "\"string\""
        },
        {
         "metadata": "{}",
         "name": "tags.estimator_name",
         "type": "\"string\""
        },
        {
         "metadata": "{}",
         "name": "tags.mlflow.parentRunId",
         "type": "\"string\""
        },
        {
         "metadata": "{}",
         "name": "tags.mlflow.rootRunId",
         "type": "\"string\""
        },
        {
         "metadata": "{}",
         "name": "tags.mlflow.log-model.history",
         "type": "\"string\""
        }
       ],
       "type": "table"
      }
     },
     "output_type": "display_data"
    }
   ],
   "source": [
    "output_mlflow = spark.createDataFrame(mlflow.search_runs())\n",
    "display(output_mlflow.orderBy(desc(\"end_time\")).limit(1))"
   ]
  },
  {
   "cell_type": "markdown",
   "metadata": {
    "application/vnd.databricks.v1+cell": {
     "cellMetadata": {
      "byteLimit": 2048000,
      "rowLimit": 10000
     },
     "inputWidgets": {},
     "nuid": "54efcfb9-459f-4682-af3a-71d7b9f188bb",
     "showTitle": false,
     "title": ""
    }
   },
   "source": [
    "<h5>Let's here use <b>HyperOpt</b> for hyperparameter tuning and use <code>autolog()</code> to log everything.</h5>\n",
    "<p><b>HyperOpt</b>:</p>\n",
    "<ul>\n",
    "<li>Let's first define a function to train each model and log information as nested run of hyperopt analysis in mlflow</li>\n",
    "<li>After that, definition of the objective function to minimize</li>\n",
    "</ul>"
   ]
  },
  {
   "cell_type": "code",
   "execution_count": 0,
   "metadata": {
    "application/vnd.databricks.v1+cell": {
     "cellMetadata": {
      "byteLimit": 2048000,
      "rowLimit": 10000
     },
     "inputWidgets": {},
     "nuid": "720a634b-bc15-41e4-ad84-93ff25a01bdf",
     "showTitle": false,
     "title": ""
    }
   },
   "outputs": [],
   "source": [
    "def train_model(maxIter, regParam, elasticNetParam, labelCol):\n",
    "    \"\"\"\n",
    "    This train() function:\n",
    "     - takes hyperparameters as inputs (for tuning later)\n",
    "     - returns the rmse score on the test dataset\n",
    "    \"\"\"\n",
    "    # Use MLflow to track training.\n",
    "    # Specify \"nested=True\" since this single model will be logged as a child run of Hyperopt's run.\n",
    "    with mlflow.start_run(nested=True):\n",
    "        #\n",
    "        model_hyperopt = LinearRegression(maxIter=maxIter,\n",
    "                                          regParam=regParam,\n",
    "                                          elasticNetParam=elasticNetParam,\n",
    "                                          labelCol=target_col)\n",
    "        #\n",
    "        evaluator_hyperopt = RegressionEvaluator(labelCol=target_col, predictionCol=\"prediction\")\n",
    "        #\n",
    "        stages = [string_indexer, ohe, vec_assembler, model_hyperopt]\n",
    "        #\n",
    "        # set pipeline\n",
    "        pipeline = Pipeline(stages=stages)\n",
    "        #\n",
    "        # fit pipeline to train set\n",
    "        model_rfr_hyperopt = pipeline.fit(train_df)\n",
    "        #\n",
    "        # predict test set\n",
    "        pred_df = model_rfr_hyperopt.transform(test_df)\n",
    "        #\n",
    "        # evaluate\n",
    "        rmse = evaluator_hyperopt.evaluate(pred_df)\n",
    "        #\n",
    "        # log rmse for each child run\n",
    "        mlflow.log_metric(\"rmse\", rmse)\n",
    "    #\n",
    "    return model_rfr_hyperopt, rmse"
   ]
  },
  {
   "cell_type": "code",
   "execution_count": 0,
   "metadata": {
    "application/vnd.databricks.v1+cell": {
     "cellMetadata": {
      "byteLimit": 2048000,
      "rowLimit": 10000
     },
     "inputWidgets": {},
     "nuid": "9c6604cb-3318-4341-93ba-465ea966a13c",
     "showTitle": false,
     "title": ""
    }
   },
   "outputs": [],
   "source": [
    "def objective(params):\n",
    "    \"\"\" This function is the function to minimize by hyperopt \"\"\"\n",
    "    #\n",
    "    model, rmse = train_model(maxIter=params[\"maxIter\"],\n",
    "                              regParam=params[\"regParam\"],\n",
    "                              elasticNetParam=params[\"elasticNetParam\"],\n",
    "                              labelCol=target_col)\n",
    "    #\n",
    "    return {'loss': rmse, 'status': STATUS_OK}"
   ]
  },
  {
   "cell_type": "markdown",
   "metadata": {
    "application/vnd.databricks.v1+cell": {
     "cellMetadata": {
      "byteLimit": 2048000,
      "rowLimit": 10000
     },
     "inputWidgets": {},
     "nuid": "116f2066-932c-4268-98e0-2fc9ff77e6dd",
     "showTitle": false,
     "title": ""
    }
   },
   "source": [
    "<p>Let's define the hyperparameter search spaces:</p>"
   ]
  },
  {
   "cell_type": "code",
   "execution_count": 0,
   "metadata": {
    "application/vnd.databricks.v1+cell": {
     "cellMetadata": {
      "byteLimit": 2048000,
      "rowLimit": 10000
     },
     "inputWidgets": {},
     "nuid": "8edfe198-1d5f-46fc-af5e-e9cd10bcc14f",
     "showTitle": false,
     "title": ""
    }
   },
   "outputs": [],
   "source": [
    "search_spaces = {\"maxIter\": hp.quniform(\"maxIter\", 1, 100, 1),\n",
    "                 \"regParam\": hp.uniform(\"regParam\", 0.1, 10),\n",
    "                 \"elasticNetParam\": hp.uniform(\"elasticNetParam\", 0, 1)}"
   ]
  },
  {
   "cell_type": "markdown",
   "metadata": {
    "application/vnd.databricks.v1+cell": {
     "cellMetadata": {
      "byteLimit": 2048000,
      "rowLimit": 10000
     },
     "inputWidgets": {},
     "nuid": "e1a9966d-c2da-46bb-a251-06213916ec80",
     "showTitle": false,
     "title": ""
    }
   },
   "source": [
    "<p>Finally let's run the hyperparameter tuning with HyperOpt:</p>\n",
    "<p><i>As we are using a model from MLlib, we are going to use <code>Trials</code> class as value for <code>trials</code> parameter of the <code>fmin</code> function.</i></p>"
   ]
  },
  {
   "cell_type": "code",
   "execution_count": 0,
   "metadata": {
    "application/vnd.databricks.v1+cell": {
     "cellMetadata": {
      "byteLimit": 2048000,
      "rowLimit": 10000
     },
     "inputWidgets": {},
     "nuid": "1a5c898f-cb76-4e8b-ab32-8695efd97c23",
     "showTitle": false,
     "title": ""
    }
   },
   "outputs": [
    {
     "output_type": "stream",
     "name": "stdout",
     "output_type": "stream",
     "text": [
      "\r  0%|          | 0/15 [00:00<?, ?trial/s, best loss=?]\r  7%|▋         | 1/15 [00:31<07:14, 31.06s/trial, best loss: 1.1755743624486334]\r 13%|█▎        | 2/15 [00:59<06:20, 29.27s/trial, best loss: 1.1753821961934159]\r 20%|██        | 3/15 [01:25<05:37, 28.12s/trial, best loss: 1.0998107242913935]\r 27%|██▋       | 4/15 [01:52<05:02, 27.47s/trial, best loss: 1.0998107242913935]\r 33%|███▎      | 5/15 [02:18<04:29, 26.96s/trial, best loss: 1.0781053912071734]\r 40%|████      | 6/15 [02:43<03:57, 26.39s/trial, best loss: 1.012114860779172] \r 47%|████▋     | 7/15 [03:08<03:27, 25.93s/trial, best loss: 1.012114860779172]\r 53%|█████▎    | 8/15 [03:34<03:00, 25.75s/trial, best loss: 1.012114860779172]\r 60%|██████    | 9/15 [03:59<02:34, 25.71s/trial, best loss: 1.012114860779172]\r 67%|██████▋   | 10/15 [04:25<02:09, 25.87s/trial, best loss: 1.012114860779172]\r 73%|███████▎  | 11/15 [04:57<01:51, 27.78s/trial, best loss: 1.012114860779172]\r 80%|████████  | 12/15 [05:23<01:21, 27.22s/trial, best loss: 1.012114860779172]\r 87%|████████▋ | 13/15 [05:49<00:53, 26.86s/trial, best loss: 1.012114860779172]\r 93%|█████████▎| 14/15 [06:16<00:26, 26.71s/trial, best loss: 1.012114860779172]\r100%|██████████| 15/15 [06:43<00:00, 26.87s/trial, best loss: 1.012114860779172]\r100%|██████████| 15/15 [06:43<00:00, 26.90s/trial, best loss: 1.012114860779172]\n"
     ]
    }
   ],
   "source": [
    "with mlflow.start_run(run_name=\"hyperopt_tips\"):\n",
    "    argmin = fmin(fn=objective,\n",
    "                  space=search_spaces,\n",
    "                  algo=tpe.suggest,\n",
    "                  max_evals=15,\n",
    "                  trials=Trials())"
   ]
  },
  {
   "cell_type": "code",
   "execution_count": 0,
   "metadata": {
    "application/vnd.databricks.v1+cell": {
     "cellMetadata": {
      "byteLimit": 2048000,
      "rowLimit": 10000
     },
     "inputWidgets": {},
     "nuid": "bc7e6cbe-088f-40e2-9eae-9545e0062169",
     "showTitle": false,
     "title": ""
    }
   },
   "outputs": [
    {
     "output_type": "stream",
     "name": "stdout",
     "output_type": "stream",
     "text": [
      "Parameters of the best model:  {'elasticNetParam': 0.043510497293485106, 'maxIter': 74.0, 'regParam': 1.2317754173310427}\n"
     ]
    }
   ],
   "source": [
    "print(\"Parameters of the best model: \", argmin)"
   ]
  },
  {
   "cell_type": "markdown",
   "metadata": {
    "application/vnd.databricks.v1+cell": {
     "cellMetadata": {
      "byteLimit": 2048000,
      "rowLimit": 10000
     },
     "inputWidgets": {},
     "nuid": "5a9418fc-f014-4e9c-9e64-997f0bc22ecc",
     "showTitle": false,
     "title": ""
    }
   },
   "source": [
    "<p>See also <a href=\"https://docs.databricks.com/en/machine-learning/automl-hyperparam-tuning/hyperopt-distributed-ml.html\" target=\"_blank\">this page</a> or <a href=\"https://customer-academy.databricks.com/learn/course/1522/play/9695/advanced-experiment-demo\" target=\"_blank\">this video</a> to learn more on <b>HyperOpt</b>.</p>"
   ]
  },
  {
   "cell_type": "markdown",
   "metadata": {
    "application/vnd.databricks.v1+cell": {
     "cellMetadata": {
      "byteLimit": 2048000,
      "rowLimit": 10000
     },
     "inputWidgets": {},
     "nuid": "3d035eb8-cc74-47d6-aa7d-469b39fcb013",
     "showTitle": false,
     "title": ""
    }
   },
   "source": [
    "<a id=\"logshap\"></a>\n",
    "<div style='background-color:rgba(30, 144, 255, 0.1);border-radius:5px;padding:2px;'>\n",
    "<span style=\"font-variant-caps: small-caps;font-weight:700\">8. Log and view artifacts like SHAP plots, custom visualizations, feature data, images, and metadata</span></div>\n",
    "<p>Looks like logging <b>SHAP</b> - <i>SHapley Additive exPlanations</i> - works with scikit-learn. So let's quickly train a model with scikit-learn library. For simplicity, let's keep <code>day</code> and <code>time</code> features out.</p>"
   ]
  },
  {
   "cell_type": "code",
   "execution_count": 0,
   "metadata": {
    "application/vnd.databricks.v1+cell": {
     "cellMetadata": {
      "byteLimit": 2048000,
      "rowLimit": 10000
     },
     "inputWidgets": {},
     "nuid": "7f360077-6a70-442f-9574-c7f2a0429116",
     "showTitle": false,
     "title": ""
    }
   },
   "outputs": [],
   "source": [
    "mlflow.autolog(disable=True)"
   ]
  },
  {
   "cell_type": "code",
   "execution_count": 0,
   "metadata": {
    "application/vnd.databricks.v1+cell": {
     "cellMetadata": {
      "byteLimit": 2048000,
      "rowLimit": 10000
     },
     "inputWidgets": {},
     "nuid": "8a18cd76-5efc-4b35-a6cd-b17b4c11586b",
     "showTitle": false,
     "title": ""
    }
   },
   "outputs": [],
   "source": [
    "from sklearn.linear_model import LinearRegression\n",
    "from sklearn.ensemble import RandomForestRegressor\n",
    "from sklearn.model_selection import train_test_split\n",
    "#\n",
    "import matplotlib.pyplot as plt"
   ]
  },
  {
   "cell_type": "code",
   "execution_count": 0,
   "metadata": {
    "application/vnd.databricks.v1+cell": {
     "cellMetadata": {
      "byteLimit": 2048000,
      "rowLimit": 10000
     },
     "inputWidgets": {},
     "nuid": "ee848b7e-7b52-45d9-84b2-9a030c20f13b",
     "showTitle": false,
     "title": ""
    }
   },
   "outputs": [],
   "source": [
    "# load dataset previously prepared\n",
    "pandas_tips = tips_sdf.toPandas()\n",
    "#\n",
    "# set features dataset\n",
    "pandas_tips_features = pandas_tips.drop([\"tip\", \"day\", \"time\"], axis=1)\n",
    "#\n",
    "# set target\n",
    "pandas_tips_target   = pandas_tips[\"tip\"]\n",
    "#\n",
    "# train test split\n",
    "pd_df_X_train, pd_df_X_test, pd_df_y_train, pd_df_y_test = train_test_split(pandas_tips_features,\n",
    "                                                                            pandas_tips_target,\n",
    "                                                                            test_size=0.33,\n",
    "                                                                            random_state=42)\n",
    "#\n",
    "# fit \n",
    "fitted_rfr_model = RandomForestRegressor().fit(pd_df_X_train, pd_df_y_train)"
   ]
  },
  {
   "cell_type": "markdown",
   "metadata": {
    "application/vnd.databricks.v1+cell": {
     "cellMetadata": {
      "byteLimit": 2048000,
      "rowLimit": 10000
     },
     "inputWidgets": {},
     "nuid": "206ff31c-6ee9-45f2-b47c-56d1023e9556",
     "showTitle": false,
     "title": ""
    }
   },
   "source": [
    "<p>Here is an example of logging SHAP to mlflow:</p>"
   ]
  },
  {
   "cell_type": "code",
   "execution_count": 0,
   "metadata": {
    "application/vnd.databricks.v1+cell": {
     "cellMetadata": {
      "byteLimit": 2048000,
      "rowLimit": 10000
     },
     "inputWidgets": {},
     "nuid": "9574a53e-48ab-429d-9315-a730e3c45bf4",
     "showTitle": false,
     "title": ""
    }
   },
   "outputs": [
    {
     "output_type": "display_data",
     "data": {
      "application/vnd.jupyter.widget-view+json": {
       "model_id": "56a5641835084ae89614b0a460224285",
       "version_major": 2,
       "version_minor": 0
      },
      "text/plain": [
       "  0%|          | 0/81 [00:00<?, ?it/s]"
      ]
     },
     "metadata": {},
     "output_type": "display_data"
    }
   ],
   "source": [
    "with mlflow.start_run(run_name=\"shap_tips\"):\n",
    "    mlflow.shap.log_explanation(fitted_rfr_model.predict, pd_df_X_test)"
   ]
  },
  {
   "cell_type": "markdown",
   "metadata": {
    "application/vnd.databricks.v1+cell": {
     "cellMetadata": {
      "byteLimit": 2048000,
      "rowLimit": 10000
     },
     "inputWidgets": {},
     "nuid": "c190cf02-6531-4f36-bb1c-396e69864287",
     "showTitle": false,
     "title": ""
    }
   },
   "source": [
    "<p>Here is an example of logging figure to mlflow:</p>"
   ]
  },
  {
   "cell_type": "code",
   "execution_count": 0,
   "metadata": {
    "application/vnd.databricks.v1+cell": {
     "cellMetadata": {
      "byteLimit": 2048000,
      "rowLimit": 10000
     },
     "inputWidgets": {},
     "nuid": "5e0431f5-6c8f-4c5a-a639-d60e8c780bbe",
     "showTitle": false,
     "title": ""
    }
   },
   "outputs": [
    {
     "output_type": "display_data",
     "data": {
      "image/png": "[encoded data removed]"
     },
     "metadata": {
      "application/vnd.databricks.v1+output": {
       "addedWidgets": {},
       "arguments": {},
       "data": "data:image/png;base64,iVBORw0KGgoAAAANSUhEUgAAAYIAAAEpCAYAAACeISWkAAAAOXRFWHRTb2Z0d2FyZQBNYXRwbG90bGliIHZlcnNpb24zLjQuMywgaHR0cHM6Ly9tYXRwbG90bGliLm9yZy/MnkTPAAAACXBIWXMAAAsTAAALEwEAmpwYAAAeQElEQVR4nO3debRcZZ3u8e9DZIiaMJjIDAFENCAKHRkEG0VoCQh4mzFcHBBBbBFtBEFFBPSCYiuuFrwXlFllRgwSQG2Eq2BDAoIQEAkIkoASxmCQyPD0H3sfrRzOsHNSw6naz2ets6r2UHv/ap9z6lfvsN9XtomIiPpaptMBREREZyURRETUXBJBRETNJRFERNRcEkFERM0lEURE1FwSQYxqkj4v6XudjqNOcs3rR7mPoHdJehBYFXipYfUbbT+ylMf8qO2fL1103UfSccAbbO/f6Vi6lSQD84E1bL9YrlsWmAdMtK1y3fXAVsALgIH7gEuAU2wvKvc5jvw+miIlgt63q+3XNvyMOAk0g6RXdfL8I9WtcY9STwFTG5anluv6O9T2OGB14DPAvsAMSWp9iPWSRFBDklaUdKakRyXNk/QVSWPKbRtIuk7SE5Iel/QDSSuV284H1gGulPQXSZ+V9C5Jc/sd/0FJO5TPj5N0qaTvS1oAfHio8w8Q63GSvl8+nyTJkg6Q9LCkpyQdIuntkn4r6WlJpza89sOSbpR0qqRnJP1O0nsatq8habqkJyXNkXRQv/M2xn0I8Hlgn/K931Hud4CkeyQ9K+kBSR9rOMa7JM2V9BlJj5Xv94CG7WMlfUPSQ2V8v5I0tty2laSbyvd0h6R39XtfD5Tn/IOk/z3ItTtH0lf6x9OwfFR5/Z+VdG/ftRnkmn9I0h/Lv4kv9HsP55a/i3vKv4nF/h4GcD7wwYblDwLnDbaz7YW2rwd2A7YGdhnm+LGEkgjq6RzgReANwGbAvwAfLbcJOAlYA3gzsDZwHIDtDwB/5B+ljJMrnm934FJgJeAHw5y/ii2BDYF9gG8BXwB2ADYG9pa0Xb997wcmAF8CLpe0SrntQmBu+V73BE6UtP0gcZ8JnAhcVL73t5b7PAa8DxgPHACcImnzhmOsBqwIrAkcCJwmaeVy238A/wS8A1gF+CzwsqQ1gauAr5TrjwAukzRR0muA/wSmlt+W3wHcvgTXDgBJGwGHAm8vj/Ne4MEhXrItsBHwHuBYSW8u138JmASsD+wIVKmmuQL4Z0krldfincCPh3uR7T8Cs8r9o4mSCHrfFeW3yqclXSFpVWBn4NPlN63HgFMoit3YnmP7Z7YX2Z4PfBPYbvDDV/Jr21fYfpniA3PQ81f0ZdvP2/4psBC4wPZjtucBv6RILn0eA75l+wXbFwH3ArtIWhvYBjiqPNbtwPdY/Jvq3+O2/deBArF9le37XbgB+CmLf1C9AJxQnn8G8BdgI0nLAB8BPmV7nu2XbN9U1n/vD8ywPaM8988oPgB3Lo/5MrCJpLG2H7U9ewmuXZ+XgOWByZKWtf2g7fuH2P9423+1fQdwB9CXCPcGTrT9lO25FElqOM8DV1Ik8n2A6eW6Kh6hSI7RREkEve/9tlcqf94PrAssCzzalyCA04HXA0haVdKFZZXBAuD7FN+ml8bDDc+HPH9Ff254/tcBll/bsDzPi/eIeIiiBLAG8KTtZ/ttW3OQuAckaaqk/y6rl56m+LBuvF5P9DWKlp4r45sArEBRWulvXWCvhgT+NMU38tVtL6T48DyE4hpeJelNw8XZn+05wKcpSnuPlb/zNYZ4yZ8GeA9QXMfG6zTsNSudR5F0h6wWGsCawJNLsH9UkERQPw8Di4AJDQlivO2Ny+0nUvTSeIvt8RTfThsb5/p3M1sIvLpvoazrn9hvn8bXDHf+ZltTWqxxcR2Kb5WPAKtIGtdv27xB4n7FsqTlgcsoqnhWtb0SMIPFr9dgHqf4FrzBANseBs5vuD4r2X6N7a8C2L7W9o4Ujai/A747yDkW+91QVFP9483YP7S9LUXiMfC1CnH39yiwVsPy2hVf90uK+FcFflXlBWUp7p/K10YTJRHUjO1HKaovviFpvKRlVDQQ91X/jKOovnimrKs+st8h/kxRH9zn98AKknZR0Q3wGIoqh5Gev9leDxwmaVlJe1G0e8yw/TBwE3CSpBUkbUpRh//9IY71Z2BSWa0DsBzFe50PvChpKkV7x7DKarKzgG+qaLQeI2nrMrl8H9hV0nvL9SuUDb1rlSW23cu2gkUUv6uXBznN7cDOklaRtBpFCQAo2ggkbV+e73mKktRgxxnKxcDnJK1c/r0cWvH9G9gV2K1fie0VJL26/Pv4MXALRbKNJkoiqKcPUnyI3U3Rbe9Sim9nAMcDmwPPUDRYXt7vtScBx5RVFkfYfgb4N4r69XkU30KH6zUy1Pmb7WaKhuXHgf8D7Gn7iXLbNIqGzkeAHwFfGub+iEvKxyck3VZWKx1G8WH4FLAfRX13VUcAdwIzKao7vgYsUyap3Sl6Kc2nKCEcSfH/ugxweBnzkxTtNx8f5PjnU9TnP0iRfC9q2LY88FWK6/InioT5uSWIvc8JFL/vPwA/p/hdLqryQtuzh2nfOFXSsxQJ+FsUpa+dyiQaTZQbyqJnSfowxc1v23Y6lrqQ9HFgX9utKuFFC6REEBEjJml1SduUVXwbUdz49aNOxxVLJndLRsTSWI6i19d6wNMU92Z8p5MBxZJL1VBERM2laigiouaSCCIiaq7r2ggmTJjgSZMmdTqMiIiucuuttz5uu//NnkAXJoJJkyYxa9asTocREdFVJD002LZUDUVE1FwSQUREzSURRETUXBJBRETNJRFERNRcEkFERM0lEURE1FwSQUREzXXdDWWtMOnoqzodQiUPfnWXTocQET0oJYKIiJpLIoiIqLkkgoiImksiiIiouSSCiIiaSyKIiKi5JIKIiJpLIoiIqLkkgoiImksiiIiouSSCiIiaa2kikLSTpHslzZF09ADb15H0C0m/kfRbSTu3Mp6IiHilliUCSWOA04CpwGRgmqTJ/XY7BrjY9mbAvsB3WhVPREQMrJUlgi2AObYfsP034EJg9377GBhfPl8ReKSF8URExABaOQz1msDDDctzgS377XMc8FNJnwReA+zQwngiImIAnW4sngacY3stYGfgfEmviEnSwZJmSZo1f/78tgcZEdHLWpkI5gFrNyyvVa5rdCBwMYDtXwMrABP6H8j2Gban2J4yceLEFoUbEVFPrUwEM4ENJa0naTmKxuDp/fb5I/AeAElvpkgE+cofEdFGLUsEtl8EDgWuBe6h6B00W9IJknYrd/sMcJCkO4ALgA/bdqtiioiIV2rpnMW2ZwAz+q07tuH53cA2rYwhIiKG1unG4oiI6LAkgoiImksiiIiouSSCiIiaSyKIiKi5JIKIiJpLIoiIqLkkgoiImksiiIiouSSCiIiaSyKIiKi5JIKIiJpLIoiIqLlhE4GkWyV9QtLK7QgoIiLaq0qJYB9gDWCmpAslvVeSWhxXRES0ybCJwPYc218A3gj8EDgLeEjS8ZJWaXWAERHRWpXaCCRtCnwD+DpwGbAXsAC4rnWhRUREOww7Q5mkW4GngTOBo20vKjfdLCmzi0VEdLkqU1XuZfuBxhWS1rP9B9v/2qK4IiKiTapUDV1acV1ERHShQUsEkt4EbAysKKnxm/94YIVWBxYREe0xVNXQRsD7gJWAXRvWPwsc1MKYIiKijQZNBLZ/DPxY0ta2f93GmCIioo2Gqhr6rO2Tgf0kTeu/3fZhLY0sIiLaYqiqoXvKx1ntCCQiIjpjqKqhKyWNAd5i+4g2xhQREW00ZPdR2y8BuWksIqKHVbmh7HZJ04FLgIV9K21f3rKoIiKibaokghWAJ4DtG9YZSCKIiOgBwyYC2we0I5CIiOiMKoPOnU1RAliM7Y+0JKKIiGirKlVDP2l4vgLwv4BHWhNORES0W5WqocsalyVdAPyqZRFFRERbjWTy+g2B1zc7kIiI6IwqbQTPUrQRqHz8E3BUi+OKiIg2qVI1NK4dgURERGdUaSymnI9gW4oSwS9tX9HKoCIion2GbSOQ9B3gEOBO4C7gEEmntTqwiIhojyolgu2BN9s2gKRzgdktjSoiItqmSq+hOcA6Dctrl+uGJWknSfdKmiPp6EH22VvS3ZJmS/phleNGRETzVCkRjAPukXRLufx2YFY5EB22dxvoReUQ1qcBOwJzgZmSptu+u2GfDYHPAdvYfkpSuqVGRLRZlURw7AiPvQUwx/YDAJIuBHYH7m7Y5yDgNNtPAdh+bITnioiIEarSffQGAEnjG/e3/eQwL10TeLhheS6wZb993lge+0ZgDHCc7WuGDzsiIpqlyg1lBwMnAM8DL/OPG8vWb9L5NwTeBawF/H9Jb7H99AAxHAywzjrrEBERzVOlauhIYBPbjy/hsedRNCz3Watc12gucLPtF4A/SPo9RWKY2biT7TOAMwCmTJnyipFQIyJi5Kr0GrofeG4Ex54JbChpPUnLAfsC0/vtcwVFaQBJEyiqih4YwbkiImKEqpQIPgfcJOlmYFHfStuHDfUi2y9KOhS4lqL+/yzbsyWdAMyyPb3c9i+S7gZeAo60/cQI30tERIxAlURwOnAdxZ3FLy/JwW3PAGb0W3dsw3MDh5c/ERHRAVUSwbK280EdEdGjqrQRXC3pYEmrS1ql76flkUVERFtUKRFMKx8/17CuWd1HIyKiw6rcULZeOwKJiIjOGDQRSNre9nXlXASvYPvy1oUVERHtMlSJYDuK3kK7DrDNQBJBREQPGDQR2P5S+XhA+8KJiIh2q9JrKCIielgSQUREzSURRETUXJX7CJD0DmASi89HcF6LYoqIiDaqMh/B+cAGwO0UA8NB0WsoiSAiogdUKRFMASaXA8RFRESPqdJGcBewWqsDiYiIzqhSIpgA3C3pFhafj2C3lkUVERFtUyURHNfqICIionOqDDp3QzsCiYiIzhhq0Llf2d5W0rMUvYT+volicrHxLY8uIiJabqixhrYtH8e1L5yIiGi33FkcEVFzSQQRETWXRBARUXOVEoGkdSXtUD4fKyntBhERPWLYRCDpIOBS4PRy1VrAFS2MKSIi2qhKieATwDbAAgDb9wGvb2VQERHRPlUSwSLbf+tbkPQqFr+vICIiuliVRHCDpM8DYyXtCFwCXNnasCIiol2qJIKjgfnAncDHgBnAMa0MKiIi2qfKWEMvA98FvitpFWCtzE0QEdE7qvQaul7S+DIJ3EqREE5pfWgREdEOVaqGVrS9APhX4DzbWwLvaW1YERHRLlUSwaskrQ7sDfykxfFERESbVUkEJwDXAnNsz5S0PnBfa8OKiIh2qdJYfAlFl9G+5QeAPVoZVEREtM+wiUDSCsCBwMbACn3rbX+khXFFRESbVKkaOh9YDXgvcAPFWEPPtjKoiIhonyqJ4A22vwgstH0usAuwZWvDioiIdqmSCF4oH5+WtAmwIhl0LiKiZwzbRgCcIWll4IvAdOC1wLEtjSoiItpm2BKB7e/Zfsr2DbbXt/162/+vysEl7STpXklzJB09xH57SLKkKUsSfERELL0qQ0ysKulMSVeXy5MlHVjhdWOA04CpwGRgmqTJA+w3DvgUcPOSBh8REUuvShvBORQ3lK1RLv8e+HSF121BcRPaA+V8BhcCuw+w35eBrwHPVzhmREQ0WZVEMMH2xcDLALZfBF6q8Lo1gYcblueW6/5O0ubA2ravGupAkg6WNEvSrPnz51c4dUREVFUlESyU9DrKWckkbQU8s7QnlrQM8E3gM8Pta/sM21NsT5k4ceLSnjoiIhpU6TV0OEVvoQ0k3QhMBPas8Lp5wNoNy2uV6/qMAzYBrpcExU1r0yXtZntWheNHREQTDJkIygbf7cqfjQAB99p+YajXlWYCG0pajyIB7Avs17fR9jPAhIZzXQ8ckSQQEdFeQ1YN2X4JmGb7Rduzbd9VMQn0tSUcStHQfA9wse3Zkk6QtNtSRx4REU1RpWroRkmnAhcBC/tW2r5tuBfankExx3HjugFvRrP9rgqxREREk1VJBG8rH09oWGdg+6ZHExERbVdlPoJ3tyOQiIjojCp3Fp8oaaWG5ZUlfaWlUUVERNtUuY9gqu2n+xZsPwXs3LKIIiKiraokgjGSlu9bkDQWWH6I/SMiootUaSz+AfBfks4ulw8Azm1dSBER0U5VGou/JukOYIdy1ZdtX9vasCIiol2qlAiguCHsRds/l/RqSeNsZ97iiIgeUKXX0EHApcDp5ao1gStaGFNERLRRlcbiTwDbAAsAbN9H5iyOiOgZVRLBonJiGQAkvYpySOqIiOh+VRLBDZI+D4yVtCNwCXBla8OKiIh2qZIIjgbmA3cCH6MYRO6YVgYVERHtU6X76MvAd8ufiIjoMYMmAkl3MkRbgO1NWxJRRES01VAlgveVj58oH88vH/cnjcURET1j0ERg+yEASTva3qxh01GSbqNoO4iIiC5XpbFYkrZpWHhHxddFREQXqDLExIHAWZJWLJefBj7SsogiIqKtqvQauhV4a18isP1My6OKiIi2qTroXBJARESPSl1/RETNJRFERNRcpaqhsqfQpMb9bZ/XopgiIqKNhk0Eks4HNgBuB14qVxtIIoiI6AFVSgRTgMm2czdxREQPqtJGcBewWqsDiYiIzqhSIpgA3C3pFmBR30rbu7UsqoiIaJsqieC4VgcRERGdU+XO4hvaEUhERHTGsG0EkraSNFPSXyT9TdJLkha0I7iIiGi9Ko3FpwLTgPuAscBHgdNaGVRERLRPpTuLbc8Bxth+yfbZwE6tDSsiItqlSmPxc5KWA26XdDLwKBmaIiKiZ1T5QP9Aud+hwEJgbWCPVgYVERHtU6XX0EOSxgKr2z6+DTFFREQbVek1tCvFOEPXlMtvkzS9xXFFRESbVKkaOg7YgmKKSmzfDqzXsogiIqKtqiSCFwaYnSwD0EVE9IgqiWC2pP2AMZI2lPRt4KYqB5e0k6R7Jc2RdPQA2w+XdLek30r6L0nrLmH8ERGxlKokgk8CG1MMOHcBsAD49HAvkjSG4sazqcBkYJqkyf12+w0wxfamwKXAyZUjj4iIpqjSa+g54Avlz5LYAphj+wEASRcCuwN3Nxz7Fw37/zew/xKeIyIiltKgiWC4nkEVhqFeE3i4YXkusOUQ+x8IXD1ILAcDBwOss846w5w2IiKWxFAlgq0pPsgvAG4G1KogJO1PMRPadgNtt30GcAbAlClT0lAdEdFEQyWC1YAdKQac2w+4CrjA9uyKx55HcRdyn7XKdYuRtANFtdN2thf13x4REa01aGNxOcDcNbY/BGwFzAGul3RoxWPPBDaUtF45VtG+wGLVTZI2A04HdrP92IjeQURELJUhG4slLQ/sQlEqmAT8J/CjKge2/WKZNK4FxgBn2Z4t6QRglu3pwNeB1wKXSAL4Y6bAjIhor6Eai88DNgFmAMfbvmtJD257Rvn6xnXHNjzfYUmPGRERzTVUiWB/itFGPwUcVn5jh6LR2LbHtzi2iIhog0ETge3MORARUQP5sI+IqLkkgoiImksiiIiouSSCiIiaSyKIiKi5JIKIiJpLIoiIqLkkgoiImksiiIiouSSCiIiaSyKIiKi5JIKIiJpLIoiIqLkkgoiImhtyhrKIiF4y6eirOh1CJQ9+dZe2ni8lgoiImksiiIiouSSCiIiaSyKIiKi5JIKIiJpLIoiIqLkkgoiImksiiIiouSSCiIiaSyKIiKi5JIKIiJpLIoiIqLkkgoiImksiiIiouSSCiIiaSyKIiKi5JIKIiJpLIoiIqLkkgoiImsucxdF0mRc2orukRBARUXNJBBERNdfSRCBpJ0n3Spoj6egBti8v6aJy+82SJrUynoiIeKWWJQJJY4DTgKnAZGCapMn9djsQeMr2G4BTgK+1Kp6IiBhYK0sEWwBzbD9g+2/AhcDu/fbZHTi3fH4p8B5JamFMERHRTyt7Da0JPNywPBfYcrB9bL8o6RngdcDjjTtJOhg4uFz8i6R7WxJxc02g3/tYWqp3eSnXs3mafi1rrlv+NtcdbENXdB+1fQZwRqfjWBKSZtme0uk4ekWuZ/PkWjZXL1zPVlYNzQPWblheq1w34D6SXgWsCDzRwpgiIqKfViaCmcCGktaTtBywLzC93z7TgQ+Vz/cErrPtFsYUERH9tKxqqKzzPxS4FhgDnGV7tqQTgFm2pwNnAudLmgM8SZEsekVXVWV1gVzP5sm1bK6uv57KF/CIiHrLncURETWXRBARUXNJBBERNZdEENHjJI2R9O+djiNGrzQWN4GkK4FBL6Tt3doYTk+QdKDtMxuWxwDH2D6+g2F1LUm32N6i03H0CkmrAicCa9ieWo6jtnXj32w3SSJoAknbDbXd9g3tiqVXSPohsBLFwISrAOcAN9g+ooNhdS1JpwDLAhcBC/vW276tY0F1MUlXA2cDX7D91vKG2N/YfkuHQxuRJIIYtSTtQzGC7UJgP9s3djikriXpFwOstu3t2x5MD5A00/bbJf3G9mblutttv63DoY1IV4w1NNpJupOhq4Y2bWM4PUHShsCngMuANwMfKP/pnutsZN3J9rs7HUOPWSjpdZT/95K2Ap7pbEgjl0TQHO/rdAA96ErgUNs/L4cmP5xi2JKNOxtWd+q1Ou1R4DMUQ+RsIOlGYCKwV2dDGrlUDcWoJGm87QX91r3R9u87FVM367U67dGgvIYbAQLutf1Ch0MasXQfbQJJvyofn5W0oP9jp+PrUmMlnSnpGoDyG+w7OxxTN5tg+2LgZSjGAgNe6mxI3UvS/cBHbc+2fZftFyT9pNNxjVQSQRPY3rZ8HGd7fP/HTsfXpc6hGLBw9XL598CnOxVMD+ipOu1R4AXg3ZLOLkdXhmKira6URNBkkjaXdJikT0rarNPxdLF8g22uw1m8Tvs84JOdDamrPWd7H+Ae4JeS1mGIDiOjXRqLm0jSsRQNRpeXq86RdIntr3QwrG6Vb7DN9RSwHQ112sDbOhlQlxOA7ZMl3Qb8lOJ+l66UxuImKudSfqvt58vlscDttjfqbGTdR9LmwLeBTYC7KHpl7Gn7tx0NrEtJuhXYzfa8cvmfgdPSWDwykna1fWXD8rrAh2yf0MGwRiwlguZ6BFgBeL5cXp5XTs8Z1WwATKWYynQPYEvy97o0DgGukLQrsDlwErBzZ0PqPpLeZPt3wLzyy0qjrm0szj9WE0j6NkUVxjPAbEk/K5d3BG7pZGxd7Iu2L5G0MvBu4D+A/0uREGIJ2Z4p6TCKKozngR1sz+9wWN3ocOBg4BsN6xqrVbryTu1UDTWBpA8Ntd32ue2KpVf03bov6STgTts/bLydP6oZYEDEycCjFG0GGRBxhCTtDVxje4GkL1KUsr7crWM3JRG0kaTLbO/R6Ti6Qdknex5FqWpz4K/ALbbf2tHAukwGRGwNSb+1vamkbYEvU5RYj7XdlSXWdB9tr/U7HUAX2ZviPoL32n6aokfGkR2NqAvZvqHvB/gdMK78uSdJYKn0dWXeBfiu7auA5YbYf1RLiaCNJN1mu38DU0TLlVUZXweup+j6+E7gSNuXdjKubtVrJdYkgjZKIohOkXQHsKPtx8rlicDPu/WDq9MkvRrYiaL96j5JqwNvsf3TDoc2Iuk11F7qdABRW8v0JYHSE6RqeMTK4dAvb1h+lKIRvislEbTXUZ0OIGrrGknXAheUy/sAV3cwnhhFUjXUBENMTCOKWaAyMU10nKQ9gG3KxV/a/lEn44nRI4mgCcrbywdl+6F2xRIxFEnjaagJsP1kB8OJUSKJIKIGJH0MOJ7iruKX+UdpNV2aI4mgmcoRMr9NMcfucsAYYGHmJIhOk3QfxdSUj3c6lhh90muguU4FpgH3AWOBjwKndTSiiML9wHOdDiJGp5QImkjSLNtT+m4/L9dlfJzouHKSpLOBm4FFfettH9axoGLUSPfR5nqunLbudkknU/QrTqkrRoPTgeuAOylnfYvokxJBE5W9h/5M0T7w78CKFJN/3N/RwKL2UjKNoeTbanO93/bzthfYPt724cD7Oh1UBHC1pIMlrS5plb6fTgcVo0NKBE000FhC+SYWo4GkPzQs/v2fPt1HA9JG0BSSpgH7AetJmt6waTyQG3ZiNDiKASZS6XBMMUokETTHTRQNwxNYfAq7Z4FMth6jwTG2Ly4nUtmeTP0ZDdJG0AS2H7J9ve2tWXzyj7m2X+xsdBFAj02kEs2VRNBEkvaimKx+L4oZtm6WtGdno4oAYJ6k0ylGHZ0haXny/x+lNBY3USb/iNGq1yZSieZKG0FzZfKPGJV6bSKVaK4kgua6eoDJP2Z0MJ6IiGHl22pzmeJW/k3LnzM6G05ExPDSRtBEg9xQ9vcB6CIiRqNUDTWBpI8D/wasL6nxvoFxwI2diSoiopqUCJpA0orAysBJwNENm57NVIARMdolEURE1FwaiyMiai6JICKi5pIIIiJqLokgIqLmkggiImrufwDQIMZWfkA14AAAAABJRU5ErkJggg==\n",
       "datasetInfos": [],
       "metadata": {},
       "removedWidgets": [],
       "type": "image"
      }
     },
     "output_type": "display_data"
    }
   ],
   "source": [
    "with mlflow.start_run(run_name=\"figure_tips\"):\n",
    "    #\n",
    "    # Generate feature importance plot thanks to feature_importances_ attribute of the RandomForestRegressor model\n",
    "    feature_importances = pd.Series(fitted_rfr_model.feature_importances_, index=pd_df_X_train.columns)\n",
    "    fig, ax = plt.subplots()\n",
    "    feature_importances.plot.bar(ax=ax)\n",
    "    ax.set_title(\"Feature importances using MDI\")\n",
    "    ax.set_ylabel(\"Mean decrease in impurity\")\n",
    "    #\n",
    "    # Log figure to mlflow\n",
    "    mlflow.log_figure(fig, \"feature_importance_rf.png\")"
   ]
  }
 ],
 "metadata": {
  "application/vnd.databricks.v1+notebook": {
   "dashboards": [],
   "language": "python",
   "notebookMetadata": {
    "mostRecentlyExecutedCommandWithImplicitDF": {
     "commandId": 1774797690553258,
     "dataframes": [
      "_sqldf"
     ]
    },
    "pythonIndentUnit": 2
   },
   "notebookName": "Databricks-ML-professional-S01c-Advanced-Experiment-Tracking",
   "widgets": {}
  }
 },
 "nbformat": 4,
 "nbformat_minor": 0
}
