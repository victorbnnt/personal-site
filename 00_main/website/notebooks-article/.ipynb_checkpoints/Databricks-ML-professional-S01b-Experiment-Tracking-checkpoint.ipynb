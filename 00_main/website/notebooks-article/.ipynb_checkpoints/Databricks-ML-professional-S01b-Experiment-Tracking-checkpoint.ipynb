{
 "cells": [
  {
   "cell_type": "markdown",
   "metadata": {
    "application/vnd.databricks.v1+cell": {
     "cellMetadata": {
      "byteLimit": 2048000,
      "rowLimit": 10000
     },
     "inputWidgets": {},
     "nuid": "58fab4bb-231e-48cf-8ed4-fc15a1b22845",
     "showTitle": false,
     "title": ""
    }
   },
   "source": [
    "<h4 style=\"font-variant-caps: small-caps;font-size:35pt;\">Databricks-ML-professional-S01b-Experiment-Tracking</h4>"
   ]
  },
  {
   "cell_type": "markdown",
   "metadata": {
    "application/vnd.databricks.v1+cell": {
     "cellMetadata": {
      "byteLimit": 2048000,
      "rowLimit": 10000
     },
     "inputWidgets": {},
     "nuid": "b5f6d0da-1d81-4fa0-9770-a9e4d6863534",
     "showTitle": false,
     "title": ""
    }
   },
   "source": [
    "<div style='background-color:rgba(30, 144, 255, 0.1);border-radius:5px;padding:2px;'>\n",
    "<span style=\"font-variant-caps: small-caps;font-weight:700\">1. Import libraries</span></div>"
   ]
  },
  {
   "cell_type": "code",
   "execution_count": 0,
   "metadata": {
    "application/vnd.databricks.v1+cell": {
     "cellMetadata": {
      "byteLimit": 2048000,
      "rowLimit": 10000
     },
     "inputWidgets": {},
     "nuid": "8a2d2e59-7426-4d5f-8d97-3dcff6e5151d",
     "showTitle": false,
     "title": ""
    }
   },
   "outputs": [
    {
     "output_type": "display_data",
     "data": {
      "application/vnd.databricks.v1+bamboolib_hint": "{\"pd.DataFrames\": [], \"version\": \"0.0.1\"}",
      "text/plain": []
     },
     "metadata": {},
     "output_type": "display_data"
    }
   ],
   "source": [
    "import pandas as pd\n",
    "import seaborn as sns\n",
    "#\n",
    "from pyspark.sql.functions import *\n",
    "#\n",
    "from pyspark.ml.feature import OneHotEncoder, StringIndexer, VectorAssembler\n",
    "from pyspark.ml.regression import GBTRegressor\n",
    "from pyspark.ml.evaluation import RegressionEvaluator\n",
    "from pyspark.ml import Pipeline\n",
    "#\n",
    "import mlflow"
   ]
  },
  {
   "cell_type": "markdown",
   "metadata": {
    "application/vnd.databricks.v1+cell": {
     "cellMetadata": {
      "byteLimit": 2048000,
      "rowLimit": 10000
     },
     "inputWidgets": {},
     "nuid": "aa08db2c-a856-4c86-81fe-9a8b7322cd6a",
     "showTitle": false,
     "title": ""
    }
   },
   "source": [
    "<div style='background-color:rgba(30, 144, 255, 0.1);border-radius:5px;padding:2px;'>\n",
    "<span style=\"font-variant-caps: small-caps;font-weight:700\">2. Load dataset, convert to Spark DataFrame</span></div>"
   ]
  },
  {
   "cell_type": "code",
   "execution_count": 0,
   "metadata": {
    "application/vnd.databricks.v1+cell": {
     "cellMetadata": {
      "byteLimit": 2048000,
      "rowLimit": 10000
     },
     "inputWidgets": {},
     "nuid": "5b64ff08-1603-4d0c-bc4e-19c0094c3b9c",
     "showTitle": false,
     "title": ""
    }
   },
   "outputs": [
    {
     "output_type": "display_data",
     "data": {
      "text/html": [
       "<style scoped>\n",
       "  .table-result-container {\n",
       "    max-height: 300px;\n",
       "    overflow: auto;\n",
       "  }\n",
       "  table, th, td {\n",
       "    border: 1px solid black;\n",
       "    border-collapse: collapse;\n",
       "  }\n",
       "  th, td {\n",
       "    padding: 5px;\n",
       "  }\n",
       "  th {\n",
       "    text-align: left;\n",
       "  }\n",
       "</style><div class='table-result-container'><table class='table-result'><thead style='background-color: white'><tr><th>total_bill</th><th>tip</th><th>sex</th><th>smoker</th><th>day</th><th>time</th><th>size</th></tr></thead><tbody><tr><td>16.99</td><td>1.01</td><td>Female</td><td>No</td><td>Sun</td><td>Dinner</td><td>2</td></tr><tr><td>10.34</td><td>1.66</td><td>Male</td><td>No</td><td>Sun</td><td>Dinner</td><td>3</td></tr><tr><td>21.01</td><td>3.5</td><td>Male</td><td>No</td><td>Sun</td><td>Dinner</td><td>3</td></tr><tr><td>23.68</td><td>3.31</td><td>Male</td><td>No</td><td>Sun</td><td>Dinner</td><td>2</td></tr><tr><td>24.59</td><td>3.61</td><td>Female</td><td>No</td><td>Sun</td><td>Dinner</td><td>4</td></tr></tbody></table></div>"
      ]
     },
     "metadata": {
      "application/vnd.databricks.v1+output": {
       "addedWidgets": {},
       "aggData": [],
       "aggError": "",
       "aggOverflow": false,
       "aggSchema": [],
       "aggSeriesLimitReached": false,
       "aggType": "",
       "arguments": {},
       "columnCustomDisplayInfos": {},
       "data": [
        [
         16.99,
         1.01,
         "Female",
         "No",
         "Sun",
         "Dinner",
         2
        ],
        [
         10.34,
         1.66,
         "Male",
         "No",
         "Sun",
         "Dinner",
         3
        ],
        [
         21.01,
         3.5,
         "Male",
         "No",
         "Sun",
         "Dinner",
         3
        ],
        [
         23.68,
         3.31,
         "Male",
         "No",
         "Sun",
         "Dinner",
         2
        ],
        [
         24.59,
         3.61,
         "Female",
         "No",
         "Sun",
         "Dinner",
         4
        ]
       ],
       "datasetInfos": [],
       "dbfsResultPath": null,
       "isJsonSchema": true,
       "metadata": {},
       "overflow": false,
       "plotOptions": {
        "customPlotOptions": {},
        "displayType": "table",
        "pivotAggregation": null,
        "pivotColumns": null,
        "xColumns": null,
        "yColumns": null
       },
       "removedWidgets": [],
       "schema": [
        {
         "metadata": "{}",
         "name": "total_bill",
         "type": "\"double\""
        },
        {
         "metadata": "{}",
         "name": "tip",
         "type": "\"double\""
        },
        {
         "metadata": "{}",
         "name": "sex",
         "type": "\"string\""
        },
        {
         "metadata": "{}",
         "name": "smoker",
         "type": "\"string\""
        },
        {
         "metadata": "{}",
         "name": "day",
         "type": "\"string\""
        },
        {
         "metadata": "{}",
         "name": "time",
         "type": "\"string\""
        },
        {
         "metadata": "{}",
         "name": "size",
         "type": "\"long\""
        }
       ],
       "type": "table"
      }
     },
     "output_type": "display_data"
    }
   ],
   "source": [
    "tips_df = sns.load_dataset(\"tips\")\n",
    "#\n",
    "tips_sdf = spark.createDataFrame(tips_df)\n",
    "#\n",
    "display(tips_sdf.limit(5))"
   ]
  },
  {
   "cell_type": "code",
   "execution_count": 0,
   "metadata": {
    "application/vnd.databricks.v1+cell": {
     "cellMetadata": {
      "byteLimit": 2048000,
      "rowLimit": 10000
     },
     "inputWidgets": {},
     "nuid": "d2d00502-ebc9-47fd-8026-2f93efa06258",
     "showTitle": false,
     "title": ""
    }
   },
   "outputs": [
    {
     "output_type": "display_data",
     "data": {
      "text/html": [
       "<style scoped>\n",
       "  .table-result-container {\n",
       "    max-height: 300px;\n",
       "    overflow: auto;\n",
       "  }\n",
       "  table, th, td {\n",
       "    border: 1px solid black;\n",
       "    border-collapse: collapse;\n",
       "  }\n",
       "  th, td {\n",
       "    padding: 5px;\n",
       "  }\n",
       "  th {\n",
       "    text-align: left;\n",
       "  }\n",
       "</style><div class='table-result-container'><table class='table-result'><thead style='background-color: white'><tr><th>total_bill</th><th>tip</th><th>sex</th><th>smoker</th><th>day</th><th>time</th><th>size</th></tr></thead><tbody></tbody></table></div>"
      ]
     },
     "metadata": {
      "application/vnd.databricks.v1+output": {
       "addedWidgets": {},
       "aggData": [],
       "aggError": "",
       "aggOverflow": false,
       "aggSchema": [],
       "aggSeriesLimitReached": false,
       "aggType": "",
       "arguments": {},
       "columnCustomDisplayInfos": {},
       "data": [],
       "datasetInfos": [],
       "dbfsResultPath": null,
       "isJsonSchema": true,
       "metadata": {},
       "overflow": false,
       "plotOptions": {
        "customPlotOptions": {},
        "displayType": "table",
        "pivotAggregation": null,
        "pivotColumns": null,
        "xColumns": null,
        "yColumns": null
       },
       "removedWidgets": [],
       "schema": [
        {
         "metadata": "{}",
         "name": "total_bill",
         "type": "\"double\""
        },
        {
         "metadata": "{}",
         "name": "tip",
         "type": "\"double\""
        },
        {
         "metadata": "{}",
         "name": "sex",
         "type": "\"string\""
        },
        {
         "metadata": "{}",
         "name": "smoker",
         "type": "\"string\""
        },
        {
         "metadata": "{}",
         "name": "day",
         "type": "\"string\""
        },
        {
         "metadata": "{}",
         "name": "time",
         "type": "\"string\""
        },
        {
         "metadata": "{}",
         "name": "size",
         "type": "\"long\""
        }
       ],
       "type": "table"
      }
     },
     "output_type": "display_data"
    }
   ],
   "source": [
    "display(tips_sdf.filter(\"size is null\"))"
   ]
  },
  {
   "cell_type": "markdown",
   "metadata": {
    "application/vnd.databricks.v1+cell": {
     "cellMetadata": {
      "byteLimit": 2048000,
      "rowLimit": 10000
     },
     "inputWidgets": {},
     "nuid": "2b595b34-0633-4f66-9ca0-6067f4cc0716",
     "showTitle": false,
     "title": ""
    }
   },
   "source": [
    "<div style='background-color:rgba(30, 144, 255, 0.1);border-radius:5px;padding:2px;'>\n",
    "<span style=\"font-variant-caps: small-caps;font-weight:700\">3. Prepare data</span></div>"
   ]
  },
  {
   "cell_type": "markdown",
   "metadata": {
    "application/vnd.databricks.v1+cell": {
     "cellMetadata": {
      "byteLimit": 2048000,
      "rowLimit": 10000
     },
     "inputWidgets": {},
     "nuid": "453316e6-0dc3-41b0-9730-27c39ed9bdf1",
     "showTitle": false,
     "title": ""
    }
   },
   "source": [
    "<p>Some transformations are done to prepare dataset to be used in training a ML model.</p>\n",
    "<table border style='border-collapse: collapse;'>\n",
    "<tr style=\"background-color:#EDEDED\">\n",
    "    <th>column name</th>\n",
    "    <th>comment</th>\n",
    "</tr>\n",
    "<tr>\n",
    "    <td><code>tip</code></td>\n",
    "    <td><b style='color:orangered'>target</b> to predict. Contains numeric</td>\n",
    "</tr>\n",
    "<tr>\n",
    "    <td><code>total_bill</code></td>\n",
    "    <td>numeric column to keep as is</td>\n",
    "</tr>\n",
    "<tr>\n",
    "    <td><code>sex</code></td>\n",
    "    <td>Contains <code>Female</code> and <code>Male</code> converted to <code>0</code> and <code>1</code></td>\n",
    "</tr>\n",
    "<tr>\n",
    "    <td><code>smoker</code></td>\n",
    "    <td>Contains <code>yes</code> and <code>no</code> converted to <code>0</code> and <code>1</code></td>\n",
    "</tr>\n",
    "<tr>\n",
    "    <td><code>time</code></td>\n",
    "    <td>Contains <code>Dinner</code> and <code>Lunch</code> converted to <code>0</code> and <code>1</code></td>\n",
    "</tr>\n",
    "<tr>\n",
    "    <td><code>day</code></td>\n",
    "    <td>categorical column to <b>One Hot Encode</b></td>\n",
    "</tr>\n",
    "<tr>\n",
    "    <td><code>size</code></td>\n",
    "    <td>categorical column to <b>One Hot Encode</b></td>\n",
    "</tr>\n",
    "</table>"
   ]
  },
  {
   "cell_type": "code",
   "execution_count": 0,
   "metadata": {
    "application/vnd.databricks.v1+cell": {
     "cellMetadata": {
      "byteLimit": 2048000,
      "rowLimit": 10000
     },
     "inputWidgets": {},
     "nuid": "92c6fbbf-0a08-4fee-8ad7-abdf5a0f9ea4",
     "showTitle": false,
     "title": ""
    }
   },
   "outputs": [],
   "source": [
    "tips_sdf = tips_sdf.selectExpr(\"total_bill\",\n",
    "                               \"tip\",\n",
    "                               \"case when sex = 'Female' then 1 else 0 end as sex\",\n",
    "                               \"case when smoker = 'yes' then 1 else 0 end as smoker\",\n",
    "                               \"case when time = 'Dinner' then 1 else 0 end as time\",\n",
    "                               \"day\",\n",
    "                               \"size\")\n",
    "#\n",
    "train_df, test_df = tips_sdf.randomSplit([.8, .2], seed=42)\n",
    "#\n",
    "ohe_cols = [\"size\", \"day\"]\n",
    "num_cols = [\"total_bill\", \"sex\", \"smoker\", \"time\"]\n",
    "target_col = \"tip\"\n",
    "#\n",
    "string_indexer = StringIndexer(inputCols=ohe_cols, outputCols=[c+\"_index\" for c in ohe_cols], handleInvalid=\"skip\")\n",
    "#\n",
    "ohe = OneHotEncoder()\n",
    "ohe.setInputCols([c+\"_index\" for c in ohe_cols])\n",
    "ohe.setOutputCols([c+\"_ohe\" for c in ohe_cols])\n",
    "#\n",
    "assembler_inputs = [c+\"_ohe\" for c in ohe_cols] + num_cols\n",
    "vec_assembler = VectorAssembler(inputCols=assembler_inputs, outputCol=\"features\")"
   ]
  },
  {
   "cell_type": "markdown",
   "metadata": {
    "application/vnd.databricks.v1+cell": {
     "cellMetadata": {
      "byteLimit": 2048000,
      "rowLimit": 10000
     },
     "inputWidgets": {},
     "nuid": "910af898-da90-4e26-a856-cdb4b902e101",
     "showTitle": false,
     "title": ""
    }
   },
   "source": [
    "<div style='background-color:rgba(30, 144, 255, 0.1);border-radius:5px;padding:2px;'>\n",
    "<span style=\"font-variant-caps: small-caps;font-weight:700\">4. Evaluator and model</span></div>"
   ]
  },
  {
   "cell_type": "code",
   "execution_count": 0,
   "metadata": {
    "application/vnd.databricks.v1+cell": {
     "cellMetadata": {
      "byteLimit": 2048000,
      "rowLimit": 10000
     },
     "inputWidgets": {},
     "nuid": "06212c8c-e7bf-45e7-827f-fd3fcad64486",
     "showTitle": false,
     "title": ""
    }
   },
   "outputs": [],
   "source": [
    "gbt =       GBTRegressor(featuresCol=\"features\", labelCol=target_col, maxIter=5)\n",
    "evaluator = RegressionEvaluator(labelCol=target_col, predictionCol=\"prediction\", metricName=\"rmse\")"
   ]
  },
  {
   "cell_type": "markdown",
   "metadata": {
    "application/vnd.databricks.v1+cell": {
     "cellMetadata": {
      "byteLimit": 2048000,
      "rowLimit": 10000
     },
     "inputWidgets": {},
     "nuid": "cd1fc5a1-c77d-45e4-88b2-d2861900b3e5",
     "showTitle": false,
     "title": ""
    }
   },
   "source": [
    "<a id=\"manuallylog\"></a>\n",
    "<div style='background-color:rgba(30, 144, 255, 0.1);border-radius:5px;padding:2px;'>\n",
    "<span style=\"font-variant-caps: small-caps;font-weight:700\">5. Manually log parameters, models, and evaluation metrics using MLflow</span></div>"
   ]
  },
  {
   "cell_type": "code",
   "execution_count": 0,
   "metadata": {
    "application/vnd.databricks.v1+cell": {
     "cellMetadata": {
      "byteLimit": 2048000,
      "rowLimit": 10000
     },
     "inputWidgets": {},
     "nuid": "c0a1d573-d054-48bb-864a-fb9eab2efaa3",
     "showTitle": false,
     "title": ""
    }
   },
   "outputs": [
    {
     "output_type": "stream",
     "name": "stdout",
     "output_type": "stream",
     "text": [
      "2023/11/06 15:56:41 WARNING mlflow.utils.environment: Encountered an unexpected error while inferring pip requirements (model URI: /tmp/tmpop48rtgt, flavor: spark), fall back to return ['pyspark==3.3.0']. Set logging level to DEBUG to see the full traceback.\n"
     ]
    }
   ],
   "source": [
    "model_name = \"GBT-Regressor\"\n",
    "#\n",
    "with mlflow.start_run(run_name=\"Tip-run\") as run:\n",
    "    #\n",
    "    # define pipeline stages according to model\n",
    "    stages = [string_indexer, ohe, vec_assembler, gbt]\n",
    "    #\n",
    "    # set pipeline\n",
    "    pipeline = Pipeline(stages=stages)\n",
    "    #\n",
    "    # fit pipeline to train set\n",
    "    model = pipeline.fit(train_df)\n",
    "    #\n",
    "    # manually log model to mlflow\n",
    "    mlflow.spark.log_model(model, model_name)\n",
    "    #\n",
    "    # manually log parameter to mlflow\n",
    "    mlflow.log_param(\"maxIter\", 5)\n",
    "    #\n",
    "    # predict test set\n",
    "    pred_df = model.transform(test_df)\n",
    "    #\n",
    "    # evaluate prediction\n",
    "    rmse = evaluator.evaluate(pred_df)\n",
    "    #\n",
    "    # manually log metric to mlflow\n",
    "    mlflow.log_metric(\"rmse\", rmse)"
   ]
  },
  {
   "cell_type": "markdown",
   "metadata": {
    "application/vnd.databricks.v1+cell": {
     "cellMetadata": {},
     "inputWidgets": {},
     "nuid": "b7c1ad7c-c381-4758-bb59-5114ba6f0ba3",
     "showTitle": false,
     "title": ""
    }
   },
   "source": [
    "<a id=\"programmaticallyaccess\"></a>\n",
    "<div style='background-color:rgba(30, 144, 255, 0.1);border-radius:5px;padding:2px;'>\n",
    "<span style=\"font-variant-caps: small-caps;font-weight:700\">6. Programmatically access and use data, metadata, and models from MLflow experiments</span></div>"
   ]
  },
  {
   "cell_type": "markdown",
   "metadata": {
    "application/vnd.databricks.v1+cell": {
     "cellMetadata": {},
     "inputWidgets": {},
     "nuid": "89edcb39-0b90-44ca-b6fd-5af69c3115a3",
     "showTitle": false,
     "title": ""
    }
   },
   "source": [
    "<p>This can be done in different ways. One of them is to access it programmaticaly with the function <code>mlflow.search_runs</code> which results in a Pandas dataframe containing all useful information for all runs in the current experiment <i>(by default, the current experiment has the name of the current notebook)</i>:</p>"
   ]
  },
  {
   "cell_type": "code",
   "execution_count": 0,
   "metadata": {
    "application/vnd.databricks.v1+cell": {
     "cellMetadata": {
      "byteLimit": 2048000,
      "rowLimit": 10000
     },
     "inputWidgets": {},
     "nuid": "e5839d28-4117-400d-9a8c-d7fa5fbd0665",
     "showTitle": false,
     "title": ""
    }
   },
   "outputs": [
    {
     "output_type": "display_data",
     "data": {
      "text/html": [
       "<div>\n",
       "<style scoped>\n",
       "    .dataframe tbody tr th:only-of-type {\n",
       "        vertical-align: middle;\n",
       "    }\n",
       "\n",
       "    .dataframe tbody tr th {\n",
       "        vertical-align: top;\n",
       "    }\n",
       "\n",
       "    .dataframe thead th {\n",
       "        text-align: right;\n",
       "    }\n",
       "</style>\n",
       "<table border=\"1\" class=\"dataframe\">\n",
       "  <thead>\n",
       "    <tr style=\"text-align: right;\">\n",
       "      <th></th>\n",
       "      <th>run_id</th>\n",
       "      <th>experiment_id</th>\n",
       "      <th>status</th>\n",
       "      <th>artifact_uri</th>\n",
       "      <th>start_time</th>\n",
       "      <th>end_time</th>\n",
       "      <th>metrics.rmse</th>\n",
       "      <th>params.maxIter</th>\n",
       "      <th>tags.mlflow.databricks.cluster.id</th>\n",
       "      <th>tags.mlflow.databricks.cluster.libraries.error</th>\n",
       "      <th>tags.mlflow.user</th>\n",
       "      <th>tags.mlflow.databricks.workspaceID</th>\n",
       "      <th>tags.mlflow.databricks.workspaceURL</th>\n",
       "      <th>tags.mlflow.databricks.notebookPath</th>\n",
       "      <th>tags.mlflow.source.name</th>\n",
       "      <th>tags.mlflow.runName</th>\n",
       "      <th>tags.mlflow.databricks.notebookID</th>\n",
       "      <th>tags.mlflow.source.type</th>\n",
       "      <th>tags.mlflow.log-model.history</th>\n",
       "      <th>tags.mlflow.databricks.cluster.info</th>\n",
       "      <th>tags.mlflow.databricks.notebook.commandID</th>\n",
       "      <th>tags.mlflow.databricks.webappURL</th>\n",
       "      <th>tags.sparkDatasourceInfo</th>\n",
       "      <th>tags.mlflow.databricks.notebookRevisionID</th>\n",
       "    </tr>\n",
       "  </thead>\n",
       "  <tbody>\n",
       "    <tr>\n",
       "      <th>0</th>\n",
       "      <td>0a1d747c58df40d7977e830990f540eb</td>\n",
       "      <td>121806328486233</td>\n",
       "      <td>FINISHED</td>\n",
       "      <td>dbfs:/databricks/mlflow-tracking/1218063284862...</td>\n",
       "      <td>2023-11-06 15:56:07.176000+00:00</td>\n",
       "      <td>2023-11-06 15:56:43.332000+00:00</td>\n",
       "      <td>1.498592</td>\n",
       "      <td>5</td>\n",
       "      <td>1103-171254-zkooaj5p</td>\n",
       "      <td>This message class grpc_shaded.com.databricks....</td>\n",
       "      <td>victor.bonnet.mg@gmail.com</td>\n",
       "      <td>2434150836020126</td>\n",
       "      <td>adb-2434150836020126.6.azuredatabricks.net</td>\n",
       "      <td>/Users/victor.bonnet.mg@gmail.com/notebooks-fo...</td>\n",
       "      <td>/Users/victor.bonnet.mg@gmail.com/notebooks-fo...</td>\n",
       "      <td>Tip-run</td>\n",
       "      <td>121806328486233</td>\n",
       "      <td>NOTEBOOK</td>\n",
       "      <td>[{\"artifact_path\":\"GBT-Regressor\",\"flavors\":{\"...</td>\n",
       "      <td>{\"cluster_name\":\"Victor BONNET's Cluster\",\"spa...</td>\n",
       "      <td>9095861010363393222_4903848524339674381_12e67d...</td>\n",
       "      <td>https://eastus-c3.azuredatabricks.net</td>\n",
       "      <td>None</td>\n",
       "      <td>None</td>\n",
       "    </tr>\n",
       "    <tr>\n",
       "      <th>1</th>\n",
       "      <td>6fb42e670d5c449cb0bb598995db82fd</td>\n",
       "      <td>121806328486233</td>\n",
       "      <td>FINISHED</td>\n",
       "      <td>dbfs:/databricks/mlflow-tracking/1218063284862...</td>\n",
       "      <td>2023-11-06 15:34:45.837000+00:00</td>\n",
       "      <td>2023-11-06 15:35:34.651000+00:00</td>\n",
       "      <td>1.069050</td>\n",
       "      <td>30</td>\n",
       "      <td>1103-171254-zkooaj5p</td>\n",
       "      <td>This message class grpc_shaded.com.databricks....</td>\n",
       "      <td>victor.bonnet.mg@gmail.com</td>\n",
       "      <td>2434150836020126</td>\n",
       "      <td>adb-2434150836020126.6.azuredatabricks.net</td>\n",
       "      <td>/Users/victor.bonnet.mg@gmail.com/notebooks-fo...</td>\n",
       "      <td>/Users/victor.bonnet.mg@gmail.com/notebooks-fo...</td>\n",
       "      <td>Tip-run</td>\n",
       "      <td>121806328486233</td>\n",
       "      <td>NOTEBOOK</td>\n",
       "      <td>[{\"artifact_path\":\"GBT-Regressor\",\"flavors\":{\"...</td>\n",
       "      <td>{\"cluster_name\":\"Victor BONNET's Cluster\",\"spa...</td>\n",
       "      <td>7163016224346667493_6187791156394192169_96499e...</td>\n",
       "      <td>https://eastus-c3.azuredatabricks.net</td>\n",
       "      <td>path=dbfs:/user/hive/warehouse/tips_sdf,versio...</td>\n",
       "      <td>1699284934936</td>\n",
       "    </tr>\n",
       "    <tr>\n",
       "      <th>2</th>\n",
       "      <td>df0104e271c341979d6db34f5cbbb36b</td>\n",
       "      <td>121806328486233</td>\n",
       "      <td>FINISHED</td>\n",
       "      <td>dbfs:/databricks/mlflow-tracking/1218063284862...</td>\n",
       "      <td>2023-11-06 15:33:48.987000+00:00</td>\n",
       "      <td>2023-11-06 15:34:27.323000+00:00</td>\n",
       "      <td>1.066086</td>\n",
       "      <td>15</td>\n",
       "      <td>1103-171254-zkooaj5p</td>\n",
       "      <td>This message class grpc_shaded.com.databricks....</td>\n",
       "      <td>victor.bonnet.mg@gmail.com</td>\n",
       "      <td>2434150836020126</td>\n",
       "      <td>adb-2434150836020126.6.azuredatabricks.net</td>\n",
       "      <td>/Users/victor.bonnet.mg@gmail.com/notebooks-fo...</td>\n",
       "      <td>/Users/victor.bonnet.mg@gmail.com/notebooks-fo...</td>\n",
       "      <td>Tip-run</td>\n",
       "      <td>121806328486233</td>\n",
       "      <td>NOTEBOOK</td>\n",
       "      <td>[{\"artifact_path\":\"GBT-Regressor\",\"flavors\":{\"...</td>\n",
       "      <td>{\"cluster_name\":\"Victor BONNET's Cluster\",\"spa...</td>\n",
       "      <td>7163016224346667493_7693249504534724776_f5160c...</td>\n",
       "      <td>https://eastus-c3.azuredatabricks.net</td>\n",
       "      <td>path=dbfs:/user/hive/warehouse/tips_sdf,versio...</td>\n",
       "      <td>1699284867633</td>\n",
       "    </tr>\n",
       "    <tr>\n",
       "      <th>3</th>\n",
       "      <td>1fca201a147a4e5eb870f5e5c042f854</td>\n",
       "      <td>121806328486233</td>\n",
       "      <td>FINISHED</td>\n",
       "      <td>dbfs:/databricks/mlflow-tracking/1218063284862...</td>\n",
       "      <td>2023-11-06 15:24:24.329000+00:00</td>\n",
       "      <td>2023-11-06 15:25:03.545000+00:00</td>\n",
       "      <td>1.061725</td>\n",
       "      <td>10</td>\n",
       "      <td>1103-171254-zkooaj5p</td>\n",
       "      <td>This message class grpc_shaded.com.databricks....</td>\n",
       "      <td>victor.bonnet.mg@gmail.com</td>\n",
       "      <td>2434150836020126</td>\n",
       "      <td>adb-2434150836020126.6.azuredatabricks.net</td>\n",
       "      <td>/Users/victor.bonnet.mg@gmail.com/notebooks-fo...</td>\n",
       "      <td>/Users/victor.bonnet.mg@gmail.com/notebooks-fo...</td>\n",
       "      <td>Tip-run</td>\n",
       "      <td>121806328486233</td>\n",
       "      <td>NOTEBOOK</td>\n",
       "      <td>[{\"artifact_path\":\"GBT-Regressor\",\"flavors\":{\"...</td>\n",
       "      <td>{\"cluster_name\":\"Victor BONNET's Cluster\",\"spa...</td>\n",
       "      <td>7163016224346667493_7817536333738181060_bbe0ea...</td>\n",
       "      <td>https://eastus-c3.azuredatabricks.net</td>\n",
       "      <td>path=dbfs:/user/hive/warehouse/tips_sdf,versio...</td>\n",
       "      <td>1699284303884</td>\n",
       "    </tr>\n",
       "  </tbody>\n",
       "</table>\n",
       "</div>"
      ]
     },
     "metadata": {
      "application/vnd.databricks.v1+output": {
       "addedWidgets": {},
       "arguments": {},
       "data": "<div>\n<style scoped>\n    .dataframe tbody tr th:only-of-type {\n        vertical-align: middle;\n    }\n\n    .dataframe tbody tr th {\n        vertical-align: top;\n    }\n\n    .dataframe thead th {\n        text-align: right;\n    }\n</style>\n<table border=\"1\" class=\"dataframe\">\n  <thead>\n    <tr style=\"text-align: right;\">\n      <th></th>\n      <th>run_id</th>\n      <th>experiment_id</th>\n      <th>status</th>\n      <th>artifact_uri</th>\n      <th>start_time</th>\n      <th>end_time</th>\n      <th>metrics.rmse</th>\n      <th>params.maxIter</th>\n      <th>tags.mlflow.databricks.cluster.id</th>\n      <th>tags.mlflow.databricks.cluster.libraries.error</th>\n      <th>tags.mlflow.user</th>\n      <th>tags.mlflow.databricks.workspaceID</th>\n      <th>tags.mlflow.databricks.workspaceURL</th>\n      <th>tags.mlflow.databricks.notebookPath</th>\n      <th>tags.mlflow.source.name</th>\n      <th>tags.mlflow.runName</th>\n      <th>tags.mlflow.databricks.notebookID</th>\n      <th>tags.mlflow.source.type</th>\n      <th>tags.mlflow.log-model.history</th>\n      <th>tags.mlflow.databricks.cluster.info</th>\n      <th>tags.mlflow.databricks.notebook.commandID</th>\n      <th>tags.mlflow.databricks.webappURL</th>\n      <th>tags.sparkDatasourceInfo</th>\n      <th>tags.mlflow.databricks.notebookRevisionID</th>\n    </tr>\n  </thead>\n  <tbody>\n    <tr>\n      <th>0</th>\n      <td>0a1d747c58df40d7977e830990f540eb</td>\n      <td>121806328486233</td>\n      <td>FINISHED</td>\n      <td>dbfs:/databricks/mlflow-tracking/1218063284862...</td>\n      <td>2023-11-06 15:56:07.176000+00:00</td>\n      <td>2023-11-06 15:56:43.332000+00:00</td>\n      <td>1.498592</td>\n      <td>5</td>\n      <td>1103-171254-zkooaj5p</td>\n      <td>This message class grpc_shaded.com.databricks....</td>\n      <td>victor.bonnet.mg@gmail.com</td>\n      <td>2434150836020126</td>\n      <td>adb-2434150836020126.6.azuredatabricks.net</td>\n      <td>/Users/victor.bonnet.mg@gmail.com/notebooks-fo...</td>\n      <td>/Users/victor.bonnet.mg@gmail.com/notebooks-fo...</td>\n      <td>Tip-run</td>\n      <td>121806328486233</td>\n      <td>NOTEBOOK</td>\n      <td>[{\"artifact_path\":\"GBT-Regressor\",\"flavors\":{\"...</td>\n      <td>{\"cluster_name\":\"Victor BONNET's Cluster\",\"spa...</td>\n      <td>9095861010363393222_4903848524339674381_12e67d...</td>\n      <td>https://eastus-c3.azuredatabricks.net</td>\n      <td>None</td>\n      <td>None</td>\n    </tr>\n    <tr>\n      <th>1</th>\n      <td>6fb42e670d5c449cb0bb598995db82fd</td>\n      <td>121806328486233</td>\n      <td>FINISHED</td>\n      <td>dbfs:/databricks/mlflow-tracking/1218063284862...</td>\n      <td>2023-11-06 15:34:45.837000+00:00</td>\n      <td>2023-11-06 15:35:34.651000+00:00</td>\n      <td>1.069050</td>\n      <td>30</td>\n      <td>1103-171254-zkooaj5p</td>\n      <td>This message class grpc_shaded.com.databricks....</td>\n      <td>victor.bonnet.mg@gmail.com</td>\n      <td>2434150836020126</td>\n      <td>adb-2434150836020126.6.azuredatabricks.net</td>\n      <td>/Users/victor.bonnet.mg@gmail.com/notebooks-fo...</td>\n      <td>/Users/victor.bonnet.mg@gmail.com/notebooks-fo...</td>\n      <td>Tip-run</td>\n      <td>121806328486233</td>\n      <td>NOTEBOOK</td>\n      <td>[{\"artifact_path\":\"GBT-Regressor\",\"flavors\":{\"...</td>\n      <td>{\"cluster_name\":\"Victor BONNET's Cluster\",\"spa...</td>\n      <td>7163016224346667493_6187791156394192169_96499e...</td>\n      <td>https://eastus-c3.azuredatabricks.net</td>\n      <td>path=dbfs:/user/hive/warehouse/tips_sdf,versio...</td>\n      <td>1699284934936</td>\n    </tr>\n    <tr>\n      <th>2</th>\n      <td>df0104e271c341979d6db34f5cbbb36b</td>\n      <td>121806328486233</td>\n      <td>FINISHED</td>\n      <td>dbfs:/databricks/mlflow-tracking/1218063284862...</td>\n      <td>2023-11-06 15:33:48.987000+00:00</td>\n      <td>2023-11-06 15:34:27.323000+00:00</td>\n      <td>1.066086</td>\n      <td>15</td>\n      <td>1103-171254-zkooaj5p</td>\n      <td>This message class grpc_shaded.com.databricks....</td>\n      <td>victor.bonnet.mg@gmail.com</td>\n      <td>2434150836020126</td>\n      <td>adb-2434150836020126.6.azuredatabricks.net</td>\n      <td>/Users/victor.bonnet.mg@gmail.com/notebooks-fo...</td>\n      <td>/Users/victor.bonnet.mg@gmail.com/notebooks-fo...</td>\n      <td>Tip-run</td>\n      <td>121806328486233</td>\n      <td>NOTEBOOK</td>\n      <td>[{\"artifact_path\":\"GBT-Regressor\",\"flavors\":{\"...</td>\n      <td>{\"cluster_name\":\"Victor BONNET's Cluster\",\"spa...</td>\n      <td>7163016224346667493_7693249504534724776_f5160c...</td>\n      <td>https://eastus-c3.azuredatabricks.net</td>\n      <td>path=dbfs:/user/hive/warehouse/tips_sdf,versio...</td>\n      <td>1699284867633</td>\n    </tr>\n    <tr>\n      <th>3</th>\n      <td>1fca201a147a4e5eb870f5e5c042f854</td>\n      <td>121806328486233</td>\n      <td>FINISHED</td>\n      <td>dbfs:/databricks/mlflow-tracking/1218063284862...</td>\n      <td>2023-11-06 15:24:24.329000+00:00</td>\n      <td>2023-11-06 15:25:03.545000+00:00</td>\n      <td>1.061725</td>\n      <td>10</td>\n      <td>1103-171254-zkooaj5p</td>\n      <td>This message class grpc_shaded.com.databricks....</td>\n      <td>victor.bonnet.mg@gmail.com</td>\n      <td>2434150836020126</td>\n      <td>adb-2434150836020126.6.azuredatabricks.net</td>\n      <td>/Users/victor.bonnet.mg@gmail.com/notebooks-fo...</td>\n      <td>/Users/victor.bonnet.mg@gmail.com/notebooks-fo...</td>\n      <td>Tip-run</td>\n      <td>121806328486233</td>\n      <td>NOTEBOOK</td>\n      <td>[{\"artifact_path\":\"GBT-Regressor\",\"flavors\":{\"...</td>\n      <td>{\"cluster_name\":\"Victor BONNET's Cluster\",\"spa...</td>\n      <td>7163016224346667493_7817536333738181060_bbe0ea...</td>\n      <td>https://eastus-c3.azuredatabricks.net</td>\n      <td>path=dbfs:/user/hive/warehouse/tips_sdf,versio...</td>\n      <td>1699284303884</td>\n    </tr>\n  </tbody>\n</table>\n</div>",
       "datasetInfos": [],
       "metadata": {},
       "removedWidgets": [],
       "textData": null,
       "type": "htmlSandbox"
      }
     },
     "output_type": "display_data"
    }
   ],
   "source": [
    "mlflow.search_runs()"
   ]
  },
  {
   "cell_type": "markdown",
   "metadata": {
    "application/vnd.databricks.v1+cell": {
     "cellMetadata": {},
     "inputWidgets": {},
     "nuid": "f04a8cf6-a501-4e11-a7af-66b9b9bd6744",
     "showTitle": false,
     "title": ""
    }
   },
   "source": [
    "<p>Using Pandas syntax information can be filtered on what is needed:</p>"
   ]
  },
  {
   "cell_type": "code",
   "execution_count": 0,
   "metadata": {
    "application/vnd.databricks.v1+cell": {
     "cellMetadata": {
      "byteLimit": 2048000,
      "rowLimit": 10000
     },
     "inputWidgets": {},
     "nuid": "29d945c5-a93c-4f84-a01b-341d71e9f980",
     "showTitle": false,
     "title": ""
    }
   },
   "outputs": [
    {
     "output_type": "display_data",
     "data": {
      "text/html": [
       "<div>\n",
       "<style scoped>\n",
       "    .dataframe tbody tr th:only-of-type {\n",
       "        vertical-align: middle;\n",
       "    }\n",
       "\n",
       "    .dataframe tbody tr th {\n",
       "        vertical-align: top;\n",
       "    }\n",
       "\n",
       "    .dataframe thead th {\n",
       "        text-align: right;\n",
       "    }\n",
       "</style>\n",
       "<table border=\"1\" class=\"dataframe\">\n",
       "  <thead>\n",
       "    <tr style=\"text-align: right;\">\n",
       "      <th></th>\n",
       "      <th>tags.mlflow.runName</th>\n",
       "      <th>run_id</th>\n",
       "      <th>params.maxIter</th>\n",
       "      <th>metrics.rmse</th>\n",
       "    </tr>\n",
       "  </thead>\n",
       "  <tbody>\n",
       "    <tr>\n",
       "      <th>3</th>\n",
       "      <td>Tip-run</td>\n",
       "      <td>1fca201a147a4e5eb870f5e5c042f854</td>\n",
       "      <td>10</td>\n",
       "      <td>1.061725</td>\n",
       "    </tr>\n",
       "    <tr>\n",
       "      <th>2</th>\n",
       "      <td>Tip-run</td>\n",
       "      <td>df0104e271c341979d6db34f5cbbb36b</td>\n",
       "      <td>15</td>\n",
       "      <td>1.066086</td>\n",
       "    </tr>\n",
       "    <tr>\n",
       "      <th>1</th>\n",
       "      <td>Tip-run</td>\n",
       "      <td>6fb42e670d5c449cb0bb598995db82fd</td>\n",
       "      <td>30</td>\n",
       "      <td>1.069050</td>\n",
       "    </tr>\n",
       "    <tr>\n",
       "      <th>0</th>\n",
       "      <td>Tip-run</td>\n",
       "      <td>0a1d747c58df40d7977e830990f540eb</td>\n",
       "      <td>5</td>\n",
       "      <td>1.498592</td>\n",
       "    </tr>\n",
       "  </tbody>\n",
       "</table>\n",
       "</div>"
      ]
     },
     "metadata": {
      "application/vnd.databricks.v1+output": {
       "addedWidgets": {},
       "arguments": {},
       "data": "<div>\n<style scoped>\n    .dataframe tbody tr th:only-of-type {\n        vertical-align: middle;\n    }\n\n    .dataframe tbody tr th {\n        vertical-align: top;\n    }\n\n    .dataframe thead th {\n        text-align: right;\n    }\n</style>\n<table border=\"1\" class=\"dataframe\">\n  <thead>\n    <tr style=\"text-align: right;\">\n      <th></th>\n      <th>tags.mlflow.runName</th>\n      <th>run_id</th>\n      <th>params.maxIter</th>\n      <th>metrics.rmse</th>\n    </tr>\n  </thead>\n  <tbody>\n    <tr>\n      <th>3</th>\n      <td>Tip-run</td>\n      <td>1fca201a147a4e5eb870f5e5c042f854</td>\n      <td>10</td>\n      <td>1.061725</td>\n    </tr>\n    <tr>\n      <th>2</th>\n      <td>Tip-run</td>\n      <td>df0104e271c341979d6db34f5cbbb36b</td>\n      <td>15</td>\n      <td>1.066086</td>\n    </tr>\n    <tr>\n      <th>1</th>\n      <td>Tip-run</td>\n      <td>6fb42e670d5c449cb0bb598995db82fd</td>\n      <td>30</td>\n      <td>1.069050</td>\n    </tr>\n    <tr>\n      <th>0</th>\n      <td>Tip-run</td>\n      <td>0a1d747c58df40d7977e830990f540eb</td>\n      <td>5</td>\n      <td>1.498592</td>\n    </tr>\n  </tbody>\n</table>\n</div>",
       "datasetInfos": [],
       "metadata": {},
       "removedWidgets": [],
       "textData": null,
       "type": "htmlSandbox"
      }
     },
     "output_type": "display_data"
    }
   ],
   "source": [
    "mlflow.search_runs()[[\"tags.mlflow.runName\", \"run_id\", \"params.maxIter\", \"metrics.rmse\"]].sort_values(by=['metrics.rmse'], ascending=True)"
   ]
  },
  {
   "cell_type": "markdown",
   "metadata": {
    "application/vnd.databricks.v1+cell": {
     "cellMetadata": {},
     "inputWidgets": {},
     "nuid": "3ea640ea-2ab2-46f6-b53f-a440ef888681",
     "showTitle": false,
     "title": ""
    }
   },
   "source": [
    "<p>A <b>SQL filter</b> can also be applied directly in the <code>mlflow.search_run()</code> function by using its <code>filter_string</code> parameter. This is particularly useful when there are many runs:</p>"
   ]
  },
  {
   "cell_type": "code",
   "execution_count": 0,
   "metadata": {
    "application/vnd.databricks.v1+cell": {
     "cellMetadata": {
      "byteLimit": 2048000,
      "rowLimit": 10000
     },
     "inputWidgets": {},
     "nuid": "9844f927-34d9-4ffc-a1f7-c8c17bafc6bb",
     "showTitle": false,
     "title": ""
    }
   },
   "outputs": [
    {
     "output_type": "display_data",
     "data": {
      "text/html": [
       "<div>\n",
       "<style scoped>\n",
       "    .dataframe tbody tr th:only-of-type {\n",
       "        vertical-align: middle;\n",
       "    }\n",
       "\n",
       "    .dataframe tbody tr th {\n",
       "        vertical-align: top;\n",
       "    }\n",
       "\n",
       "    .dataframe thead th {\n",
       "        text-align: right;\n",
       "    }\n",
       "</style>\n",
       "<table border=\"1\" class=\"dataframe\">\n",
       "  <thead>\n",
       "    <tr style=\"text-align: right;\">\n",
       "      <th></th>\n",
       "      <th>tags.mlflow.runName</th>\n",
       "      <th>run_id</th>\n",
       "      <th>params.maxIter</th>\n",
       "      <th>metrics.rmse</th>\n",
       "    </tr>\n",
       "  </thead>\n",
       "  <tbody>\n",
       "    <tr>\n",
       "      <th>0</th>\n",
       "      <td>Tip-run</td>\n",
       "      <td>df0104e271c341979d6db34f5cbbb36b</td>\n",
       "      <td>15</td>\n",
       "      <td>1.066086</td>\n",
       "    </tr>\n",
       "    <tr>\n",
       "      <th>1</th>\n",
       "      <td>Tip-run</td>\n",
       "      <td>1fca201a147a4e5eb870f5e5c042f854</td>\n",
       "      <td>10</td>\n",
       "      <td>1.061725</td>\n",
       "    </tr>\n",
       "  </tbody>\n",
       "</table>\n",
       "</div>"
      ]
     },
     "metadata": {
      "application/vnd.databricks.v1+output": {
       "addedWidgets": {},
       "arguments": {},
       "data": "<div>\n<style scoped>\n    .dataframe tbody tr th:only-of-type {\n        vertical-align: middle;\n    }\n\n    .dataframe tbody tr th {\n        vertical-align: top;\n    }\n\n    .dataframe thead th {\n        text-align: right;\n    }\n</style>\n<table border=\"1\" class=\"dataframe\">\n  <thead>\n    <tr style=\"text-align: right;\">\n      <th></th>\n      <th>tags.mlflow.runName</th>\n      <th>run_id</th>\n      <th>params.maxIter</th>\n      <th>metrics.rmse</th>\n    </tr>\n  </thead>\n  <tbody>\n    <tr>\n      <th>0</th>\n      <td>Tip-run</td>\n      <td>df0104e271c341979d6db34f5cbbb36b</td>\n      <td>15</td>\n      <td>1.066086</td>\n    </tr>\n    <tr>\n      <th>1</th>\n      <td>Tip-run</td>\n      <td>1fca201a147a4e5eb870f5e5c042f854</td>\n      <td>10</td>\n      <td>1.061725</td>\n    </tr>\n  </tbody>\n</table>\n</div>",
       "datasetInfos": [],
       "metadata": {},
       "removedWidgets": [],
       "textData": null,
       "type": "htmlSandbox"
      }
     },
     "output_type": "display_data"
    }
   ],
   "source": [
    "mlflow.search_runs(filter_string=\"tags.mlflow.runName like '%Tip%' and metrics.rmse<=1.069\")[[\"tags.mlflow.runName\", \"run_id\", \"params.maxIter\", \"metrics.rmse\"]]"
   ]
  },
  {
   "cell_type": "markdown",
   "metadata": {
    "application/vnd.databricks.v1+cell": {
     "cellMetadata": {},
     "inputWidgets": {},
     "nuid": "de6aca3d-c7f8-4d16-881b-df28551dc63e",
     "showTitle": false,
     "title": ""
    }
   },
   "source": [
    "<p>With this, let's load the best model:</p>"
   ]
  },
  {
   "cell_type": "code",
   "execution_count": 0,
   "metadata": {
    "application/vnd.databricks.v1+cell": {
     "cellMetadata": {
      "byteLimit": 2048000,
      "rowLimit": 10000
     },
     "inputWidgets": {},
     "nuid": "d37c9d5a-6eb0-4eee-891f-d547ff1b08b8",
     "showTitle": false,
     "title": ""
    }
   },
   "outputs": [
    {
     "output_type": "stream",
     "name": "stdout",
     "output_type": "stream",
     "text": [
      "2023/11/06 15:56:44 INFO mlflow.spark: 'runs:/1fca201a147a4e5eb870f5e5c042f854/GBT-Regressor' resolved as 'dbfs:/databricks/mlflow-tracking/121806328486233/1fca201a147a4e5eb870f5e5c042f854/artifacts/GBT-Regressor'\nBest model path is: 1fca201a147a4e5eb870f5e5c042f854\n"
     ]
    }
   ],
   "source": [
    "bestModelRunId = mlflow.search_runs().sort_values(by=['metrics.rmse'], ascending=True).head(1)[\"run_id\"].values[0]\n",
    "#\n",
    "print(f\"Best model path is: {bestModelRunId}\")\n",
    "best_model_path = f\"runs:/{bestModelRunId}/{model_name}\"\n",
    "#\n",
    "loaded_model = mlflow.spark.load_model(best_model_path)"
   ]
  },
  {
   "cell_type": "code",
   "execution_count": 0,
   "metadata": {
    "application/vnd.databricks.v1+cell": {
     "cellMetadata": {
      "byteLimit": 2048000,
      "rowLimit": 10000
     },
     "inputWidgets": {},
     "nuid": "75cd5545-72e8-4678-b590-48a52a6e19c7",
     "showTitle": false,
     "title": ""
    }
   },
   "outputs": [
    {
     "output_type": "display_data",
     "data": {
      "text/html": [
       "<style scoped>\n",
       "  .table-result-container {\n",
       "    max-height: 300px;\n",
       "    overflow: auto;\n",
       "  }\n",
       "  table, th, td {\n",
       "    border: 1px solid black;\n",
       "    border-collapse: collapse;\n",
       "  }\n",
       "  th, td {\n",
       "    padding: 5px;\n",
       "  }\n",
       "  th {\n",
       "    text-align: left;\n",
       "  }\n",
       "</style><div class='table-result-container'><table class='table-result'><thead style='background-color: white'><tr><th>tip</th><th>prediction</th></tr></thead><tbody><tr><td>1.32</td><td>1.814391139677373</td></tr><tr><td>1.67</td><td>1.7628004227316882</td></tr><tr><td>1.76</td><td>2.1166507137357957</td></tr><tr><td>3.23</td><td>2.2478197111059437</td></tr><tr><td>2.24</td><td>2.65410884549186</td></tr><tr><td>3.5</td><td>3.0734588252898396</td></tr><tr><td>3.0</td><td>2.9963559837848526</td></tr><tr><td>3.0</td><td>2.956974962442829</td></tr><tr><td>3.31</td><td>4.063825640809367</td></tr><tr><td>3.6</td><td>3.302916179808894</td></tr><tr><td>3.61</td><td>4.063662777461842</td></tr><tr><td>4.34</td><td>4.063662777461842</td></tr><tr><td>3.12</td><td>3.870800713584442</td></tr><tr><td>6.0</td><td>4.103293898765656</td></tr><tr><td>1.0</td><td>1.3089855964076111</td></tr><tr><td>1.5</td><td>1.6916530444392779</td></tr><tr><td>1.98</td><td>1.631055475640558</td></tr><tr><td>1.68</td><td>1.8658197111059442</td></tr><tr><td>2.2</td><td>2.5537935708786526</td></tr><tr><td>3.0</td><td>2.2478197111059437</td></tr><tr><td>4.0</td><td>2.9963559837848526</td></tr><tr><td>3.15</td><td>3.0167523908015075</td></tr><tr><td>4.06</td><td>2.9308110179732583</td></tr><tr><td>2.55</td><td>2.900914792525547</td></tr><tr><td>4.29</td><td>5.396061519246412</td></tr><tr><td>5.07</td><td>4.911895276466442</td></tr><tr><td>5.0</td><td>3.8607440236401533</td></tr><tr><td>4.73</td><td>4.618182787654545</td></tr><tr><td>2.5</td><td>6.483957771885792</td></tr><tr><td>2.0</td><td>1.4291530444392777</td></tr><tr><td>2.0</td><td>1.6916530444392779</td></tr><tr><td>2.0</td><td>1.631055475640558</td></tr><tr><td>1.5</td><td>1.6916530444392779</td></tr><tr><td>2.0</td><td>2.1772482825345154</td></tr><tr><td>2.0</td><td>2.9142603979958843</td></tr><tr><td>2.0</td><td>2.8632367806172994</td></tr><tr><td>3.5</td><td>2.900944002598191</td></tr><tr><td>3.0</td><td>3.058944002598191</td></tr><tr><td>5.65</td><td>4.063825640809367</td></tr><tr><td>3.11</td><td>3.4541967450059916</td></tr><tr><td>3.39</td><td>2.1166507137357957</td></tr><tr><td>3.0</td><td>2.5537935708786526</td></tr><tr><td>1.5</td><td>2.2017149434504297</td></tr><tr><td>1.75</td><td>2.9312886267106415</td></tr><tr><td>3.5</td><td>3.160907354772092</td></tr><tr><td>4.0</td><td>2.6587154884446056</td></tr><tr><td>4.0</td><td>3.498514700301032</td></tr><tr><td>5.0</td><td>4.733101648032486</td></tr><tr><td>2.88</td><td>3.431281646064736</td></tr><tr><td>2.0</td><td>2.3089697243680387</td></tr><tr><td>2.03</td><td>2.9497389551372692</td></tr><tr><td>2.0</td><td>1.9763431836312688</td></tr><tr><td>2.56</td><td>3.1949602741249827</td></tr><tr><td>2.0</td><td>2.6241585162274688</td></tr><tr><td>1.17</td><td>1.4828645642565097</td></tr><tr><td>3.0</td><td>2.9791967450059915</td></tr></tbody></table></div>"
      ]
     },
     "metadata": {
      "application/vnd.databricks.v1+output": {
       "addedWidgets": {},
       "aggData": [],
       "aggError": "",
       "aggOverflow": false,
       "aggSchema": [],
       "aggSeriesLimitReached": false,
       "aggType": "",
       "arguments": {},
       "columnCustomDisplayInfos": {},
       "data": [
        [
         1.32,
         1.814391139677373
        ],
        [
         1.67,
         1.7628004227316882
        ],
        [
         1.76,
         2.1166507137357957
        ],
        [
         3.23,
         2.2478197111059437
        ],
        [
         2.24,
         2.65410884549186
        ],
        [
         3.5,
         3.0734588252898396
        ],
        [
         3.0,
         2.9963559837848526
        ],
        [
         3.0,
         2.956974962442829
        ],
        [
         3.31,
         4.063825640809367
        ],
        [
         3.6,
         3.302916179808894
        ],
        [
         3.61,
         4.063662777461842
        ],
        [
         4.34,
         4.063662777461842
        ],
        [
         3.12,
         3.870800713584442
        ],
        [
         6.0,
         4.103293898765656
        ],
        [
         1.0,
         1.3089855964076111
        ],
        [
         1.5,
         1.6916530444392779
        ],
        [
         1.98,
         1.631055475640558
        ],
        [
         1.68,
         1.8658197111059442
        ],
        [
         2.2,
         2.5537935708786526
        ],
        [
         3.0,
         2.2478197111059437
        ],
        [
         4.0,
         2.9963559837848526
        ],
        [
         3.15,
         3.0167523908015075
        ],
        [
         4.06,
         2.9308110179732583
        ],
        [
         2.55,
         2.900914792525547
        ],
        [
         4.29,
         5.396061519246412
        ],
        [
         5.07,
         4.911895276466442
        ],
        [
         5.0,
         3.8607440236401533
        ],
        [
         4.73,
         4.618182787654545
        ],
        [
         2.5,
         6.483957771885792
        ],
        [
         2.0,
         1.4291530444392777
        ],
        [
         2.0,
         1.6916530444392779
        ],
        [
         2.0,
         1.631055475640558
        ],
        [
         1.5,
         1.6916530444392779
        ],
        [
         2.0,
         2.1772482825345154
        ],
        [
         2.0,
         2.9142603979958843
        ],
        [
         2.0,
         2.8632367806172994
        ],
        [
         3.5,
         2.900944002598191
        ],
        [
         3.0,
         3.058944002598191
        ],
        [
         5.65,
         4.063825640809367
        ],
        [
         3.11,
         3.4541967450059916
        ],
        [
         3.39,
         2.1166507137357957
        ],
        [
         3.0,
         2.5537935708786526
        ],
        [
         1.5,
         2.2017149434504297
        ],
        [
         1.75,
         2.9312886267106415
        ],
        [
         3.5,
         3.160907354772092
        ],
        [
         4.0,
         2.6587154884446056
        ],
        [
         4.0,
         3.498514700301032
        ],
        [
         5.0,
         4.733101648032486
        ],
        [
         2.88,
         3.431281646064736
        ],
        [
         2.0,
         2.3089697243680387
        ],
        [
         2.03,
         2.9497389551372692
        ],
        [
         2.0,
         1.9763431836312688
        ],
        [
         2.56,
         3.1949602741249827
        ],
        [
         2.0,
         2.6241585162274688
        ],
        [
         1.17,
         1.4828645642565097
        ],
        [
         3.0,
         2.9791967450059915
        ]
       ],
       "datasetInfos": [],
       "dbfsResultPath": null,
       "isJsonSchema": true,
       "metadata": {},
       "overflow": false,
       "plotOptions": {
        "customPlotOptions": {},
        "displayType": "table",
        "pivotAggregation": null,
        "pivotColumns": null,
        "xColumns": null,
        "yColumns": null
       },
       "removedWidgets": [],
       "schema": [
        {
         "metadata": "{}",
         "name": "tip",
         "type": "\"double\""
        },
        {
         "metadata": "{\"ml_attr\":{\"attrs\":{\"numeric\":[{\"idx\":8,\"name\":\"total_bill\"},{\"idx\":9,\"name\":\"sex\"},{\"idx\":10,\"name\":\"smoker\"},{\"idx\":11,\"name\":\"time\"}],\"binary\":[{\"idx\":0,\"name\":\"size_ohe_2\"},{\"idx\":1,\"name\":\"size_ohe_3\"},{\"idx\":2,\"name\":\"size_ohe_4\"},{\"idx\":3,\"name\":\"size_ohe_5\"},{\"idx\":4,\"name\":\"size_ohe_1\"},{\"idx\":5,\"name\":\"day_ohe_Sat\"},{\"idx\":6,\"name\":\"day_ohe_Sun\"},{\"idx\":7,\"name\":\"day_ohe_Thur\"}]},\"num_attrs\":12}}",
         "name": "prediction",
         "type": "\"double\""
        }
       ],
       "type": "table"
      }
     },
     "output_type": "display_data"
    }
   ],
   "source": [
    "display(loaded_model.transform(test_df).select(\"tip\", \"prediction\"))"
   ]
  },
  {
   "cell_type": "markdown",
   "metadata": {
    "application/vnd.databricks.v1+cell": {
     "cellMetadata": {},
     "inputWidgets": {},
     "nuid": "67f74bab-3bc1-46ec-a68e-de198cc7b1c7",
     "showTitle": false,
     "title": ""
    }
   },
   "source": [
    "<img src=\"https://i.ibb.co/xSdfvyD/mlflow3.png\"/>"
   ]
  }
 ],
 "metadata": {
  "application/vnd.databricks.v1+notebook": {
   "dashboards": [],
   "language": "python",
   "notebookMetadata": {
    "mostRecentlyExecutedCommandWithImplicitDF": {
     "commandId": 121806328486209,
     "dataframes": [
      "_sqldf"
     ]
    },
    "pythonIndentUnit": 2
   },
   "notebookName": "Databricks-ML-professional-S01b-Experiment-Tracking",
   "widgets": {}
  }
 },
 "nbformat": 4,
 "nbformat_minor": 0
}
