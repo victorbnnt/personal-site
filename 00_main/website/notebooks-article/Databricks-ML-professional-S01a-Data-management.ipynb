{
 "cells": [
  {
   "cell_type": "markdown",
   "metadata": {
    "application/vnd.databricks.v1+cell": {
     "cellMetadata": {
      "byteLimit": 2048000,
      "rowLimit": 10000
     },
     "inputWidgets": {},
     "nuid": "58fab4bb-231e-48cf-8ed4-fc15a1b22845",
     "showTitle": false,
     "title": ""
    }
   },
   "source": [
    "<h4 style=\"font-variant-caps: small-caps;font-size:35pt;\">Databricks-ML-professional-S01a-Data-management</h4>"
   ]
  },
  {
   "cell_type": "markdown",
   "metadata": {
    "application/vnd.databricks.v1+cell": {
     "cellMetadata": {},
     "inputWidgets": {},
     "nuid": "0d1a80dc-78e8-4e48-b2eb-04848f9ee522",
     "showTitle": false,
     "title": ""
    }
   },
   "source": [
    "<div style='background-color:black;border-radius:5px;border-top:1px solid'></div>\n",
    "<br/>\n",
    "<p>This Notebook adds information related to the following requirements:</p><br/>\n",
    "<b>Data Management:</b>\n",
    "<ul>\n",
    "<li>Read and write a Delta table</li>\n",
    "<li>View Delta table history and load a previous version of a Delta table</li>\n",
    "<li>Create, overwrite, merge, and read Feature Store tables in machine learning workflows</li>\n",
    "</ul>\n",
    "<br/>\n",
    "<p><b>Download this notebook at format ipynb <a href=\"Databricks-ML-professional-S01a-Data-management.ipynb\">here</a>.</b></p>\n",
    "<br/>\n",
    "<div style='background-color:black;border-radius:5px;border-top:1px solid'></div>"
   ]
  },
  {
   "cell_type": "markdown",
   "metadata": {
    "application/vnd.databricks.v1+cell": {
     "cellMetadata": {
      "byteLimit": 2048000,
      "rowLimit": 10000
     },
     "inputWidgets": {},
     "nuid": "b5f6d0da-1d81-4fa0-9770-a9e4d6863534",
     "showTitle": false,
     "title": ""
    }
   },
   "source": [
    "<div style='background-color:rgba(30, 144, 255, 0.1);border-radius:5px;padding:2px;'>\n",
    "<span style=\"font-variant-caps: small-caps;font-weight:700\">1. Import libraries</span></div>"
   ]
  },
  {
   "cell_type": "code",
   "execution_count": null,
   "metadata": {
    "application/vnd.databricks.v1+cell": {
     "cellMetadata": {
      "byteLimit": 2048000,
      "rowLimit": 10000
     },
     "inputWidgets": {},
     "nuid": "8a2d2e59-7426-4d5f-8d97-3dcff6e5151d",
     "showTitle": false,
     "title": ""
    }
   },
   "outputs": [],
   "source": [
    "import pandas as pd\n",
    "import seaborn as sns\n",
    "#\n",
    "from pyspark.sql.functions import *\n",
    "#\n",
    "from databricks.feature_store import FeatureStoreClient, feature_table"
   ]
  },
  {
   "cell_type": "markdown",
   "metadata": {
    "application/vnd.databricks.v1+cell": {
     "cellMetadata": {
      "byteLimit": 2048000,
      "rowLimit": 10000
     },
     "inputWidgets": {},
     "nuid": "aa08db2c-a856-4c86-81fe-9a8b7322cd6a",
     "showTitle": false,
     "title": ""
    }
   },
   "source": [
    "<div style='background-color:rgba(30, 144, 255, 0.1);border-radius:5px;padding:2px;'>\n",
    "<span style=\"font-variant-caps: small-caps;font-weight:700\">2. Load dataset, convert to Spark DataFrame</span></div>"
   ]
  },
  {
   "cell_type": "code",
   "execution_count": null,
   "metadata": {
    "application/vnd.databricks.v1+cell": {
     "cellMetadata": {
      "byteLimit": 2048000,
      "rowLimit": 10000
     },
     "inputWidgets": {},
     "nuid": "5b64ff08-1603-4d0c-bc4e-19c0094c3b9c",
     "showTitle": false,
     "title": ""
    }
   },
   "outputs": [
    {
     "data": {
      "text/html": [
       "<style scoped>\n",
       "  .table-result-container {\n",
       "    max-height: 300px;\n",
       "    overflow: auto;\n",
       "  }\n",
       "  table, th, td {\n",
       "    border: 1px solid black;\n",
       "    border-collapse: collapse;\n",
       "  }\n",
       "  th, td {\n",
       "    padding: 5px;\n",
       "  }\n",
       "  th {\n",
       "    text-align: left;\n",
       "  }\n",
       "</style><div class='table-result-container'><table class='table-result'><thead style='background-color: white'><tr><th>pickup</th><th>dropoff</th><th>passengers</th><th>distance</th><th>fare</th><th>tip</th><th>tolls</th><th>total</th><th>color</th><th>payment</th><th>pickup_zone</th><th>dropoff_zone</th><th>pickup_borough</th><th>dropoff_borough</th></tr></thead><tbody><tr><td>2019-03-23 20:21:09</td><td>2019-03-23 20:27:24</td><td>1</td><td>1.6</td><td>7.0</td><td>2.15</td><td>0.0</td><td>12.95</td><td>yellow</td><td>credit card</td><td>Lenox Hill West</td><td>UN/Turtle Bay South</td><td>Manhattan</td><td>Manhattan</td></tr><tr><td>2019-03-04 16:11:55</td><td>2019-03-04 16:19:00</td><td>1</td><td>0.79</td><td>5.0</td><td>0.0</td><td>0.0</td><td>9.3</td><td>yellow</td><td>cash</td><td>Upper West Side South</td><td>Upper West Side South</td><td>Manhattan</td><td>Manhattan</td></tr><tr><td>2019-03-27 17:53:01</td><td>2019-03-27 18:00:25</td><td>1</td><td>1.37</td><td>7.5</td><td>2.36</td><td>0.0</td><td>14.16</td><td>yellow</td><td>credit card</td><td>Alphabet City</td><td>West Village</td><td>Manhattan</td><td>Manhattan</td></tr><tr><td>2019-03-10 01:23:59</td><td>2019-03-10 01:49:51</td><td>1</td><td>7.7</td><td>27.0</td><td>6.15</td><td>0.0</td><td>36.95</td><td>yellow</td><td>credit card</td><td>Hudson Sq</td><td>Yorkville West</td><td>Manhattan</td><td>Manhattan</td></tr><tr><td>2019-03-30 13:27:42</td><td>2019-03-30 13:37:14</td><td>3</td><td>2.16</td><td>9.0</td><td>1.1</td><td>0.0</td><td>13.4</td><td>yellow</td><td>credit card</td><td>Midtown East</td><td>Yorkville West</td><td>Manhattan</td><td>Manhattan</td></tr></tbody></table></div>"
      ]
     },
     "metadata": {
      "application/vnd.databricks.v1+output": {
       "addedWidgets": {},
       "aggData": [],
       "aggError": "",
       "aggOverflow": false,
       "aggSchema": [],
       "aggSeriesLimitReached": false,
       "aggType": "",
       "arguments": {},
       "columnCustomDisplayInfos": {},
       "data": [
        [
         "2019-03-23 20:21:09",
         "2019-03-23 20:27:24",
         1,
         1.6,
         7,
         2.15,
         0,
         12.95,
         "yellow",
         "credit card",
         "Lenox Hill West",
         "UN/Turtle Bay South",
         "Manhattan",
         "Manhattan"
        ],
        [
         "2019-03-04 16:11:55",
         "2019-03-04 16:19:00",
         1,
         0.79,
         5,
         0,
         0,
         9.3,
         "yellow",
         "cash",
         "Upper West Side South",
         "Upper West Side South",
         "Manhattan",
         "Manhattan"
        ],
        [
         "2019-03-27 17:53:01",
         "2019-03-27 18:00:25",
         1,
         1.37,
         7.5,
         2.36,
         0,
         14.16,
         "yellow",
         "credit card",
         "Alphabet City",
         "West Village",
         "Manhattan",
         "Manhattan"
        ],
        [
         "2019-03-10 01:23:59",
         "2019-03-10 01:49:51",
         1,
         7.7,
         27,
         6.15,
         0,
         36.95,
         "yellow",
         "credit card",
         "Hudson Sq",
         "Yorkville West",
         "Manhattan",
         "Manhattan"
        ],
        [
         "2019-03-30 13:27:42",
         "2019-03-30 13:37:14",
         3,
         2.16,
         9,
         1.1,
         0,
         13.4,
         "yellow",
         "credit card",
         "Midtown East",
         "Yorkville West",
         "Manhattan",
         "Manhattan"
        ]
       ],
       "datasetInfos": [],
       "dbfsResultPath": null,
       "isJsonSchema": true,
       "metadata": {},
       "overflow": false,
       "plotOptions": {
        "customPlotOptions": {},
        "displayType": "table",
        "pivotAggregation": null,
        "pivotColumns": null,
        "xColumns": null,
        "yColumns": null
       },
       "removedWidgets": [],
       "schema": [
        {
         "metadata": "{}",
         "name": "pickup",
         "type": "\"string\""
        },
        {
         "metadata": "{}",
         "name": "dropoff",
         "type": "\"string\""
        },
        {
         "metadata": "{}",
         "name": "passengers",
         "type": "\"long\""
        },
        {
         "metadata": "{}",
         "name": "distance",
         "type": "\"double\""
        },
        {
         "metadata": "{}",
         "name": "fare",
         "type": "\"double\""
        },
        {
         "metadata": "{}",
         "name": "tip",
         "type": "\"double\""
        },
        {
         "metadata": "{}",
         "name": "tolls",
         "type": "\"double\""
        },
        {
         "metadata": "{}",
         "name": "total",
         "type": "\"double\""
        },
        {
         "metadata": "{}",
         "name": "color",
         "type": "\"string\""
        },
        {
         "metadata": "{}",
         "name": "payment",
         "type": "\"string\""
        },
        {
         "metadata": "{}",
         "name": "pickup_zone",
         "type": "\"string\""
        },
        {
         "metadata": "{}",
         "name": "dropoff_zone",
         "type": "\"string\""
        },
        {
         "metadata": "{}",
         "name": "pickup_borough",
         "type": "\"string\""
        },
        {
         "metadata": "{}",
         "name": "dropoff_borough",
         "type": "\"string\""
        }
       ],
       "type": "table"
      }
     },
     "output_type": "display_data"
    }
   ],
   "source": [
    "taxis_df = sns.load_dataset(\"taxis\")\n",
    "#\n",
    "taxis_sdf = spark.createDataFrame(taxis_df)\n",
    "#\n",
    "display(taxis_sdf.limit(5))"
   ]
  },
  {
   "cell_type": "markdown",
   "metadata": {
    "application/vnd.databricks.v1+cell": {
     "cellMetadata": {
      "byteLimit": 2048000,
      "rowLimit": 10000
     },
     "inputWidgets": {},
     "nuid": "2b595b34-0633-4f66-9ca0-6067f4cc0716",
     "showTitle": false,
     "title": ""
    }
   },
   "source": [
    "<a id=\"readwritedeltatable\"></a>\n",
    "<div style='background-color:rgba(30, 144, 255, 0.1);border-radius:5px;padding:2px;'>\n",
    "<span style=\"font-variant-caps: small-caps;font-weight:700\">3. Read and write a Delta table</span></div>"
   ]
  },
  {
   "cell_type": "markdown",
   "metadata": {
    "application/vnd.databricks.v1+cell": {
     "cellMetadata": {},
     "inputWidgets": {},
     "nuid": "453316e6-0dc3-41b0-9730-27c39ed9bdf1",
     "showTitle": false,
     "title": ""
    }
   },
   "source": [
    "<p>Dataframes are saved by default as <b>managed delta tables</b> when the location is not specified:</p>"
   ]
  },
  {
   "cell_type": "code",
   "execution_count": null,
   "metadata": {
    "application/vnd.databricks.v1+cell": {
     "cellMetadata": {
      "byteLimit": 2048000,
      "rowLimit": 10000
     },
     "inputWidgets": {},
     "nuid": "92c6fbbf-0a08-4fee-8ad7-abdf5a0f9ea4",
     "showTitle": false,
     "title": ""
    }
   },
   "outputs": [],
   "source": [
    "(taxis_sdf.write\n",
    "          .mode(\"overwrite\")\n",
    "          .option(\"overwriteSchema\", \"True\")\n",
    "          .format(\"delta\")\n",
    "          .saveAsTable(\"taxis_sdf\"))"
   ]
  },
  {
   "cell_type": "markdown",
   "metadata": {
    "application/vnd.databricks.v1+cell": {
     "cellMetadata": {},
     "inputWidgets": {},
     "nuid": "bd1a26b8-58ce-421a-82a1-420786c4b143",
     "showTitle": false,
     "title": ""
    }
   },
   "source": [
    "<p>When location is specified, they are <b>external delta tables</b>:</p>"
   ]
  },
  {
   "cell_type": "code",
   "execution_count": null,
   "metadata": {
    "application/vnd.databricks.v1+cell": {
     "cellMetadata": {
      "byteLimit": 2048000,
      "rowLimit": 10000
     },
     "inputWidgets": {},
     "nuid": "c0a1d573-d054-48bb-864a-fb9eab2efaa3",
     "showTitle": false,
     "title": ""
    }
   },
   "outputs": [],
   "source": [
    "(taxis_sdf.write\n",
    "          .mode(\"overwrite\")\n",
    "          .option(\"overwriteSchema\", \"True\")\n",
    "          .format(\"delta\")\n",
    "          .save(\"/temp/taxis_sdf\"))"
   ]
  },
  {
   "cell_type": "markdown",
   "metadata": {
    "application/vnd.databricks.v1+cell": {
     "cellMetadata": {},
     "inputWidgets": {},
     "nuid": "82818b27-26e1-47fe-8130-9512f505564b",
     "showTitle": false,
     "title": ""
    }
   },
   "source": [
    "<p><b>Managed delta tables</b> can be listed with the following command:</p>"
   ]
  },
  {
   "cell_type": "code",
   "execution_count": null,
   "metadata": {
    "application/vnd.databricks.v1+cell": {
     "cellMetadata": {
      "byteLimit": 2048000,
      "rowLimit": 10000
     },
     "inputWidgets": {},
     "nuid": "2373152d-1734-43b0-9f48-db06fd29b65a",
     "showTitle": false,
     "title": ""
    }
   },
   "outputs": [
    {
     "data": {
      "text/html": [
       "<style scoped>\n",
       "  .table-result-container {\n",
       "    max-height: 300px;\n",
       "    overflow: auto;\n",
       "  }\n",
       "  table, th, td {\n",
       "    border: 1px solid black;\n",
       "    border-collapse: collapse;\n",
       "  }\n",
       "  th, td {\n",
       "    padding: 5px;\n",
       "  }\n",
       "  th {\n",
       "    text-align: left;\n",
       "  }\n",
       "</style><div class='table-result-container'><table class='table-result'><thead style='background-color: white'><tr><th>database</th><th>tableName</th><th>isTemporary</th></tr></thead><tbody><tr><td>default</td><td>amsterdam_airbnb_df</td><td>false</td></tr><tr><td>default</td><td>csv_stud</td><td>false</td></tr><tr><td>default</td><td>diamonds</td><td>false</td></tr><tr><td>default</td><td>diamonds_df_not_partitioned</td><td>false</td></tr><tr><td>default</td><td>diamonds_df_partitioned</td><td>false</td></tr></tbody></table></div>"
      ]
     },
     "metadata": {
      "application/vnd.databricks.v1+output": {
       "addedWidgets": {},
       "aggData": [],
       "aggError": "",
       "aggOverflow": false,
       "aggSchema": [],
       "aggSeriesLimitReached": false,
       "aggType": "",
       "arguments": {},
       "columnCustomDisplayInfos": {},
       "data": [
        [
         "default",
         "amsterdam_airbnb_df",
         false
        ],
        [
         "default",
         "csv_stud",
         false
        ],
        [
         "default",
         "diamonds",
         false
        ],
        [
         "default",
         "diamonds_df_not_partitioned",
         false
        ],
        [
         "default",
         "diamonds_df_partitioned",
         false
        ]
       ],
       "datasetInfos": [],
       "dbfsResultPath": null,
       "isJsonSchema": true,
       "metadata": {},
       "overflow": false,
       "plotOptions": {
        "customPlotOptions": {},
        "displayType": "table",
        "pivotAggregation": null,
        "pivotColumns": null,
        "xColumns": null,
        "yColumns": null
       },
       "removedWidgets": [],
       "schema": [
        {
         "metadata": "{}",
         "name": "database",
         "type": "\"string\""
        },
        {
         "metadata": "{}",
         "name": "tableName",
         "type": "\"string\""
        },
        {
         "metadata": "{}",
         "name": "isTemporary",
         "type": "\"boolean\""
        }
       ],
       "type": "table"
      }
     },
     "output_type": "display_data"
    }
   ],
   "source": [
    "display(spark.sql(\"show tables\").limit(5))"
   ]
  },
  {
   "cell_type": "markdown",
   "metadata": {
    "application/vnd.databricks.v1+cell": {
     "cellMetadata": {
      "byteLimit": 2048000,
      "rowLimit": 10000
     },
     "inputWidgets": {},
     "nuid": "3a885b19-f56f-4d8e-9536-9100cdccdd40",
     "showTitle": false,
     "title": ""
    }
   },
   "source": [
    "<p>Delta tables can be read this way:</p>"
   ]
  },
  {
   "cell_type": "code",
   "execution_count": null,
   "metadata": {
    "application/vnd.databricks.v1+cell": {
     "cellMetadata": {
      "byteLimit": 2048000,
      "rowLimit": 10000
     },
     "inputWidgets": {},
     "nuid": "26108474-ec39-4c7c-9e04-d91d52ebc434",
     "showTitle": false,
     "title": ""
    }
   },
   "outputs": [],
   "source": [
    "taxis_sdf    = spark.table(\"taxis_sdf\")           # read managed delta table\n",
    "taxi_sdf_ext = spark.read.load(\"/temp/taxis_sdf\") # read external delta table"
   ]
  },
  {
   "cell_type": "code",
   "execution_count": null,
   "metadata": {
    "application/vnd.databricks.v1+cell": {
     "cellMetadata": {
      "byteLimit": 2048000,
      "rowLimit": 10000
     },
     "inputWidgets": {},
     "nuid": "34ff3eea-821d-4915-8de5-c2ef8da0144c",
     "showTitle": false,
     "title": ""
    }
   },
   "outputs": [
    {
     "data": {
      "text/html": [
       "<style scoped>\n",
       "  .table-result-container {\n",
       "    max-height: 300px;\n",
       "    overflow: auto;\n",
       "  }\n",
       "  table, th, td {\n",
       "    border: 1px solid black;\n",
       "    border-collapse: collapse;\n",
       "  }\n",
       "  th, td {\n",
       "    padding: 5px;\n",
       "  }\n",
       "  th {\n",
       "    text-align: left;\n",
       "  }\n",
       "</style><div class='table-result-container'><table class='table-result'><thead style='background-color: white'><tr><th>pickup</th><th>dropoff</th><th>passengers</th><th>distance</th><th>fare</th><th>tip</th><th>tolls</th><th>total</th><th>color</th><th>payment</th><th>pickup_zone</th><th>dropoff_zone</th><th>pickup_borough</th><th>dropoff_borough</th></tr></thead><tbody><tr><td>2019-03-23 20:21:09</td><td>2019-03-23 20:27:24</td><td>1</td><td>1.6</td><td>7.0</td><td>2.15</td><td>0.0</td><td>12.95</td><td>yellow</td><td>credit card</td><td>Lenox Hill West</td><td>UN/Turtle Bay South</td><td>Manhattan</td><td>Manhattan</td></tr><tr><td>2019-03-04 16:11:55</td><td>2019-03-04 16:19:00</td><td>1</td><td>0.79</td><td>5.0</td><td>0.0</td><td>0.0</td><td>9.3</td><td>yellow</td><td>cash</td><td>Upper West Side South</td><td>Upper West Side South</td><td>Manhattan</td><td>Manhattan</td></tr><tr><td>2019-03-27 17:53:01</td><td>2019-03-27 18:00:25</td><td>1</td><td>1.37</td><td>7.5</td><td>2.36</td><td>0.0</td><td>14.16</td><td>yellow</td><td>credit card</td><td>Alphabet City</td><td>West Village</td><td>Manhattan</td><td>Manhattan</td></tr><tr><td>2019-03-10 01:23:59</td><td>2019-03-10 01:49:51</td><td>1</td><td>7.7</td><td>27.0</td><td>6.15</td><td>0.0</td><td>36.95</td><td>yellow</td><td>credit card</td><td>Hudson Sq</td><td>Yorkville West</td><td>Manhattan</td><td>Manhattan</td></tr><tr><td>2019-03-30 13:27:42</td><td>2019-03-30 13:37:14</td><td>3</td><td>2.16</td><td>9.0</td><td>1.1</td><td>0.0</td><td>13.4</td><td>yellow</td><td>credit card</td><td>Midtown East</td><td>Yorkville West</td><td>Manhattan</td><td>Manhattan</td></tr></tbody></table></div>"
      ]
     },
     "metadata": {
      "application/vnd.databricks.v1+output": {
       "addedWidgets": {},
       "aggData": [],
       "aggError": "",
       "aggOverflow": false,
       "aggSchema": [],
       "aggSeriesLimitReached": false,
       "aggType": "",
       "arguments": {},
       "columnCustomDisplayInfos": {},
       "data": [
        [
         "2019-03-23 20:21:09",
         "2019-03-23 20:27:24",
         1,
         1.6,
         7,
         2.15,
         0,
         12.95,
         "yellow",
         "credit card",
         "Lenox Hill West",
         "UN/Turtle Bay South",
         "Manhattan",
         "Manhattan"
        ],
        [
         "2019-03-04 16:11:55",
         "2019-03-04 16:19:00",
         1,
         0.79,
         5,
         0,
         0,
         9.3,
         "yellow",
         "cash",
         "Upper West Side South",
         "Upper West Side South",
         "Manhattan",
         "Manhattan"
        ],
        [
         "2019-03-27 17:53:01",
         "2019-03-27 18:00:25",
         1,
         1.37,
         7.5,
         2.36,
         0,
         14.16,
         "yellow",
         "credit card",
         "Alphabet City",
         "West Village",
         "Manhattan",
         "Manhattan"
        ],
        [
         "2019-03-10 01:23:59",
         "2019-03-10 01:49:51",
         1,
         7.7,
         27,
         6.15,
         0,
         36.95,
         "yellow",
         "credit card",
         "Hudson Sq",
         "Yorkville West",
         "Manhattan",
         "Manhattan"
        ],
        [
         "2019-03-30 13:27:42",
         "2019-03-30 13:37:14",
         3,
         2.16,
         9,
         1.1,
         0,
         13.4,
         "yellow",
         "credit card",
         "Midtown East",
         "Yorkville West",
         "Manhattan",
         "Manhattan"
        ]
       ],
       "datasetInfos": [],
       "dbfsResultPath": null,
       "isJsonSchema": true,
       "metadata": {},
       "overflow": false,
       "plotOptions": {
        "customPlotOptions": {},
        "displayType": "table",
        "pivotAggregation": null,
        "pivotColumns": null,
        "xColumns": null,
        "yColumns": null
       },
       "removedWidgets": [],
       "schema": [
        {
         "metadata": "{}",
         "name": "pickup",
         "type": "\"string\""
        },
        {
         "metadata": "{}",
         "name": "dropoff",
         "type": "\"string\""
        },
        {
         "metadata": "{}",
         "name": "passengers",
         "type": "\"long\""
        },
        {
         "metadata": "{}",
         "name": "distance",
         "type": "\"double\""
        },
        {
         "metadata": "{}",
         "name": "fare",
         "type": "\"double\""
        },
        {
         "metadata": "{}",
         "name": "tip",
         "type": "\"double\""
        },
        {
         "metadata": "{}",
         "name": "tolls",
         "type": "\"double\""
        },
        {
         "metadata": "{}",
         "name": "total",
         "type": "\"double\""
        },
        {
         "metadata": "{}",
         "name": "color",
         "type": "\"string\""
        },
        {
         "metadata": "{}",
         "name": "payment",
         "type": "\"string\""
        },
        {
         "metadata": "{}",
         "name": "pickup_zone",
         "type": "\"string\""
        },
        {
         "metadata": "{}",
         "name": "dropoff_zone",
         "type": "\"string\""
        },
        {
         "metadata": "{}",
         "name": "pickup_borough",
         "type": "\"string\""
        },
        {
         "metadata": "{}",
         "name": "dropoff_borough",
         "type": "\"string\""
        }
       ],
       "type": "table"
      }
     },
     "output_type": "display_data"
    }
   ],
   "source": [
    "display(taxi_sdf_ext.limit(5))"
   ]
  },
  {
   "cell_type": "markdown",
   "metadata": {
    "application/vnd.databricks.v1+cell": {
     "cellMetadata": {
      "byteLimit": 2048000,
      "rowLimit": 10000
     },
     "inputWidgets": {},
     "nuid": "50a866b2-29e2-4dad-8c70-0ed707a3202d",
     "showTitle": false,
     "title": ""
    }
   },
   "source": [
    "<a id=\"viewdeltahistory\"></a>\n",
    "<div style='background-color:rgba(30, 144, 255, 0.1);border-radius:5px;padding:2px;'>\n",
    "<span style=\"font-variant-caps: small-caps;font-weight:700\">4. View Delta table history and load a previous version of a Delta table</span></div>"
   ]
  },
  {
   "cell_type": "markdown",
   "metadata": {
    "application/vnd.databricks.v1+cell": {
     "cellMetadata": {},
     "inputWidgets": {},
     "nuid": "cd7d2a99-f5bb-496f-9247-3376fb9c49bc",
     "showTitle": false,
     "title": ""
    }
   },
   "source": [
    "<p>Let's do a small modification to the table and save it again:</p>"
   ]
  },
  {
   "cell_type": "code",
   "execution_count": null,
   "metadata": {
    "application/vnd.databricks.v1+cell": {
     "cellMetadata": {
      "byteLimit": 2048000,
      "rowLimit": 10000
     },
     "inputWidgets": {},
     "nuid": "767c2752-5c38-4578-b314-d8046855e60d",
     "showTitle": false,
     "title": ""
    }
   },
   "outputs": [],
   "source": [
    "# remove nulls for payment column\n",
    "taxis_sdf = taxis_sdf.filter(\"payment is not null\")\n",
    "#\n",
    "# save the change to managed delta table\n",
    "(taxis_sdf.write\n",
    "          .mode(\"overwrite\")\n",
    "          .option(\"overwriteSchema\", \"True\")\n",
    "          .format(\"delta\")\n",
    "          .saveAsTable(\"taxis_sdf\"))\n",
    "#\n",
    "# save the change to external delta table\n",
    "(taxis_sdf.write\n",
    "          .mode(\"overwrite\")\n",
    "          .option(\"overwriteSchema\", \"True\")\n",
    "          .format(\"delta\")\n",
    "          .save(\"/temp/taxis_sdf\"))"
   ]
  },
  {
   "cell_type": "markdown",
   "metadata": {
    "application/vnd.databricks.v1+cell": {
     "cellMetadata": {},
     "inputWidgets": {},
     "nuid": "47f64edc-5bc2-40e3-bf8c-9dbd6a5431f8",
     "showTitle": false,
     "title": ""
    }
   },
   "source": [
    "<p>See changes in <b>managed table</b>:</p>"
   ]
  },
  {
   "cell_type": "code",
   "execution_count": null,
   "metadata": {
    "application/vnd.databricks.v1+cell": {
     "cellMetadata": {
      "byteLimit": 2048000,
      "implicitDf": true,
      "rowLimit": 10000
     },
     "inputWidgets": {},
     "nuid": "dff5f4fd-eb40-4863-a205-4d7b322476a9",
     "showTitle": false,
     "title": ""
    }
   },
   "outputs": [],
   "source": [
    "spark.sql(\"DESCRIBE HISTORY taxis_sdf\")"
   ]
  },
  {
   "cell_type": "markdown",
   "metadata": {
    "application/vnd.databricks.v1+cell": {
     "cellMetadata": {},
     "inputWidgets": {},
     "nuid": "2633c9ea-fde4-4c51-bec7-743f315852b4",
     "showTitle": false,
     "title": ""
    }
   },
   "source": [
    "<p>See changes in <b>external table</b>:</p>"
   ]
  },
  {
   "cell_type": "code",
   "execution_count": null,
   "metadata": {
    "application/vnd.databricks.v1+cell": {
     "cellMetadata": {
      "byteLimit": 2048000,
      "implicitDf": true,
      "rowLimit": 10000
     },
     "inputWidgets": {},
     "nuid": "9c6fc2d6-73b3-4826-b96b-b2f6b1414b3c",
     "showTitle": false,
     "title": ""
    }
   },
   "outputs": [],
   "source": [
    "spark.sql(\"DESCRIBE HISTORY '/temp/taxis_sdf/'\")"
   ]
  },
  {
   "cell_type": "markdown",
   "metadata": {
    "application/vnd.databricks.v1+cell": {
     "cellMetadata": {},
     "inputWidgets": {},
     "nuid": "b504e861-437e-4e16-a25e-eda23b7da284",
     "showTitle": false,
     "title": ""
    }
   },
   "source": [
    "<p>The following command lets load a previous version. We see that loading version <code>0</code> of table get null values for column <code>payment</code> back:</p>"
   ]
  },
  {
   "cell_type": "code",
   "execution_count": null,
   "metadata": {
    "application/vnd.databricks.v1+cell": {
     "cellMetadata": {
      "byteLimit": 2048000,
      "rowLimit": 10000
     },
     "inputWidgets": {},
     "nuid": "7b6853f6-1fd8-41af-bd52-1808086d415e",
     "showTitle": false,
     "title": ""
    }
   },
   "outputs": [
    {
     "data": {
      "text/html": [
       "<style scoped>\n",
       "  .table-result-container {\n",
       "    max-height: 300px;\n",
       "    overflow: auto;\n",
       "  }\n",
       "  table, th, td {\n",
       "    border: 1px solid black;\n",
       "    border-collapse: collapse;\n",
       "  }\n",
       "  th, td {\n",
       "    padding: 5px;\n",
       "  }\n",
       "  th {\n",
       "    text-align: left;\n",
       "  }\n",
       "</style><div class='table-result-container'><table class='table-result'><thead style='background-color: white'><tr><th>pickup</th><th>dropoff</th><th>passengers</th><th>distance</th><th>fare</th><th>tip</th><th>tolls</th><th>total</th><th>color</th><th>payment</th><th>pickup_zone</th><th>dropoff_zone</th><th>pickup_borough</th><th>dropoff_borough</th></tr></thead><tbody><tr><td>2019-03-08 02:56:38</td><td>2019-03-08 03:07:24</td><td>1</td><td>2.4</td><td>10.5</td><td>0.0</td><td>0.0</td><td>14.3</td><td>yellow</td><td>null</td><td>Murray Hill</td><td>West Village</td><td>Manhattan</td><td>Manhattan</td></tr><tr><td>2019-03-02 19:01:36</td><td>2019-03-02 19:08:46</td><td>0</td><td>1.4</td><td>7.0</td><td>0.0</td><td>0.0</td><td>10.3</td><td>yellow</td><td>null</td><td>Upper East Side South</td><td>Murray Hill</td><td>Manhattan</td><td>Manhattan</td></tr><tr><td>2019-03-23 11:07:11</td><td>2019-03-23 11:32:46</td><td>1</td><td>0.0</td><td>19.0</td><td>0.0</td><td>0.0</td><td>22.3</td><td>yellow</td><td>null</td><td>West Village</td><td>Upper East Side South</td><td>Manhattan</td><td>Manhattan</td></tr><tr><td>2019-03-15 00:10:38</td><td>2019-03-15 00:21:39</td><td>1</td><td>3.1</td><td>12.5</td><td>0.0</td><td>0.0</td><td>16.3</td><td>yellow</td><td>null</td><td>West Chelsea/Hudson Yards</td><td>Upper West Side South</td><td>Manhattan</td><td>Manhattan</td></tr><tr><td>2019-03-30 11:38:20</td><td>2019-03-30 11:40:45</td><td>1</td><td>0.2</td><td>3.5</td><td>0.0</td><td>0.0</td><td>6.8</td><td>yellow</td><td>null</td><td>Upper West Side North</td><td>Upper West Side North</td><td>Manhattan</td><td>Manhattan</td></tr></tbody></table></div>"
      ]
     },
     "metadata": {
      "application/vnd.databricks.v1+output": {
       "addedWidgets": {},
       "aggData": [],
       "aggError": "",
       "aggOverflow": false,
       "aggSchema": [],
       "aggSeriesLimitReached": false,
       "aggType": "",
       "arguments": {},
       "columnCustomDisplayInfos": {},
       "data": [
        [
         "2019-03-08 02:56:38",
         "2019-03-08 03:07:24",
         1,
         2.4,
         10.5,
         0,
         0,
         14.3,
         "yellow",
         null,
         "Murray Hill",
         "West Village",
         "Manhattan",
         "Manhattan"
        ],
        [
         "2019-03-02 19:01:36",
         "2019-03-02 19:08:46",
         0,
         1.4,
         7,
         0,
         0,
         10.3,
         "yellow",
         null,
         "Upper East Side South",
         "Murray Hill",
         "Manhattan",
         "Manhattan"
        ],
        [
         "2019-03-23 11:07:11",
         "2019-03-23 11:32:46",
         1,
         0,
         19,
         0,
         0,
         22.3,
         "yellow",
         null,
         "West Village",
         "Upper East Side South",
         "Manhattan",
         "Manhattan"
        ],
        [
         "2019-03-15 00:10:38",
         "2019-03-15 00:21:39",
         1,
         3.1,
         12.5,
         0,
         0,
         16.3,
         "yellow",
         null,
         "West Chelsea/Hudson Yards",
         "Upper West Side South",
         "Manhattan",
         "Manhattan"
        ],
        [
         "2019-03-30 11:38:20",
         "2019-03-30 11:40:45",
         1,
         0.2,
         3.5,
         0,
         0,
         6.8,
         "yellow",
         null,
         "Upper West Side North",
         "Upper West Side North",
         "Manhattan",
         "Manhattan"
        ]
       ],
       "datasetInfos": [],
       "dbfsResultPath": null,
       "isJsonSchema": true,
       "metadata": {},
       "overflow": false,
       "plotOptions": {
        "customPlotOptions": {},
        "displayType": "table",
        "pivotAggregation": null,
        "pivotColumns": null,
        "xColumns": null,
        "yColumns": null
       },
       "removedWidgets": [],
       "schema": [
        {
         "metadata": "{}",
         "name": "pickup",
         "type": "\"string\""
        },
        {
         "metadata": "{}",
         "name": "dropoff",
         "type": "\"string\""
        },
        {
         "metadata": "{}",
         "name": "passengers",
         "type": "\"long\""
        },
        {
         "metadata": "{}",
         "name": "distance",
         "type": "\"double\""
        },
        {
         "metadata": "{}",
         "name": "fare",
         "type": "\"double\""
        },
        {
         "metadata": "{}",
         "name": "tip",
         "type": "\"double\""
        },
        {
         "metadata": "{}",
         "name": "tolls",
         "type": "\"double\""
        },
        {
         "metadata": "{}",
         "name": "total",
         "type": "\"double\""
        },
        {
         "metadata": "{}",
         "name": "color",
         "type": "\"string\""
        },
        {
         "metadata": "{}",
         "name": "payment",
         "type": "\"string\""
        },
        {
         "metadata": "{}",
         "name": "pickup_zone",
         "type": "\"string\""
        },
        {
         "metadata": "{}",
         "name": "dropoff_zone",
         "type": "\"string\""
        },
        {
         "metadata": "{}",
         "name": "pickup_borough",
         "type": "\"string\""
        },
        {
         "metadata": "{}",
         "name": "dropoff_borough",
         "type": "\"string\""
        }
       ],
       "type": "table"
      }
     },
     "output_type": "display_data"
    },
    {
     "data": {
      "text/html": [
       "<style scoped>\n",
       "  .table-result-container {\n",
       "    max-height: 300px;\n",
       "    overflow: auto;\n",
       "  }\n",
       "  table, th, td {\n",
       "    border: 1px solid black;\n",
       "    border-collapse: collapse;\n",
       "  }\n",
       "  th, td {\n",
       "    padding: 5px;\n",
       "  }\n",
       "  th {\n",
       "    text-align: left;\n",
       "  }\n",
       "</style><div class='table-result-container'><table class='table-result'><thead style='background-color: white'><tr><th>pickup</th><th>dropoff</th><th>passengers</th><th>distance</th><th>fare</th><th>tip</th><th>tolls</th><th>total</th><th>color</th><th>payment</th><th>pickup_zone</th><th>dropoff_zone</th><th>pickup_borough</th><th>dropoff_borough</th></tr></thead><tbody><tr><td>2019-03-08 02:56:38</td><td>2019-03-08 03:07:24</td><td>1</td><td>2.4</td><td>10.5</td><td>0.0</td><td>0.0</td><td>14.3</td><td>yellow</td><td>null</td><td>Murray Hill</td><td>West Village</td><td>Manhattan</td><td>Manhattan</td></tr><tr><td>2019-03-02 19:01:36</td><td>2019-03-02 19:08:46</td><td>0</td><td>1.4</td><td>7.0</td><td>0.0</td><td>0.0</td><td>10.3</td><td>yellow</td><td>null</td><td>Upper East Side South</td><td>Murray Hill</td><td>Manhattan</td><td>Manhattan</td></tr><tr><td>2019-03-23 11:07:11</td><td>2019-03-23 11:32:46</td><td>1</td><td>0.0</td><td>19.0</td><td>0.0</td><td>0.0</td><td>22.3</td><td>yellow</td><td>null</td><td>West Village</td><td>Upper East Side South</td><td>Manhattan</td><td>Manhattan</td></tr><tr><td>2019-03-15 00:10:38</td><td>2019-03-15 00:21:39</td><td>1</td><td>3.1</td><td>12.5</td><td>0.0</td><td>0.0</td><td>16.3</td><td>yellow</td><td>null</td><td>West Chelsea/Hudson Yards</td><td>Upper West Side South</td><td>Manhattan</td><td>Manhattan</td></tr><tr><td>2019-03-30 11:38:20</td><td>2019-03-30 11:40:45</td><td>1</td><td>0.2</td><td>3.5</td><td>0.0</td><td>0.0</td><td>6.8</td><td>yellow</td><td>null</td><td>Upper West Side North</td><td>Upper West Side North</td><td>Manhattan</td><td>Manhattan</td></tr></tbody></table></div>"
      ]
     },
     "metadata": {
      "application/vnd.databricks.v1+output": {
       "addedWidgets": {},
       "aggData": [],
       "aggError": "",
       "aggOverflow": false,
       "aggSchema": [],
       "aggSeriesLimitReached": false,
       "aggType": "",
       "arguments": {},
       "columnCustomDisplayInfos": {},
       "data": [
        [
         "2019-03-08 02:56:38",
         "2019-03-08 03:07:24",
         1,
         2.4,
         10.5,
         0,
         0,
         14.3,
         "yellow",
         null,
         "Murray Hill",
         "West Village",
         "Manhattan",
         "Manhattan"
        ],
        [
         "2019-03-02 19:01:36",
         "2019-03-02 19:08:46",
         0,
         1.4,
         7,
         0,
         0,
         10.3,
         "yellow",
         null,
         "Upper East Side South",
         "Murray Hill",
         "Manhattan",
         "Manhattan"
        ],
        [
         "2019-03-23 11:07:11",
         "2019-03-23 11:32:46",
         1,
         0,
         19,
         0,
         0,
         22.3,
         "yellow",
         null,
         "West Village",
         "Upper East Side South",
         "Manhattan",
         "Manhattan"
        ],
        [
         "2019-03-15 00:10:38",
         "2019-03-15 00:21:39",
         1,
         3.1,
         12.5,
         0,
         0,
         16.3,
         "yellow",
         null,
         "West Chelsea/Hudson Yards",
         "Upper West Side South",
         "Manhattan",
         "Manhattan"
        ],
        [
         "2019-03-30 11:38:20",
         "2019-03-30 11:40:45",
         1,
         0.2,
         3.5,
         0,
         0,
         6.8,
         "yellow",
         null,
         "Upper West Side North",
         "Upper West Side North",
         "Manhattan",
         "Manhattan"
        ]
       ],
       "datasetInfos": [],
       "dbfsResultPath": null,
       "isJsonSchema": true,
       "metadata": {},
       "overflow": false,
       "plotOptions": {
        "customPlotOptions": {},
        "displayType": "table",
        "pivotAggregation": null,
        "pivotColumns": null,
        "xColumns": null,
        "yColumns": null
       },
       "removedWidgets": [],
       "schema": [
        {
         "metadata": "{}",
         "name": "pickup",
         "type": "\"string\""
        },
        {
         "metadata": "{}",
         "name": "dropoff",
         "type": "\"string\""
        },
        {
         "metadata": "{}",
         "name": "passengers",
         "type": "\"long\""
        },
        {
         "metadata": "{}",
         "name": "distance",
         "type": "\"double\""
        },
        {
         "metadata": "{}",
         "name": "fare",
         "type": "\"double\""
        },
        {
         "metadata": "{}",
         "name": "tip",
         "type": "\"double\""
        },
        {
         "metadata": "{}",
         "name": "tolls",
         "type": "\"double\""
        },
        {
         "metadata": "{}",
         "name": "total",
         "type": "\"double\""
        },
        {
         "metadata": "{}",
         "name": "color",
         "type": "\"string\""
        },
        {
         "metadata": "{}",
         "name": "payment",
         "type": "\"string\""
        },
        {
         "metadata": "{}",
         "name": "pickup_zone",
         "type": "\"string\""
        },
        {
         "metadata": "{}",
         "name": "dropoff_zone",
         "type": "\"string\""
        },
        {
         "metadata": "{}",
         "name": "pickup_borough",
         "type": "\"string\""
        },
        {
         "metadata": "{}",
         "name": "dropoff_borough",
         "type": "\"string\""
        }
       ],
       "type": "table"
      }
     },
     "output_type": "display_data"
    }
   ],
   "source": [
    "display(spark.read\n",
    "        .format(\"delta\")\n",
    "        .option(\"versionAsOf\", 0)\n",
    "        .table(\"taxis_sdf\")\n",
    "        .filter(\"payment is null\")\n",
    "        .limit(5))\n",
    "#\n",
    "# Or for an external delta table\n",
    "display(spark.read\n",
    "        .format(\"delta\")\n",
    "        .option(\"versionAsOf\", 0)\n",
    "        .load(\"/temp/taxis_sdf\")\n",
    "        .filter(\"payment is null\")\n",
    "        .limit(5))"
   ]
  },
  {
   "cell_type": "markdown",
   "metadata": {
    "application/vnd.databricks.v1+cell": {
     "cellMetadata": {
      "byteLimit": 2048000,
      "rowLimit": 10000
     },
     "inputWidgets": {},
     "nuid": "79ed4d6b-d326-4bd9-a5e3-518cec35431e",
     "showTitle": false,
     "title": ""
    }
   },
   "source": [
    "<a id=\"actionsfeaturestoretables\"></a>\n",
    "<div style='background-color:rgba(30, 144, 255, 0.1);border-radius:5px;padding:2px;'>\n",
    "<span style=\"font-variant-caps: small-caps;font-weight:700\">5. Create, overwrite, merge and read Feature Store tables in machine learning workflows</span></div>"
   ]
  },
  {
   "cell_type": "markdown",
   "metadata": {
    "application/vnd.databricks.v1+cell": {
     "cellMetadata": {},
     "inputWidgets": {},
     "nuid": "9a29266d-e588-4b2d-b9bd-8d47b71113a2",
     "showTitle": false,
     "title": ""
    }
   },
   "source": [
    "<p>Let's add an index to the table:</p>"
   ]
  },
  {
   "cell_type": "code",
   "execution_count": null,
   "metadata": {
    "application/vnd.databricks.v1+cell": {
     "cellMetadata": {
      "byteLimit": 2048000,
      "rowLimit": 10000
     },
     "inputWidgets": {},
     "nuid": "c306d83e-f531-43a7-9204-47251bdf3691",
     "showTitle": false,
     "title": ""
    }
   },
   "outputs": [],
   "source": [
    "taxis_sdf = taxis_sdf.withColumn(\"id\", monotonically_increasing_id())"
   ]
  },
  {
   "cell_type": "markdown",
   "metadata": {
    "application/vnd.databricks.v1+cell": {
     "cellMetadata": {},
     "inputWidgets": {},
     "nuid": "4bad54d4-0ad6-40aa-ae13-691ca37de84f",
     "showTitle": false,
     "title": ""
    }
   },
   "source": [
    "<p>A Catalog and schema must exist. Then if one them is missing, it is necessary to create it/them. For the example here, let's use the default existing Catalog <code>hive_metastore</code> and create a Schema in it:</p>"
   ]
  },
  {
   "cell_type": "code",
   "execution_count": null,
   "metadata": {
    "application/vnd.databricks.v1+cell": {
     "cellMetadata": {
      "byteLimit": 2048000,
      "rowLimit": 10000
     },
     "inputWidgets": {},
     "nuid": "450bbaf3-2e7a-4a1c-8821-abb5ee620018",
     "showTitle": false,
     "title": ""
    }
   },
   "outputs": [
    {
     "name": "stdout",
     "output_type": "stream",
     "text": [
      "Out[77]: DataFrame[]"
     ]
    }
   ],
   "source": [
    "# Create a catalog\n",
    "spark.sql(\"USE CATALOG hive_metastore\")\n",
    "spark.sql(\"CREATE SCHEMA IF NOT EXISTS seaborn_db\")"
   ]
  },
  {
   "cell_type": "markdown",
   "metadata": {
    "application/vnd.databricks.v1+cell": {
     "cellMetadata": {},
     "inputWidgets": {},
     "nuid": "a8c633fd-c3a5-4a7c-92e7-852bc5c9a401",
     "showTitle": false,
     "title": ""
    }
   },
   "source": [
    "<p>The following command is to create and populate a feature store table in schema <code>seaborn_df</code> from <code>hive_metastore</code> Catalog:</p>"
   ]
  },
  {
   "cell_type": "code",
   "execution_count": null,
   "metadata": {
    "application/vnd.databricks.v1+cell": {
     "cellMetadata": {
      "byteLimit": 2048000,
      "rowLimit": 10000
     },
     "inputWidgets": {},
     "nuid": "40c131f0-f163-4e6e-9994-6d5f7e40deae",
     "showTitle": false,
     "title": ""
    }
   },
   "outputs": [
    {
     "name": "stdout",
     "output_type": "stream",
     "text": [
      "2023/11/22 16:27:14 WARNING databricks.feature_store._compute_client._compute_client: The feature table \"hive_metastore.seaborn_db.taxidataset\" already exists. Use \"FeatureStoreClient.write_table\" API to write to the feature table.\n"
     ]
    }
   ],
   "source": [
    "fs = FeatureStoreClient()\n",
    "#\n",
    "customer_feature_table = fs.create_table(\n",
    "  name='hive_metastore.seaborn_db.taxidataset', # format is <catalog_name>.<schema_name>.<table_name>\n",
    "  primary_keys='id',                            # required\n",
    "  schema=taxis_sdf.schema,                      # either schema or df parameter is required - if df is provided, the feature store table will be automatically populated with the data, otherwise only the structure of the table will be created, it will need to be populated later\n",
    "  df = taxis_sdf,                               # either schema or df parameter is required - if df is provided, the feature store table will be automatically populated with the data, otherwise only the structure of the table will be created, it will need to be populated later\n",
    "  description='Seaborn taxi dataset features'\n",
    ")"
   ]
  },
  {
   "cell_type": "markdown",
   "metadata": {
    "application/vnd.databricks.v1+cell": {
     "cellMetadata": {},
     "inputWidgets": {},
     "nuid": "4e46c464-6b96-43c3-bc10-62bc5b3b8f25",
     "showTitle": false,
     "title": ""
    }
   },
   "source": [
    "<p>The previously created table in Feature Store can be deleted this way:</p>"
   ]
  },
  {
   "cell_type": "code",
   "execution_count": null,
   "metadata": {
    "application/vnd.databricks.v1+cell": {
     "cellMetadata": {
      "byteLimit": 2048000,
      "rowLimit": 10000
     },
     "inputWidgets": {},
     "nuid": "b6db8d70-d3b1-452c-9761-381b397e50bf",
     "showTitle": false,
     "title": ""
    }
   },
   "outputs": [
    {
     "name": "stdout",
     "output_type": "stream",
     "text": [
      "2023/11/22 16:27:16 WARNING databricks.feature_store._compute_client._compute_client: Deleting a feature table can lead to unexpected failures in upstream producers and downstream consumers (models, endpoints, and scheduled jobs).\n"
     ]
    }
   ],
   "source": [
    "fs.drop_table(name='seaborn_db.taxidataset')"
   ]
  },
  {
   "cell_type": "markdown",
   "metadata": {
    "application/vnd.databricks.v1+cell": {
     "cellMetadata": {},
     "inputWidgets": {},
     "nuid": "6bd6a1c4-6664-4dc9-bf3c-1d430241c1bf",
     "showTitle": false,
     "title": ""
    }
   },
   "source": [
    "<p>Alternatively, an empty table structure can be created in the Feature store to be populated later. The command below only creates the structure of the table in Feature Store:</p>"
   ]
  },
  {
   "cell_type": "code",
   "execution_count": null,
   "metadata": {
    "application/vnd.databricks.v1+cell": {
     "cellMetadata": {
      "byteLimit": 2048000,
      "rowLimit": 10000
     },
     "inputWidgets": {},
     "nuid": "971f5cc3-aed0-451e-bff0-bc670bd31b35",
     "showTitle": false,
     "title": ""
    }
   },
   "outputs": [
    {
     "name": "stdout",
     "output_type": "stream",
     "text": [
      "2023/11/22 16:27:21 INFO databricks.feature_store._compute_client._compute_client: Created feature table 'hive_metastore.seaborn_db.taxidataset'.\n"
     ]
    }
   ],
   "source": [
    "customer_feature_table = fs.create_table(\n",
    "  name='hive_metastore.seaborn_db.taxidataset', # format is <catalog_name>.<schema_name>.<table_name>\n",
    "  primary_keys='id',                            # required\n",
    "  schema=taxis_sdf.schema,                      # here only schema is provided, the feature table is created empty\n",
    "  description='Seaborn taxi dataset features'\n",
    ")"
   ]
  },
  {
   "cell_type": "markdown",
   "metadata": {
    "application/vnd.databricks.v1+cell": {
     "cellMetadata": {},
     "inputWidgets": {},
     "nuid": "bf70b9b2-855e-4cfe-8ae7-00565238c904",
     "showTitle": false,
     "title": ""
    }
   },
   "source": [
    "<p>Next step is to write data in it:</p>"
   ]
  },
  {
   "cell_type": "code",
   "execution_count": null,
   "metadata": {
    "application/vnd.databricks.v1+cell": {
     "cellMetadata": {
      "byteLimit": 2048000,
      "rowLimit": 10000
     },
     "inputWidgets": {},
     "nuid": "4611f26d-5325-4178-8531-34cda6e03145",
     "showTitle": false,
     "title": ""
    }
   },
   "outputs": [],
   "source": [
    "fs.write_table(\n",
    "  df=taxis_sdf,\n",
    "  name='seaborn_db.taxidataset',\n",
    "  mode='merge'                   # mode = 'overwrite' could also be used in this particular case\n",
    ")"
   ]
  },
  {
   "cell_type": "markdown",
   "metadata": {
    "application/vnd.databricks.v1+cell": {
     "cellMetadata": {},
     "inputWidgets": {},
     "nuid": "34d0abe2-65cc-466d-9b39-95a695272449",
     "showTitle": false,
     "title": ""
    }
   },
   "source": [
    "<p>Finally, feature store table can be read this way:</p>"
   ]
  },
  {
   "cell_type": "code",
   "execution_count": null,
   "metadata": {
    "application/vnd.databricks.v1+cell": {
     "cellMetadata": {
      "byteLimit": 2048000,
      "rowLimit": 10000
     },
     "inputWidgets": {},
     "nuid": "76b1d93a-94a0-4cac-b546-57e00ee6ce51",
     "showTitle": false,
     "title": ""
    }
   },
   "outputs": [
    {
     "data": {
      "text/html": [
       "<style scoped>\n",
       "  .table-result-container {\n",
       "    max-height: 300px;\n",
       "    overflow: auto;\n",
       "  }\n",
       "  table, th, td {\n",
       "    border: 1px solid black;\n",
       "    border-collapse: collapse;\n",
       "  }\n",
       "  th, td {\n",
       "    padding: 5px;\n",
       "  }\n",
       "  th {\n",
       "    text-align: left;\n",
       "  }\n",
       "</style><div class='table-result-container'><table class='table-result'><thead style='background-color: white'><tr><th>pickup</th><th>dropoff</th><th>passengers</th><th>distance</th><th>fare</th><th>tip</th><th>tolls</th><th>total</th><th>color</th><th>payment</th><th>pickup_zone</th><th>dropoff_zone</th><th>pickup_borough</th><th>dropoff_borough</th><th>id</th></tr></thead><tbody><tr><td>2019-03-17 13:16:13</td><td>2019-03-17 13:40:32</td><td>1</td><td>2.9</td><td>17.0</td><td>0.0</td><td>0.0</td><td>20.3</td><td>yellow</td><td>cash</td><td>Clinton East</td><td>Lenox Hill East</td><td>Manhattan</td><td>Manhattan</td><td>0</td></tr><tr><td>2019-03-22 08:43:39</td><td>2019-03-22 08:51:49</td><td>1</td><td>0.55</td><td>6.5</td><td>1.96</td><td>0.0</td><td>11.76</td><td>yellow</td><td>credit card</td><td>Union Sq</td><td>Murray Hill</td><td>Manhattan</td><td>Manhattan</td><td>1</td></tr><tr><td>2019-03-02 21:42:07</td><td>2019-03-02 22:01:15</td><td>1</td><td>2.5</td><td>13.5</td><td>3.45</td><td>0.0</td><td>20.75</td><td>yellow</td><td>credit card</td><td>SoHo</td><td>Murray Hill</td><td>Manhattan</td><td>Manhattan</td><td>2</td></tr><tr><td>2019-03-13 21:49:00</td><td>2019-03-13 22:02:04</td><td>1</td><td>2.68</td><td>11.0</td><td>1.0</td><td>0.0</td><td>15.8</td><td>yellow</td><td>credit card</td><td>East Chelsea</td><td>Alphabet City</td><td>Manhattan</td><td>Manhattan</td><td>3</td></tr><tr><td>2019-03-03 12:55:38</td><td>2019-03-03 13:01:05</td><td>1</td><td>0.85</td><td>5.5</td><td>0.0</td><td>0.0</td><td>8.8</td><td>yellow</td><td>cash</td><td>Midtown Center</td><td>Murray Hill</td><td>Manhattan</td><td>Manhattan</td><td>4</td></tr></tbody></table></div>"
      ]
     },
     "metadata": {
      "application/vnd.databricks.v1+output": {
       "addedWidgets": {},
       "aggData": [],
       "aggError": "",
       "aggOverflow": false,
       "aggSchema": [],
       "aggSeriesLimitReached": false,
       "aggType": "",
       "arguments": {},
       "columnCustomDisplayInfos": {},
       "data": [
        [
         "2019-03-17 13:16:13",
         "2019-03-17 13:40:32",
         1,
         2.9,
         17,
         0,
         0,
         20.3,
         "yellow",
         "cash",
         "Clinton East",
         "Lenox Hill East",
         "Manhattan",
         "Manhattan",
         0
        ],
        [
         "2019-03-22 08:43:39",
         "2019-03-22 08:51:49",
         1,
         0.55,
         6.5,
         1.96,
         0,
         11.76,
         "yellow",
         "credit card",
         "Union Sq",
         "Murray Hill",
         "Manhattan",
         "Manhattan",
         1
        ],
        [
         "2019-03-02 21:42:07",
         "2019-03-02 22:01:15",
         1,
         2.5,
         13.5,
         3.45,
         0,
         20.75,
         "yellow",
         "credit card",
         "SoHo",
         "Murray Hill",
         "Manhattan",
         "Manhattan",
         2
        ],
        [
         "2019-03-13 21:49:00",
         "2019-03-13 22:02:04",
         1,
         2.68,
         11,
         1,
         0,
         15.8,
         "yellow",
         "credit card",
         "East Chelsea",
         "Alphabet City",
         "Manhattan",
         "Manhattan",
         3
        ],
        [
         "2019-03-03 12:55:38",
         "2019-03-03 13:01:05",
         1,
         0.85,
         5.5,
         0,
         0,
         8.8,
         "yellow",
         "cash",
         "Midtown Center",
         "Murray Hill",
         "Manhattan",
         "Manhattan",
         4
        ]
       ],
       "datasetInfos": [],
       "dbfsResultPath": null,
       "isJsonSchema": true,
       "metadata": {},
       "overflow": false,
       "plotOptions": {
        "customPlotOptions": {},
        "displayType": "table",
        "pivotAggregation": null,
        "pivotColumns": null,
        "xColumns": null,
        "yColumns": null
       },
       "removedWidgets": [],
       "schema": [
        {
         "metadata": "{}",
         "name": "pickup",
         "type": "\"string\""
        },
        {
         "metadata": "{}",
         "name": "dropoff",
         "type": "\"string\""
        },
        {
         "metadata": "{}",
         "name": "passengers",
         "type": "\"long\""
        },
        {
         "metadata": "{}",
         "name": "distance",
         "type": "\"double\""
        },
        {
         "metadata": "{}",
         "name": "fare",
         "type": "\"double\""
        },
        {
         "metadata": "{}",
         "name": "tip",
         "type": "\"double\""
        },
        {
         "metadata": "{}",
         "name": "tolls",
         "type": "\"double\""
        },
        {
         "metadata": "{}",
         "name": "total",
         "type": "\"double\""
        },
        {
         "metadata": "{}",
         "name": "color",
         "type": "\"string\""
        },
        {
         "metadata": "{}",
         "name": "payment",
         "type": "\"string\""
        },
        {
         "metadata": "{}",
         "name": "pickup_zone",
         "type": "\"string\""
        },
        {
         "metadata": "{}",
         "name": "dropoff_zone",
         "type": "\"string\""
        },
        {
         "metadata": "{}",
         "name": "pickup_borough",
         "type": "\"string\""
        },
        {
         "metadata": "{}",
         "name": "dropoff_borough",
         "type": "\"string\""
        },
        {
         "metadata": "{}",
         "name": "id",
         "type": "\"long\""
        }
       ],
       "type": "table"
      }
     },
     "output_type": "display_data"
    }
   ],
   "source": [
    "display(fs.read_table(name='seaborn_db.taxidataset').limit(5))"
   ]
  },
  {
   "cell_type": "markdown",
   "metadata": {
    "application/vnd.databricks.v1+cell": {
     "cellMetadata": {},
     "inputWidgets": {},
     "nuid": "890328ac-571f-47ca-9a4a-cbbdbe12f402",
     "showTitle": false,
     "title": ""
    }
   },
   "source": [
    "<img width=\"1000px\" src=\"https://i.ibb.co/Yy56SQz/unity-catalog-1.png\"/>"
   ]
  }
 ],
 "metadata": {
  "application/vnd.databricks.v1+notebook": {
   "dashboards": [],
   "language": "python",
   "notebookMetadata": {
    "mostRecentlyExecutedCommandWithImplicitDF": {
     "commandId": 886449356054794,
     "dataframes": [
      "_sqldf"
     ]
    },
    "pythonIndentUnit": 2
   },
   "notebookName": "Databricks-ML-professional-S01a-Data-management",
   "widgets": {}
  },
  "kernelspec": {
   "display_name": "Python 3 (ipykernel)",
   "language": "python",
   "name": "python3"
  },
  "language_info": {
   "codemirror_mode": {
    "name": "ipython",
    "version": 3
   },
   "file_extension": ".py",
   "mimetype": "text/x-python",
   "name": "python",
   "nbconvert_exporter": "python",
   "pygments_lexer": "ipython3",
   "version": "3.8.10"
  }
 },
 "nbformat": 4,
 "nbformat_minor": 4
}
