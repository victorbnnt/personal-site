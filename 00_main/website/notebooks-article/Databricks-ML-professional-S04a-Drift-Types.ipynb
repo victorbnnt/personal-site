{
 "cells": [
  {
   "cell_type": "markdown",
   "metadata": {
    "application/vnd.databricks.v1+cell": {
     "cellMetadata": {
      "byteLimit": 2048000,
      "rowLimit": 10000
     },
     "inputWidgets": {},
     "nuid": "58fab4bb-231e-48cf-8ed4-fc15a1b22845",
     "showTitle": false,
     "title": ""
    }
   },
   "source": [
    "<h4 style=\"font-variant-caps: small-caps;font-size:35pt;\">Databricks-ML-professional-S04a-Drift-Types</h4>"
   ]
  },
  {
   "cell_type": "markdown",
   "metadata": {
    "application/vnd.databricks.v1+cell": {
     "cellMetadata": {},
     "inputWidgets": {},
     "nuid": "601e2ce8-2e70-42ab-87ca-ae030d2c2f78",
     "showTitle": false,
     "title": ""
    }
   },
   "source": [
    "<div style='background-color:black;border-radius:5px;border-top:1px solid'></div>\n",
    "<br/>\n",
    "<p>This Notebook adds information related to the following requirements:</p><br/>\n",
    "<b>Drift Types:</b>\n",
    "<ul>\n",
    "<li>Compare and contrast label drift and feature drift</li>\n",
    "<li>Identify scenarios in which feature drift and/or label drift are likely to occur</li>\n",
    "<li>Describe concept drift and its impact on model efficacy</li>\n",
    "</ul>\n",
    "<br/>\n",
    "<p><b>Download this notebook at format ipynb <a href=\"Databricks-ML-professional-S04a-Drift-Types.ipynb\">here</a>.</b></p>\n",
    "<br/>\n",
    "<div style='background-color:black;border-radius:5px;border-top:1px solid'></div>"
   ]
  },
  {
   "cell_type": "markdown",
   "metadata": {
    "application/vnd.databricks.v1+cell": {
     "cellMetadata": {
      "byteLimit": 2048000,
      "rowLimit": 10000
     },
     "inputWidgets": {},
     "nuid": "2d6aaf81-c559-44bd-bc70-25852c40193d",
     "showTitle": false,
     "title": ""
    }
   },
   "source": [
    "<a id=\"drifttypes\"></a>\n",
    "<div style='background-color:rgba(30, 144, 255, 0.1);border-radius:5px;padding:2px;'>\n",
    "<span style=\"font-variant-caps: small-caps;font-weight:700\">1. Compare and contrast label drift and feature drift</span></div>\n",
    "<img width=\"1000px\" src=\"https://i.ibb.co/3W4nWM2/drifts.png\" />\n",
    "<ul>\n",
    "<li><b>Feature drift</b>: a change related to features. Model was trained on a train set at given moment. The time going, data is evolving and the data the model was trained on is not reflecting anymore the current data. Consequently, the model is not able to predict correctly new data. <i>Feature drift occurs when the distribution of input features (the data the model uses to make predictions) changes over time.</i></li>\n",
    "<li><b>Label drift</b>: a change related to target. Model was trained on a train set at given moment. The time going, data is evolving and the data the model was trained on is not reflecting anymore the current data. Consequently, the model is not able to predict correctly new data. <i>Label drift occurs when the distribution of the target variable (the variable the model is predicting) changes over time.</i></li>\n",
    "</ul>\n",
    "<p>Best to avoid these issues is to regularly re-train models taking into account new data.</p>"
   ]
  },
  {
   "cell_type": "markdown",
   "metadata": {
    "application/vnd.databricks.v1+cell": {
     "cellMetadata": {
      "byteLimit": 2048000,
      "rowLimit": 10000
     },
     "inputWidgets": {},
     "nuid": "18e681ce-93ed-4c38-814e-6d851bb56281",
     "showTitle": false,
     "title": ""
    }
   },
   "source": [
    "<a id=\"driftscenarios\"></a>\n",
    "<div style='background-color:rgba(30, 144, 255, 0.1);border-radius:5px;padding:2px;'>\n",
    "<span style=\"font-variant-caps: small-caps;font-weight:700\">2. Identify scenarios in which feature drift and/or label drift are likely to occur</span></div>\n",
    "<p><b>Feature drift examples</b>:</p>\n",
    "<ul><li>\n",
    "<b>Seasonal Changes</b>: In an e-commerce recommendation system, user preferences may change based on seasons. For example, clothing preferences might vary between summer and winter.\n",
    "</li><li><b>Technological Changes</b>: In applications involving sensor data, a software or hardware upgrade might change the way features are recorded or measured.\n",
    "</li><li><b>Policy Changes</b>: If a model is used in a financial system, changes in regulations or policies may lead to shifts in feature distributions.</li></ul>\n",
    "<p><b>Label drift examples</b>:</p>\n",
    "<ul><li>\n",
    "<b>Changing User Behavior</b>: In a spam detection system, user behavior might change over time. What was considered spam previously might be accepted or vice versa.</li><li><b>Evolving Trends</b>: In a stock market prediction model, market conditions may change due to evolving economic trends, impacting the distribution of labels (stock price movements)</li><li><b>Policy or Business Changes</b>: A customer churn prediction model might face label drift if there are changes in how customer churn is defined or measured by the business.</li></ul>"
   ]
  },
  {
   "cell_type": "markdown",
   "metadata": {
    "application/vnd.databricks.v1+cell": {
     "cellMetadata": {},
     "inputWidgets": {},
     "nuid": "9d425d7d-6963-4712-8b0b-f082aa43e8ab",
     "showTitle": false,
     "title": ""
    }
   },
   "source": [
    "<a id=\"driftsimpacts\"></a>\n",
    "<div style='background-color:rgba(30, 144, 255, 0.1);border-radius:5px;padding:2px;'>\n",
    "<span style=\"font-variant-caps: small-caps;font-weight:700\">3. Describe concept drift and its impact on model efficacy</span></div>\n",
    "<p>Concept drift requires more in depth comprehensive analysis of the entire end-to-end pipeline. When concept drift appears, it might mean that the model may not be applicable to the use case anymore. It might eventually be necessary to consider alternative approaches and solutions and redesign the MLOps architecture or redesign the ML algorithms. This should be a work to do in collaboration with the business team.</p>"
   ]
  }
 ],
 "metadata": {
  "application/vnd.databricks.v1+notebook": {
   "dashboards": [],
   "language": "python",
   "notebookMetadata": {
    "mostRecentlyExecutedCommandWithImplicitDF": {
     "commandId": 1158789969180638,
     "dataframes": [
      "_sqldf"
     ]
    },
    "pythonIndentUnit": 2
   },
   "notebookName": "Databricks-ML-professional-S04a-Drift-Types",
   "widgets": {}
  },
  "kernelspec": {
   "display_name": "Python 3 (ipykernel)",
   "language": "python",
   "name": "python3"
  },
  "language_info": {
   "codemirror_mode": {
    "name": "ipython",
    "version": 3
   },
   "file_extension": ".py",
   "mimetype": "text/x-python",
   "name": "python",
   "nbconvert_exporter": "python",
   "pygments_lexer": "ipython3",
   "version": "3.8.10"
  }
 },
 "nbformat": 4,
 "nbformat_minor": 4
}
